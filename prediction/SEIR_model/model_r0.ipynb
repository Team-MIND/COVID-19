{
 "cells": [
  {
   "cell_type": "code",
   "execution_count": null,
   "metadata": {},
   "outputs": [],
   "source": [
    "def get_deltas(case_data): #get dayt over day % change ... doing to find r0 modeling function.... because its not quite logistic\n",
    "    i = 0\n",
    "    ret = [0] #to be same size as data in\n",
    "    while i < len(case_data)-1:\n",
    "        ret.append( (case_data[i+1] - case_data[i])/case_data[i])\n",
    "        i= i+1\n",
    "    \n",
    "    return ret"
   ]
  },
  {
   "cell_type": "code",
   "execution_count": null,
   "metadata": {},
   "outputs": [],
   "source": [
    "p_change_real = get_deltas(t_cases)"
   ]
  },
  {
   "cell_type": "code",
   "execution_count": null,
   "metadata": {},
   "outputs": [],
   "source": [
    "#r0 function analysis... https://scipy-cookbook.readthedocs.io/items/robust_regression.html\n",
    "from scipy.optimize import least_squares\n",
    "\n",
    "def generate_data(t, A, sigma, omega, noise=0, n_outliers=0, random_state=0):\n",
    "    y = A * np.exp(-sigma * t) * np.sin(omega * t)\n",
    "    rnd = np.random.RandomState(random_state)\n",
    "    error = noise * rnd.randn(t.size)\n",
    "    outliers = rnd.randint(0, t.size, n_outliers)\n",
    "    error[outliers] *= 35\n",
    "    return y + error\n",
    "\n",
    "\n",
    "#for residuals\n",
    "def fun(x, t, y):\n",
    "    return x[0] * np.exp(-x[1] * t) * np.sin(x[2] * t) - y\n",
    "\n",
    "x0 = np.ones(3)\n",
    "leng= len(p_change_real)\n",
    "t_train = np.linspace(0,leng,leng)\n",
    "y_train= p_change_real\n",
    "\n",
    "res_robust = least_squares(fun, x0, loss='soft_l1', f_scale=0.1, args=(t_train, y_train))\n",
    "\n",
    "y_robust = generate_data(t_train, *res_robust.x)\n",
    "\n",
    "fig, ax = plt.subplots()\n",
    "ax.plot(t_days, p_change_real, 'o', alpha=0.7, label='daily perecent change')\n",
    "ax.plot(t_days, y_robust, 'r', label='robust lsq')\n",
    "# rotate and align the tick labels so they look better\n",
    "fig.autofmt_xdate()\n",
    "ax.xaxis.set_major_locator(WeekdayLocator(byweekday=MO))"
   ]
  }
 ],
 "metadata": {
  "language_info": {
   "codemirror_mode": {
    "name": "ipython",
    "version": 3
   },
   "file_extension": ".py",
   "mimetype": "text/x-python",
   "name": "python",
   "nbconvert_exporter": "python",
   "pygments_lexer": "ipython3",
   "version": 3
  },
  "orig_nbformat": 2
 },
 "nbformat": 4,
 "nbformat_minor": 2
}