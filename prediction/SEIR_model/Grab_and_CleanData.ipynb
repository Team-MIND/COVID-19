{
 "cells": [
  {
   "cell_type": "code",
   "execution_count": 115,
   "metadata": {},
   "outputs": [],
   "source": [
    "import pandas as pd\n",
    "import os\n",
    "import numpy as np\n",
    "\n",
    "#assumed directory structure......(relevent for data access)\n",
    "#os.listdir()"
   ]
  },
  {
   "cell_type": "code",
   "execution_count": 116,
   "metadata": {},
   "outputs": [],
   "source": [
    "def us_case_data(doc): \n",
    "    \n",
    "    jhu_header='https://raw.githubusercontent.com/CSSEGISandData/COVID-19/master/csse_covid_19_data' \n",
    "    current_data='/csse_covid_19_time_series/'\n",
    "    us_domestic='time_series_covid19_confirmed_US.csv'\n",
    "    url= jhu_header+current_data+us_domestic\n",
    "    \n",
    "    df= pd.read_csv(url)\n",
    "    df.fillna(\"territory\", inplace=True)   #fill in data for non-states trimming!\n",
    "\n",
    "    bad_rows= df[ (df['Lat'] == 0) & (df['Long_'] == 0) ].index    #drop rows with no location \n",
    "    df.drop(bad_rows, axis=0, inplace=True) \n",
    "    df.drop(columns=['UID','iso2','iso3','code3'], axis=1, inplace=True)\n",
    "\n",
    "    df.to_csv(doc, index=False)\n",
    "    return df    "
   ]
  },
  {
   "cell_type": "code",
   "execution_count": 117,
   "metadata": {},
   "outputs": [],
   "source": [
    "# assumes in the folder select all uptodate population data\n",
    "# issue with state populations ie new york so lets parse those out \n",
    "def us_population_data(doc): \n",
    "    \n",
    "    data_path='co-est2019-alldata.csv' \n",
    "    df = pd.read_csv(data_path)\n",
    "\n",
    "    toKeep=['STNAME','CTYNAME']\n",
    "\n",
    "    for i in df.keys():\n",
    "        if (\"2019\" in i):\n",
    "            toKeep.append(i)\n",
    "    Df=df[toKeep]\n",
    "    \n",
    "    toDrop=[]\n",
    "    for i in range(0,(Df.shape)[0]):\n",
    "        if(Df['STNAME'][i] == Df['CTYNAME'][i]):\n",
    "            toDrop.append(i)\n",
    "\n",
    "    #states=Df.loc[toDrop]   \n",
    "    #Dc included twice we want it once\n",
    "    toDrop.remove(327)\n",
    "    Df.drop(toDrop, axis=0, inplace=True)\n",
    "    Df.to_csv(doc, index=False)\n",
    "    \n",
    "    return Df"
   ]
  },
  {
   "cell_type": "code",
   "execution_count": 118,
   "metadata": {
    "scrolled": true
   },
   "outputs": [],
   "source": [
    "# need to remove the state from the geo disp data\n",
    "def us_demographic_data(doc):\n",
    "    folder_path='PEP_2018_PEPAGESEX\\\\'\n",
    "    metadata_path='PEP_2018_PEPAGESEX_metadata.csv' \n",
    "    path=folder_path+metadata_path\n",
    "    \n",
    "    df = pd.read_csv(path)\n",
    "    df.drop(columns=(df.keys()[1]),inplace=True)\n",
    "    df1=df.to_numpy()\n",
    "    toKeep=['GEO.display-label']\n",
    "    for i in df1:\n",
    "        if (\"2018\" in i[0]):\n",
    "            toKeep.append(i[0])\n",
    "\n",
    "    data_path='PEP_2018_PEPAGESEX_with_ann.csv'\n",
    "    path=folder_path+data_path\n",
    "    \n",
    "    dat_df = pd.read_csv(path)\n",
    "    Df=dat_df[toKeep]\n",
    "    Df.drop([0], axis=0, inplace=True)\n",
    "    Df.to_csv(doc, index=False)\n",
    "    \n",
    "    return Df"
   ]
  },
  {
   "cell_type": "code",
   "execution_count": 119,
   "metadata": {},
   "outputs": [],
   "source": [
    "def assemble_us_data(docs, print_tag=False):\n",
    "    Df1=us_case_data(docs[0])\n",
    "    Df2=us_population_data(docs[1])\n",
    "    Df3=us_demographic_data(docs[2])\n",
    "    \n",
    "    if(print_tag):\n",
    "        print(Df1.keys())\n",
    "        print(Df2.keys())\n",
    "        print(Df3.keys())"
   ]
  },
  {
   "cell_type": "code",
   "execution_count": 120,
   "metadata": {},
   "outputs": [],
   "source": [
    "#grab all known data about an area if fips is not -1 then remap it to a real name \n",
    "# add fips later on\n",
    "# clean after test\n",
    "def grab_county_data(csv_names, name, fips =-1,print_tag=False):\n",
    "   \n",
    "    csv_key_cols=['Admin2','CTYNAME','GEO.display-label']\n",
    "\n",
    "    ret=pd.DataFrame([])\n",
    "    for i in range(0, len(csv_names)):\n",
    "        df=pd.read_csv(csv_names[i])\n",
    "        Df=df.loc[df[csv_key_cols[i]].str.contains(name, case=False)]\n",
    "        ret=pd.concat([ret, Df], axis=1)\n",
    "        if(print_tag):\n",
    "            print(Df.shape)\n",
    "        \n",
    "    ret.drop(columns=['STNAME', 'CTYNAME','GEO.display-label'], axis=1, inplace=True)   \n",
    "    return ret"
   ]
  },
  {
   "cell_type": "code",
   "execution_count": 121,
   "metadata": {},
   "outputs": [],
   "source": [
    "# add options to grab county data for subsets its alot otherwise...\n",
    "def grab_case_data(csv_names, name, fips =-1):\n",
    "\n",
    "    df=pd.read_csv(csv_names[0])\n",
    "    Df=df.loc[df['Admin2'].str.contains(name, case=False)]\n",
    "    Df.drop(columns=['FIPS', 'Admin2', 'Province_State', 'Country_Region', 'Lat', 'Long_',\n",
    "       'Combined_Key'], axis=1, inplace=True)\n",
    "    \n",
    "    return Df"
   ]
  },
  {
   "cell_type": "code",
   "execution_count": 122,
   "metadata": {},
   "outputs": [],
   "source": [
    "def grab_cnty_pop(csv_names, name, fips=-1, state=False):\n",
    "    df=pd.read_csv(csv_names[1])\n",
    "    Df=df.loc[df['CTYNAME'].str.contains('new york', case=False)]\n",
    "    \n",
    "    return np.array(Df['POPESTIMATE2019'])[0]"
   ]
  },
  {
   "cell_type": "code",
   "execution_count": 124,
   "metadata": {},
   "outputs": [
    {
     "data": {
      "text/plain": [
       "1628706"
      ]
     },
     "execution_count": 124,
     "metadata": {},
     "output_type": "execute_result"
    }
   ],
   "source": [
    "#tests\n",
    "#csv_names= ['US_case_data.csv','US_pop_data.csv','us_demo_data.csv']\n",
    "#assemble_us_data(csv_names) \n",
    "\n",
    "#grab_cnty_pop(csv_names, 'New york')\n"
   ]
  },
  {
   "cell_type": "code",
   "execution_count": null,
   "metadata": {},
   "outputs": [],
   "source": []
  }
 ],
 "metadata": {
  "kernelspec": {
   "display_name": "Python 3",
   "language": "python",
   "name": "python3"
  },
  "language_info": {
   "codemirror_mode": {
    "name": "ipython",
    "version": 3
   },
   "file_extension": ".py",
   "mimetype": "text/x-python",
   "name": "python",
   "nbconvert_exporter": "python",
   "pygments_lexer": "ipython3",
   "version": "3.7.4"
  }
 },
 "nbformat": 4,
 "nbformat_minor": 2
}