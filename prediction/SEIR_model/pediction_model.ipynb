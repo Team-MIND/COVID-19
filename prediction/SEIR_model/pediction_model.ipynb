{
 "cells": [
  {
   "cell_type": "markdown",
   "metadata": {},
   "source": [
    "# SEIR model statistical prediction "
   ]
  },
  {
   "cell_type": "markdown",
   "metadata": {},
   "source": [
    "# Acknowledgements\n",
    "\n",
    "based off code from: \n",
    "\n",
    "( Joshua McGee )\n",
    "https://www.mathworks.com/matlabcentral/fileexchange/74676-fitviruscv19v3-covid-19-sir-model \n",
    "\n",
    "( Henri Frosse )\n",
    "https://towardsdatascience.com/infectious-disease-modelling-beyond-the-basic-sir-model-216369c584c4"
   ]
  },
  {
   "cell_type": "markdown",
   "metadata": {},
   "source": [
    "# imports"
   ]
  },
  {
   "cell_type": "code",
   "execution_count": 1,
   "metadata": {},
   "outputs": [],
   "source": [
    "from scipy.integrate import odeint\n",
    "import numpy as np\n",
    "import matplotlib.pyplot as plt\n",
    "%matplotlib inline "
   ]
  },
  {
   "cell_type": "markdown",
   "metadata": {},
   "source": [
    "# Constants and Relations"
   ]
  },
  {
   "cell_type": "code",
   "execution_count": 2,
   "metadata": {},
   "outputs": [],
   "source": [
    "#Basics fill in with more accurate data and make program to calcuate from real data....\n",
    "\n",
    "t = np.linspace(0, 100, 100) # Grid of time points (in days)\n",
    "N = 1_600_000 # total popuation\n",
    "Dur = 3.0 #days infective\n",
    "gamma = 1.0 / Dur # recovery ratio\n",
    "delta = 1.0 / 5.0  # 1 / incubation period \n",
    "alpha = 0.2  # death rate \n",
    "rho = 1/5  # 1/ # days from infection until death (death rate)\n",
    "L= 80 # # days from start of outbreak to lockdown\n",
    "\n",
    "#time / action dependent conditions\n",
    "# to make more useful add more time depenedent series / turn this whol thing into a function\n",
    "\n",
    "# simple version\n",
    "# Number an infected person infects on avg given a lockdown L days from t0\n",
    "# def R_0(t): \n",
    "#     return 5.0 if t < L else 0.9\n",
    "# Avg # infected per day by a person, time depended due to R_0\n",
    "# def beta(t): \n",
    "#     return R_0(t) * gamma\n",
    "\n",
    "#logistic R0 change \n",
    "\n",
    "R_0_start, k, x0, R_0_end = 5.0, 0.5, 50, 0.5 \n",
    "# intialR_0, rate of change r_0, infelction pt day #, endvalue R_0\n",
    "\n",
    "def logistic_R_0(t):\n",
    "    return (R_0_start-R_0_end) / (1 + np.exp(-k*(-t+x0))) + R_0_end\n",
    "\n",
    "def beta(t):\n",
    "    return logistic_R_0(t) * gamma\n"
   ]
  },
  {
   "cell_type": "markdown",
   "metadata": {},
   "source": [
    "# Functions"
   ]
  },
  {
   "cell_type": "code",
   "execution_count": 3,
   "metadata": {},
   "outputs": [],
   "source": [
    "# models state transitions as derivatives of change.\n",
    "# notation change in number in state = rate in *prob * pop -rate out *prob*pop\n",
    "#build these flow diagram backwards is a good idea\n",
    "\n",
    "#(S)useptible -> (E)xposed -> (I)nfected -> (R)ecovered\n",
    "#                                       |-> (D)ead)\n",
    "\n",
    "def deriv(y, t, N, beta, gamma, delta, alpha, rho):\n",
    "    S, E, I, R, D = y\n",
    "    dSdt = -beta(t) * S * I / N\n",
    "    dEdt = beta(t) * S * I / N - delta * E\n",
    "    dIdt = delta * E - (1 - alpha) * gamma * I - alpha * rho * I\n",
    "    dRdt = (1 - alpha) * gamma * I\n",
    "    dDdt = alpha * rho * I\n",
    "    return dSdt, dEdt, dIdt, dRdt, dDdt\n"
   ]
  },
  {
   "cell_type": "markdown",
   "metadata": {},
   "source": [
    "# plotting function (base)"
   ]
  },
  {
   "cell_type": "code",
   "execution_count": 4,
   "metadata": {},
   "outputs": [],
   "source": [
    "def plotseird(t, S, E, I, R, D=None, L=None, R0=None, Alpha=None):\n",
    "    \n",
    "  f, ax = plt.subplots(1,1,figsize=(10,4))\n",
    "\n",
    "    # push each plot\n",
    "  #ax.plot(t, S, 'b', alpha=0.7, linewidth=2, label='Susceptible')\n",
    "  ax.plot(t, E, 'y', alpha=0.7, linewidth=2, label='Exposed')\n",
    "  ax.plot(t, I, 'r', alpha=0.7, linewidth=2, label='Infected')\n",
    "  ax.plot(t, R, 'g', alpha=0.7, linewidth=2, label='Recovered')\n",
    "\n",
    "  if D is not None:\n",
    "    ax.plot(t, D, 'k', alpha=0.7, linewidth=2, label='Dead')\n",
    "    #ax.plot(t, S+E+I+R+D, 'c--', alpha=0.7, linewidth=2, label='Total')\n",
    " # else:\n",
    "   # ax.plot(t, S+E+I+R, 'c--', alpha=0.7, linewidth=2, label='Total')\n",
    "\n",
    "  ax.set_xlabel('Time (days)')\n",
    "\n",
    "  ax.yaxis.set_tick_params(length=0)\n",
    "  ax.xaxis.set_tick_params(length=0)\n",
    "  ax.grid(b=True, which='major', c='w', lw=2, ls='-')\n",
    "  legend = ax.legend(borderpad=2.0)\n",
    "  legend.get_frame().set_alpha(0.5)\n",
    "  for spine in ('top', 'right', 'bottom', 'left'):\n",
    "      ax.spines[spine].set_visible(False)\n",
    "  if L is not None:\n",
    "      plt.title(\"Lockdown after {} days\".format(L))\n",
    "  plt.show();\n",
    "\n",
    "  if R0 is not None:\n",
    "    f = plt.figure(figsize=(12,4))\n",
    "  \n",
    "  if R0 is not None:\n",
    "    # sp1\n",
    "    ax1 = f.add_subplot(121)\n",
    "    ax1.plot(t, R0, 'b--', alpha=0.7, linewidth=2, label='R_0')\n",
    "\n",
    "    ax1.set_xlabel('Time (days)')\n",
    "    ax1.title.set_text('R_0 over time')\n",
    "    # ax.set_ylabel('Number (1000s)')\n",
    "    # ax.set_ylim(0,1.2)\n",
    "    ax1.yaxis.set_tick_params(length=0)\n",
    "    ax1.xaxis.set_tick_params(length=0)\n",
    "    ax1.grid(b=True, which='major', c='w', lw=2, ls='-')\n",
    "    legend = ax1.legend()\n",
    "    legend.get_frame().set_alpha(0.5)\n",
    "    for spine in ('top', 'right', 'bottom', 'left'):\n",
    "      ax.spines[spine].set_visible(False)\n",
    "\n",
    "  if Alpha is not None:\n",
    "    # sp2\n",
    "    ax2 = f.add_subplot(122)\n",
    "    ax2.plot(t, Alpha, 'r--', alpha=0.7, linewidth=2, label='alpha')\n",
    "\n",
    "    ax2.set_xlabel('Time (days)')\n",
    "    ax2.title.set_text('fatality rate over time')\n",
    "    # ax.set_ylabel('Number (1000s)')\n",
    "    # ax.set_ylim(0,1.2)\n",
    "    ax2.yaxis.set_tick_params(length=0)\n",
    "    ax2.xaxis.set_tick_params(length=0)\n",
    "    ax2.grid(b=True, which='major', c='w', lw=2, ls='-')\n",
    "    legend = ax2.legend()\n",
    "    legend.get_frame().set_alpha(0.5)\n",
    "    for spine in ('top', 'right', 'bottom', 'left'):\n",
    "      ax.spines[spine].set_visible(False)\n",
    "\n",
    "    plt.show();"
   ]
  },
  {
   "cell_type": "code",
   "execution_count": 5,
   "metadata": {},
   "outputs": [],
   "source": [
    "#S0, E0, I0, R0, D0 = N-1, 1, 0, 0, 0  # initial conditions: one exposed\n",
    "#y0 = S0, E0, I0, R0, D0 # Initial conditions vector\n",
    "\n",
    "#ret = odeint(deriv, y0, t, args=(N, beta, gamma, delta, alpha, rho))\n",
    "#S, E, I, R, D = ret.T"
   ]
  },
  {
   "cell_type": "markdown",
   "metadata": {},
   "source": [
    "# Plot"
   ]
  },
  {
   "cell_type": "code",
   "execution_count": 6,
   "metadata": {},
   "outputs": [],
   "source": [
    "#t = np.linspace(0, 100, 100) # Grid of time points (in days)\n",
    "# to plot R_0 over time: get function values if you want to see it \n",
    "#R0_over_time = [logistic_R_0(i) for i in range(len(t))]\n",
    "\n",
    "#plotseird(t, S, E, I, R, D)"
   ]
  },
  {
   "cell_type": "code",
   "execution_count": null,
   "metadata": {},
   "outputs": [],
   "source": []
  }
 ],
 "metadata": {
  "kernelspec": {
   "display_name": "Python 3",
   "language": "python",
   "name": "python3"
  },
  "language_info": {
   "codemirror_mode": {
    "name": "ipython",
    "version": 3
   },
   "file_extension": ".py",
   "mimetype": "text/x-python",
   "name": "python",
   "nbconvert_exporter": "python",
   "pygments_lexer": "ipython3",
   "version": "3.7.4-final"
  }
 },
 "nbformat": 4,
 "nbformat_minor": 2
}