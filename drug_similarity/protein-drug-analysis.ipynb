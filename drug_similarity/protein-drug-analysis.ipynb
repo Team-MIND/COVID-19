{
 "cells": [
  {
   "cell_type": "code",
   "execution_count": 137,
   "metadata": {},
   "outputs": [],
   "source": [
    "import ast\n",
    "import numpy as np\n",
    "import os\n",
    "import networkx as nx\n",
    "import matplotlib as mpl\n",
    "import matplotlib.pyplot as plt\n",
    "import pandas as pd\n",
    "from numpy import genfromtxt\n",
    "from scipy.io import loadmat\n",
    "import numpy as np\n",
    "import torch\n",
    "import torch.nn as nn\n",
    "import torch.nn.functional as F\n",
    "import time\n",
    "from torch.utils import data\n",
    "import math  \n",
    "from sklearn.model_selection import train_test_split\n",
    "\n",
    "from sklearn.metrics import accuracy_score"
   ]
  },
  {
   "cell_type": "markdown",
   "metadata": {},
   "source": [
    "### Reformat data files "
   ]
  },
  {
   "cell_type": "code",
   "execution_count": 2,
   "metadata": {},
   "outputs": [
    {
     "data": {
      "text/plain": [
       "['Sim_drugsideEffect.txt',\n",
       " 'Sim_drugDisease.txt',\n",
       " 'drugsim2network.txt',\n",
       " 'proteinDisease.txt',\n",
       " 'proteinsim3network.txt',\n",
       " 'proteinsim4network.txt',\n",
       " 'drugsim5network.txt',\n",
       " 'drugdrug.txt',\n",
       " 'proteinsim1network.txt',\n",
       " 'proteinprotein.txt',\n",
       " 'drugDisease.txt',\n",
       " 'drugsim3network.txt',\n",
       " 'proteinsim2network.txt',\n",
       " 'drugsim6network.txt',\n",
       " 'drugsideEffect.txt',\n",
       " 'drugsim1network.txt',\n",
       " 'drugsim4network.txt',\n",
       " 'Sim_proteinDisease.txt']"
      ]
     },
     "execution_count": 2,
     "metadata": {},
     "output_type": "execute_result"
    }
   ],
   "source": [
    "files = os.listdir('./dataset/Networks/')\n",
    "files"
   ]
  },
  {
   "cell_type": "code",
   "execution_count": 3,
   "metadata": {},
   "outputs": [],
   "source": [
    "s = open('./dataset/drug_dict.txt', 'r').read()\n",
    "s = s.replace(\":\",\"\\t\")"
   ]
  },
  {
   "cell_type": "code",
   "execution_count": 4,
   "metadata": {},
   "outputs": [],
   "source": [
    "s = 'Code\\tName\\n' + s\n",
    "file = open('./labels/drug_labels.txt','w+')"
   ]
  },
  {
   "cell_type": "code",
   "execution_count": 5,
   "metadata": {},
   "outputs": [
    {
     "data": {
      "text/plain": [
       "14610"
      ]
     },
     "execution_count": 5,
     "metadata": {},
     "output_type": "execute_result"
    }
   ],
   "source": [
    "file.write(\"\")\n",
    "file.write(s)"
   ]
  },
  {
   "cell_type": "code",
   "execution_count": 6,
   "metadata": {},
   "outputs": [],
   "source": [
    "s = open('./dataset/disease_dict.txt', 'r').read()\n",
    "s = s.replace(\":\",\"\\t\")"
   ]
  },
  {
   "cell_type": "code",
   "execution_count": 7,
   "metadata": {},
   "outputs": [
    {
     "data": {
      "text/plain": [
       "12645"
      ]
     },
     "execution_count": 7,
     "metadata": {},
     "output_type": "execute_result"
    }
   ],
   "source": [
    "s = 'Code\\tName\\n' + s\n",
    "file = open('./labels/disease_labels.txt','w+')\n",
    "file.write(\"\")\n",
    "file.write(s)"
   ]
  },
  {
   "cell_type": "code",
   "execution_count": 8,
   "metadata": {},
   "outputs": [],
   "source": [
    "s = open('./dataset/protein_dict.txt', 'r').read()\n",
    "s = s.replace(\":\",\"\\t\")"
   ]
  },
  {
   "cell_type": "code",
   "execution_count": 9,
   "metadata": {},
   "outputs": [
    {
     "data": {
      "text/plain": [
       "21115"
      ]
     },
     "execution_count": 9,
     "metadata": {},
     "output_type": "execute_result"
    }
   ],
   "source": [
    "s = \"GeneID\\tName\\n\" + s\n",
    "file = open('./labels/protein_labels.txt','w+')\n",
    "file.write(\"\")\n",
    "file.write(s)"
   ]
  },
  {
   "cell_type": "code",
   "execution_count": 10,
   "metadata": {},
   "outputs": [
    {
     "data": {
      "text/html": [
       "\n",
       "        <iframe\n",
       "            width=\"1300\"\n",
       "            height=\"700\"\n",
       "            src=\"https://projector.tensorflow.org/\"\n",
       "            frameborder=\"0\"\n",
       "            allowfullscreen\n",
       "        ></iframe>\n",
       "        "
      ],
      "text/plain": [
       "<IPython.lib.display.IFrame at 0x1a21bc0e90>"
      ]
     },
     "execution_count": 10,
     "metadata": {},
     "output_type": "execute_result"
    }
   ],
   "source": [
    "import IPython\n",
    "url = 'https://projector.tensorflow.org/'\n",
    "\n",
    "IPython.display.IFrame(url, width=1300, height=700)"
   ]
  },
  {
   "cell_type": "markdown",
   "metadata": {},
   "source": [
    "### Opening similarity matricies in numpy"
   ]
  },
  {
   "cell_type": "code",
   "execution_count": 11,
   "metadata": {},
   "outputs": [],
   "source": [
    "p_sequence = genfromtxt('./dataset/Networks/proteinsim1network.txt', delimiter = \"\\t\")\n",
    "p_biological = genfromtxt('./dataset/Networks/proteinsim2network.txt', delimiter = \"\\t\")\n",
    "p_cellular = genfromtxt('./dataset/Networks/proteinsim3network.txt', delimiter = \"\\t\")\n",
    "p_molecular = genfromtxt('./dataset/Networks/proteinsim4network.txt', delimiter = \"\\t\")\n"
   ]
  },
  {
   "cell_type": "code",
   "execution_count": 12,
   "metadata": {},
   "outputs": [
    {
     "data": {
      "text/plain": [
       "(1915, 1915)"
      ]
     },
     "execution_count": 12,
     "metadata": {},
     "output_type": "execute_result"
    }
   ],
   "source": [
    "p_sequence.shape"
   ]
  },
  {
   "cell_type": "code",
   "execution_count": 13,
   "metadata": {},
   "outputs": [
    {
     "data": {
      "text/plain": [
       "(1915, 1915)"
      ]
     },
     "execution_count": 13,
     "metadata": {},
     "output_type": "execute_result"
    }
   ],
   "source": [
    "p_biological.shape"
   ]
  },
  {
   "cell_type": "code",
   "execution_count": 14,
   "metadata": {},
   "outputs": [
    {
     "data": {
      "text/plain": [
       "(1915, 1915)"
      ]
     },
     "execution_count": 14,
     "metadata": {},
     "output_type": "execute_result"
    }
   ],
   "source": [
    "p_cellular.shape"
   ]
  },
  {
   "cell_type": "code",
   "execution_count": 15,
   "metadata": {},
   "outputs": [
    {
     "data": {
      "text/plain": [
       "(1915, 1915)"
      ]
     },
     "execution_count": 15,
     "metadata": {},
     "output_type": "execute_result"
    }
   ],
   "source": [
    "p_molecular.shape"
   ]
  },
  {
   "cell_type": "code",
   "execution_count": 16,
   "metadata": {},
   "outputs": [],
   "source": [
    "p = pd.read_csv('./labels/protein_labels.txt', sep = \"\\t\")"
   ]
  },
  {
   "cell_type": "code",
   "execution_count": 17,
   "metadata": {},
   "outputs": [
    {
     "data": {
      "text/plain": [
       "(1915, 2)"
      ]
     },
     "execution_count": 17,
     "metadata": {},
     "output_type": "execute_result"
    }
   ],
   "source": [
    "p.shape"
   ]
  },
  {
   "cell_type": "code",
   "execution_count": 18,
   "metadata": {},
   "outputs": [],
   "source": [
    "d_chem = genfromtxt('./dataset/Networks/drugsim1network.txt', delimiter = \"\\t\")\n",
    "d_ther = genfromtxt('./dataset/Networks/drugsim2network.txt', delimiter = \"\\t\")\n",
    "d_seq = genfromtxt('./dataset/Networks/drugsim3network.txt', delimiter = \"\\t\")\n",
    "d_bio = genfromtxt('./dataset/Networks/drugsim4network.txt', delimiter = \"\\t\")\n",
    "d_cellular = genfromtxt('./dataset/Networks/drugsim5network.txt', delimiter = \"\\t\")\n",
    "d_molecular = genfromtxt('./dataset/Networks/drugsim6network.txt', delimiter = \"\\t\")\n"
   ]
  },
  {
   "cell_type": "code",
   "execution_count": 19,
   "metadata": {},
   "outputs": [
    {
     "data": {
      "text/plain": [
       "(732, 732)"
      ]
     },
     "execution_count": 19,
     "metadata": {},
     "output_type": "execute_result"
    }
   ],
   "source": [
    "d_chem.shape"
   ]
  },
  {
   "cell_type": "code",
   "execution_count": 20,
   "metadata": {
    "scrolled": true
   },
   "outputs": [
    {
     "data": {
      "text/plain": [
       "(732, 732)"
      ]
     },
     "execution_count": 20,
     "metadata": {},
     "output_type": "execute_result"
    }
   ],
   "source": [
    "d_ther.shape"
   ]
  },
  {
   "cell_type": "code",
   "execution_count": 21,
   "metadata": {},
   "outputs": [
    {
     "data": {
      "text/plain": [
       "(732, 732)"
      ]
     },
     "execution_count": 21,
     "metadata": {},
     "output_type": "execute_result"
    }
   ],
   "source": [
    "d_seq.shape"
   ]
  },
  {
   "cell_type": "code",
   "execution_count": 22,
   "metadata": {},
   "outputs": [
    {
     "data": {
      "text/plain": [
       "(732, 732)"
      ]
     },
     "execution_count": 22,
     "metadata": {},
     "output_type": "execute_result"
    }
   ],
   "source": [
    "d_bio.shape"
   ]
  },
  {
   "cell_type": "code",
   "execution_count": 23,
   "metadata": {
    "scrolled": false
   },
   "outputs": [
    {
     "data": {
      "text/plain": [
       "(732, 732)"
      ]
     },
     "execution_count": 23,
     "metadata": {},
     "output_type": "execute_result"
    }
   ],
   "source": [
    "d_cellular.shape"
   ]
  },
  {
   "cell_type": "code",
   "execution_count": 24,
   "metadata": {},
   "outputs": [
    {
     "data": {
      "text/plain": [
       "(732, 732)"
      ]
     },
     "execution_count": 24,
     "metadata": {},
     "output_type": "execute_result"
    }
   ],
   "source": [
    "d_molecular.shape"
   ]
  },
  {
   "cell_type": "code",
   "execution_count": 25,
   "metadata": {},
   "outputs": [],
   "source": [
    "d = pd.read_csv('./labels/drug_labels.txt', sep = \"\\t\")"
   ]
  },
  {
   "cell_type": "code",
   "execution_count": 26,
   "metadata": {},
   "outputs": [
    {
     "data": {
      "text/plain": [
       "(732, 2)"
      ]
     },
     "execution_count": 26,
     "metadata": {},
     "output_type": "execute_result"
    }
   ],
   "source": [
    "d.shape"
   ]
  },
  {
   "cell_type": "code",
   "execution_count": 27,
   "metadata": {},
   "outputs": [],
   "source": [
    "drug_sim = np.concatenate((d_chem,d_ther,d_seq,d_bio,d_cellular,d_molecular), axis = 1)"
   ]
  },
  {
   "cell_type": "code",
   "execution_count": 28,
   "metadata": {},
   "outputs": [
    {
     "name": "stdout",
     "output_type": "stream",
     "text": [
      "(732, 2)\n",
      "(732, 4392)\n"
     ]
    }
   ],
   "source": [
    "print(d.shape)\n",
    "print(drug_sim.shape)"
   ]
  },
  {
   "cell_type": "code",
   "execution_count": 29,
   "metadata": {},
   "outputs": [],
   "source": [
    "p_sim = np.concatenate((p_sequence,p_biological,p_cellular,p_molecular), axis = 1)"
   ]
  },
  {
   "cell_type": "code",
   "execution_count": 30,
   "metadata": {},
   "outputs": [
    {
     "name": "stdout",
     "output_type": "stream",
     "text": [
      "(1915, 2)\n",
      "(1915, 7660)\n"
     ]
    }
   ],
   "source": [
    "print(p.shape)\n",
    "print(p_sim.shape)"
   ]
  },
  {
   "cell_type": "code",
   "execution_count": 31,
   "metadata": {},
   "outputs": [],
   "source": [
    "protein_to_disease = genfromtxt('./dataset/Networks/proteinDisease.txt', delimiter = \"\\t\")"
   ]
  },
  {
   "cell_type": "code",
   "execution_count": 32,
   "metadata": {},
   "outputs": [
    {
     "data": {
      "text/plain": [
       "(1915, 440)"
      ]
     },
     "execution_count": 32,
     "metadata": {},
     "output_type": "execute_result"
    }
   ],
   "source": [
    "protein_to_disease.shape"
   ]
  },
  {
   "cell_type": "code",
   "execution_count": 33,
   "metadata": {},
   "outputs": [],
   "source": [
    "drug_to_disease = genfromtxt('./dataset/Networks/drugDisease.txt', delimiter = \"\\t\")"
   ]
  },
  {
   "cell_type": "code",
   "execution_count": 34,
   "metadata": {},
   "outputs": [
    {
     "data": {
      "text/plain": [
       "(732, 440)"
      ]
     },
     "execution_count": 34,
     "metadata": {},
     "output_type": "execute_result"
    }
   ],
   "source": [
    "drug_to_disease.shape"
   ]
  },
  {
   "cell_type": "code",
   "execution_count": 35,
   "metadata": {},
   "outputs": [
    {
     "data": {
      "text/plain": [
       "1916"
      ]
     },
     "execution_count": 35,
     "metadata": {},
     "output_type": "execute_result"
    }
   ],
   "source": [
    "protein_labels = []\n",
    "with open('./labels/protein_labels.txt', 'r') as file:\n",
    "    for entry in file:\n",
    "        e = entry.split()\n",
    "        protein_labels.append([e[0],e[1]])\n",
    "len(protein_labels)"
   ]
  },
  {
   "cell_type": "code",
   "execution_count": 36,
   "metadata": {},
   "outputs": [
    {
     "data": {
      "text/plain": [
       "733"
      ]
     },
     "execution_count": 36,
     "metadata": {},
     "output_type": "execute_result"
    }
   ],
   "source": [
    "drug_labels = []\n",
    "with open('./labels/drug_labels.txt', 'r') as file:\n",
    "    for entry in file:\n",
    "        e = entry.split()\n",
    "        drug_labels.append([e[0],e[1]])\n",
    "len(drug_labels)"
   ]
  },
  {
   "cell_type": "code",
   "execution_count": 37,
   "metadata": {},
   "outputs": [
    {
     "data": {
      "text/plain": [
       "441"
      ]
     },
     "execution_count": 37,
     "metadata": {},
     "output_type": "execute_result"
    }
   ],
   "source": [
    "disease_labels = []\n",
    "with open('./labels/disease_labels.txt', 'r') as file:\n",
    "    for entry in file:\n",
    "        e = entry.split()\n",
    "        disease_labels.append([e[0],e[1]])\n",
    "len(disease_labels)"
   ]
  },
  {
   "cell_type": "code",
   "execution_count": 38,
   "metadata": {},
   "outputs": [
    {
     "data": {
      "text/plain": [
       "(array([ 43, 414]),)"
      ]
     },
     "execution_count": 38,
     "metadata": {},
     "output_type": "execute_result"
    }
   ],
   "source": [
    "np.nonzero(drug_to_disease[6])"
   ]
  },
  {
   "cell_type": "markdown",
   "metadata": {},
   "source": [
    "## Protein "
   ]
  },
  {
   "cell_type": "code",
   "execution_count": 39,
   "metadata": {},
   "outputs": [
    {
     "data": {
      "text/plain": [
       "(1915,)"
      ]
     },
     "execution_count": 39,
     "metadata": {},
     "output_type": "execute_result"
    }
   ],
   "source": [
    "np.array(protein_labels)[1:,1].shape"
   ]
  },
  {
   "cell_type": "code",
   "execution_count": 40,
   "metadata": {},
   "outputs": [
    {
     "data": {
      "text/html": [
       "<div>\n",
       "<style scoped>\n",
       "    .dataframe tbody tr th:only-of-type {\n",
       "        vertical-align: middle;\n",
       "    }\n",
       "\n",
       "    .dataframe tbody tr th {\n",
       "        vertical-align: top;\n",
       "    }\n",
       "\n",
       "    .dataframe thead th {\n",
       "        text-align: right;\n",
       "    }\n",
       "</style>\n",
       "<table border=\"1\" class=\"dataframe\">\n",
       "  <thead>\n",
       "    <tr style=\"text-align: right;\">\n",
       "      <th></th>\n",
       "      <th>ADA</th>\n",
       "      <th>AKT3</th>\n",
       "      <th>GNPDA1</th>\n",
       "      <th>HDAC6</th>\n",
       "      <th>HDAC5</th>\n",
       "      <th>CDH5</th>\n",
       "      <th>PARP2</th>\n",
       "      <th>PARP3</th>\n",
       "      <th>ABCC9</th>\n",
       "      <th>NR1H3</th>\n",
       "      <th>...</th>\n",
       "      <th>LCMT2</th>\n",
       "      <th>CDK11B</th>\n",
       "      <th>TLK1</th>\n",
       "      <th>NUAK1</th>\n",
       "      <th>CDC25B</th>\n",
       "      <th>XYLB</th>\n",
       "      <th>OXSR1</th>\n",
       "      <th>HS3ST3A1</th>\n",
       "      <th>NR1I3</th>\n",
       "      <th>NR1H4</th>\n",
       "    </tr>\n",
       "  </thead>\n",
       "  <tbody>\n",
       "    <tr>\n",
       "      <td>ADA</td>\n",
       "      <td>1.00000</td>\n",
       "      <td>0.17464</td>\n",
       "      <td>0.18115</td>\n",
       "      <td>0.12212</td>\n",
       "      <td>0.12048</td>\n",
       "      <td>0.15155</td>\n",
       "      <td>0.16134</td>\n",
       "      <td>0.17552</td>\n",
       "      <td>0.111970</td>\n",
       "      <td>0.16632</td>\n",
       "      <td>...</td>\n",
       "      <td>0.16124</td>\n",
       "      <td>0.15360</td>\n",
       "      <td>0.14452</td>\n",
       "      <td>0.15659</td>\n",
       "      <td>0.16641</td>\n",
       "      <td>0.18432</td>\n",
       "      <td>0.16982</td>\n",
       "      <td>0.16702</td>\n",
       "      <td>0.17293</td>\n",
       "      <td>0.18901</td>\n",
       "    </tr>\n",
       "    <tr>\n",
       "      <td>AKT3</td>\n",
       "      <td>0.17464</td>\n",
       "      <td>1.00000</td>\n",
       "      <td>0.17135</td>\n",
       "      <td>0.13286</td>\n",
       "      <td>0.12915</td>\n",
       "      <td>0.16361</td>\n",
       "      <td>0.17311</td>\n",
       "      <td>0.19167</td>\n",
       "      <td>0.120350</td>\n",
       "      <td>0.17020</td>\n",
       "      <td>...</td>\n",
       "      <td>0.16451</td>\n",
       "      <td>0.18088</td>\n",
       "      <td>0.20220</td>\n",
       "      <td>0.22688</td>\n",
       "      <td>0.16794</td>\n",
       "      <td>0.17156</td>\n",
       "      <td>0.20848</td>\n",
       "      <td>0.16502</td>\n",
       "      <td>0.16963</td>\n",
       "      <td>0.18260</td>\n",
       "    </tr>\n",
       "    <tr>\n",
       "      <td>GNPDA1</td>\n",
       "      <td>0.18115</td>\n",
       "      <td>0.17135</td>\n",
       "      <td>1.00000</td>\n",
       "      <td>0.10141</td>\n",
       "      <td>0.11547</td>\n",
       "      <td>0.13539</td>\n",
       "      <td>0.14144</td>\n",
       "      <td>0.15427</td>\n",
       "      <td>0.096909</td>\n",
       "      <td>0.14411</td>\n",
       "      <td>...</td>\n",
       "      <td>0.13572</td>\n",
       "      <td>0.13165</td>\n",
       "      <td>0.13231</td>\n",
       "      <td>0.13676</td>\n",
       "      <td>0.14607</td>\n",
       "      <td>0.15732</td>\n",
       "      <td>0.16696</td>\n",
       "      <td>0.16979</td>\n",
       "      <td>0.16986</td>\n",
       "      <td>0.16901</td>\n",
       "    </tr>\n",
       "    <tr>\n",
       "      <td>HDAC6</td>\n",
       "      <td>0.12212</td>\n",
       "      <td>0.13286</td>\n",
       "      <td>0.10141</td>\n",
       "      <td>1.00000</td>\n",
       "      <td>0.23806</td>\n",
       "      <td>0.15461</td>\n",
       "      <td>0.13858</td>\n",
       "      <td>0.14042</td>\n",
       "      <td>0.155720</td>\n",
       "      <td>0.13052</td>\n",
       "      <td>...</td>\n",
       "      <td>0.16428</td>\n",
       "      <td>0.14290</td>\n",
       "      <td>0.14300</td>\n",
       "      <td>0.14892</td>\n",
       "      <td>0.13971</td>\n",
       "      <td>0.15183</td>\n",
       "      <td>0.15097</td>\n",
       "      <td>0.12896</td>\n",
       "      <td>0.11390</td>\n",
       "      <td>0.12966</td>\n",
       "    </tr>\n",
       "    <tr>\n",
       "      <td>HDAC5</td>\n",
       "      <td>0.12048</td>\n",
       "      <td>0.12915</td>\n",
       "      <td>0.11547</td>\n",
       "      <td>0.23806</td>\n",
       "      <td>1.00000</td>\n",
       "      <td>0.15737</td>\n",
       "      <td>0.15110</td>\n",
       "      <td>0.16483</td>\n",
       "      <td>0.153120</td>\n",
       "      <td>0.13875</td>\n",
       "      <td>...</td>\n",
       "      <td>0.16029</td>\n",
       "      <td>0.17150</td>\n",
       "      <td>0.16998</td>\n",
       "      <td>0.15272</td>\n",
       "      <td>0.16508</td>\n",
       "      <td>0.14535</td>\n",
       "      <td>0.14645</td>\n",
       "      <td>0.12969</td>\n",
       "      <td>0.11747</td>\n",
       "      <td>0.13939</td>\n",
       "    </tr>\n",
       "    <tr>\n",
       "      <td>...</td>\n",
       "      <td>...</td>\n",
       "      <td>...</td>\n",
       "      <td>...</td>\n",
       "      <td>...</td>\n",
       "      <td>...</td>\n",
       "      <td>...</td>\n",
       "      <td>...</td>\n",
       "      <td>...</td>\n",
       "      <td>...</td>\n",
       "      <td>...</td>\n",
       "      <td>...</td>\n",
       "      <td>...</td>\n",
       "      <td>...</td>\n",
       "      <td>...</td>\n",
       "      <td>...</td>\n",
       "      <td>...</td>\n",
       "      <td>...</td>\n",
       "      <td>...</td>\n",
       "      <td>...</td>\n",
       "      <td>...</td>\n",
       "      <td>...</td>\n",
       "    </tr>\n",
       "    <tr>\n",
       "      <td>XYLB</td>\n",
       "      <td>0.18432</td>\n",
       "      <td>0.17156</td>\n",
       "      <td>0.15732</td>\n",
       "      <td>0.15183</td>\n",
       "      <td>0.14535</td>\n",
       "      <td>0.16592</td>\n",
       "      <td>0.17896</td>\n",
       "      <td>0.17832</td>\n",
       "      <td>0.119700</td>\n",
       "      <td>0.17244</td>\n",
       "      <td>...</td>\n",
       "      <td>0.18343</td>\n",
       "      <td>0.14161</td>\n",
       "      <td>0.16071</td>\n",
       "      <td>0.16676</td>\n",
       "      <td>0.17083</td>\n",
       "      <td>1.00000</td>\n",
       "      <td>0.18651</td>\n",
       "      <td>0.17435</td>\n",
       "      <td>0.16818</td>\n",
       "      <td>0.16896</td>\n",
       "    </tr>\n",
       "    <tr>\n",
       "      <td>OXSR1</td>\n",
       "      <td>0.16982</td>\n",
       "      <td>0.20848</td>\n",
       "      <td>0.16696</td>\n",
       "      <td>0.15097</td>\n",
       "      <td>0.14645</td>\n",
       "      <td>0.18196</td>\n",
       "      <td>0.17470</td>\n",
       "      <td>0.17056</td>\n",
       "      <td>0.127320</td>\n",
       "      <td>0.16274</td>\n",
       "      <td>...</td>\n",
       "      <td>0.17081</td>\n",
       "      <td>0.16070</td>\n",
       "      <td>0.15758</td>\n",
       "      <td>0.24370</td>\n",
       "      <td>0.16200</td>\n",
       "      <td>0.18651</td>\n",
       "      <td>1.00000</td>\n",
       "      <td>0.16340</td>\n",
       "      <td>0.16284</td>\n",
       "      <td>0.17287</td>\n",
       "    </tr>\n",
       "    <tr>\n",
       "      <td>HS3ST3A1</td>\n",
       "      <td>0.16702</td>\n",
       "      <td>0.16502</td>\n",
       "      <td>0.16979</td>\n",
       "      <td>0.12896</td>\n",
       "      <td>0.12969</td>\n",
       "      <td>0.14733</td>\n",
       "      <td>0.16674</td>\n",
       "      <td>0.17147</td>\n",
       "      <td>0.104190</td>\n",
       "      <td>0.17041</td>\n",
       "      <td>...</td>\n",
       "      <td>0.16867</td>\n",
       "      <td>0.14974</td>\n",
       "      <td>0.14583</td>\n",
       "      <td>0.14619</td>\n",
       "      <td>0.17938</td>\n",
       "      <td>0.17435</td>\n",
       "      <td>0.16340</td>\n",
       "      <td>1.00000</td>\n",
       "      <td>0.16560</td>\n",
       "      <td>0.18279</td>\n",
       "    </tr>\n",
       "    <tr>\n",
       "      <td>NR1I3</td>\n",
       "      <td>0.17293</td>\n",
       "      <td>0.16963</td>\n",
       "      <td>0.16986</td>\n",
       "      <td>0.11390</td>\n",
       "      <td>0.11747</td>\n",
       "      <td>0.13349</td>\n",
       "      <td>0.16074</td>\n",
       "      <td>0.17021</td>\n",
       "      <td>0.101710</td>\n",
       "      <td>0.32226</td>\n",
       "      <td>...</td>\n",
       "      <td>0.16026</td>\n",
       "      <td>0.15950</td>\n",
       "      <td>0.14576</td>\n",
       "      <td>0.15114</td>\n",
       "      <td>0.16620</td>\n",
       "      <td>0.16818</td>\n",
       "      <td>0.16284</td>\n",
       "      <td>0.16560</td>\n",
       "      <td>1.00000</td>\n",
       "      <td>0.30444</td>\n",
       "    </tr>\n",
       "    <tr>\n",
       "      <td>NR1H4</td>\n",
       "      <td>0.18901</td>\n",
       "      <td>0.18260</td>\n",
       "      <td>0.16901</td>\n",
       "      <td>0.12966</td>\n",
       "      <td>0.13939</td>\n",
       "      <td>0.14801</td>\n",
       "      <td>0.17028</td>\n",
       "      <td>0.16575</td>\n",
       "      <td>0.116770</td>\n",
       "      <td>0.36915</td>\n",
       "      <td>...</td>\n",
       "      <td>0.15831</td>\n",
       "      <td>0.13691</td>\n",
       "      <td>0.16551</td>\n",
       "      <td>0.16221</td>\n",
       "      <td>0.18241</td>\n",
       "      <td>0.16896</td>\n",
       "      <td>0.17287</td>\n",
       "      <td>0.18279</td>\n",
       "      <td>0.30444</td>\n",
       "      <td>1.00000</td>\n",
       "    </tr>\n",
       "  </tbody>\n",
       "</table>\n",
       "<p>1915 rows × 1915 columns</p>\n",
       "</div>"
      ],
      "text/plain": [
       "              ADA     AKT3   GNPDA1    HDAC6    HDAC5     CDH5    PARP2  \\\n",
       "ADA       1.00000  0.17464  0.18115  0.12212  0.12048  0.15155  0.16134   \n",
       "AKT3      0.17464  1.00000  0.17135  0.13286  0.12915  0.16361  0.17311   \n",
       "GNPDA1    0.18115  0.17135  1.00000  0.10141  0.11547  0.13539  0.14144   \n",
       "HDAC6     0.12212  0.13286  0.10141  1.00000  0.23806  0.15461  0.13858   \n",
       "HDAC5     0.12048  0.12915  0.11547  0.23806  1.00000  0.15737  0.15110   \n",
       "...           ...      ...      ...      ...      ...      ...      ...   \n",
       "XYLB      0.18432  0.17156  0.15732  0.15183  0.14535  0.16592  0.17896   \n",
       "OXSR1     0.16982  0.20848  0.16696  0.15097  0.14645  0.18196  0.17470   \n",
       "HS3ST3A1  0.16702  0.16502  0.16979  0.12896  0.12969  0.14733  0.16674   \n",
       "NR1I3     0.17293  0.16963  0.16986  0.11390  0.11747  0.13349  0.16074   \n",
       "NR1H4     0.18901  0.18260  0.16901  0.12966  0.13939  0.14801  0.17028   \n",
       "\n",
       "            PARP3     ABCC9    NR1H3  ...    LCMT2   CDK11B     TLK1    NUAK1  \\\n",
       "ADA       0.17552  0.111970  0.16632  ...  0.16124  0.15360  0.14452  0.15659   \n",
       "AKT3      0.19167  0.120350  0.17020  ...  0.16451  0.18088  0.20220  0.22688   \n",
       "GNPDA1    0.15427  0.096909  0.14411  ...  0.13572  0.13165  0.13231  0.13676   \n",
       "HDAC6     0.14042  0.155720  0.13052  ...  0.16428  0.14290  0.14300  0.14892   \n",
       "HDAC5     0.16483  0.153120  0.13875  ...  0.16029  0.17150  0.16998  0.15272   \n",
       "...           ...       ...      ...  ...      ...      ...      ...      ...   \n",
       "XYLB      0.17832  0.119700  0.17244  ...  0.18343  0.14161  0.16071  0.16676   \n",
       "OXSR1     0.17056  0.127320  0.16274  ...  0.17081  0.16070  0.15758  0.24370   \n",
       "HS3ST3A1  0.17147  0.104190  0.17041  ...  0.16867  0.14974  0.14583  0.14619   \n",
       "NR1I3     0.17021  0.101710  0.32226  ...  0.16026  0.15950  0.14576  0.15114   \n",
       "NR1H4     0.16575  0.116770  0.36915  ...  0.15831  0.13691  0.16551  0.16221   \n",
       "\n",
       "           CDC25B     XYLB    OXSR1  HS3ST3A1    NR1I3    NR1H4  \n",
       "ADA       0.16641  0.18432  0.16982   0.16702  0.17293  0.18901  \n",
       "AKT3      0.16794  0.17156  0.20848   0.16502  0.16963  0.18260  \n",
       "GNPDA1    0.14607  0.15732  0.16696   0.16979  0.16986  0.16901  \n",
       "HDAC6     0.13971  0.15183  0.15097   0.12896  0.11390  0.12966  \n",
       "HDAC5     0.16508  0.14535  0.14645   0.12969  0.11747  0.13939  \n",
       "...           ...      ...      ...       ...      ...      ...  \n",
       "XYLB      0.17083  1.00000  0.18651   0.17435  0.16818  0.16896  \n",
       "OXSR1     0.16200  0.18651  1.00000   0.16340  0.16284  0.17287  \n",
       "HS3ST3A1  0.17938  0.17435  0.16340   1.00000  0.16560  0.18279  \n",
       "NR1I3     0.16620  0.16818  0.16284   0.16560  1.00000  0.30444  \n",
       "NR1H4     0.18241  0.16896  0.17287   0.18279  0.30444  1.00000  \n",
       "\n",
       "[1915 rows x 1915 columns]"
      ]
     },
     "execution_count": 40,
     "metadata": {},
     "output_type": "execute_result"
    }
   ],
   "source": [
    "protein_sequence_sim = pd.DataFrame(p_sequence, index = np.array(protein_labels)[1:,1], columns = np.array(protein_labels)[1:,1])\n",
    "protein_sequence_sim"
   ]
  },
  {
   "cell_type": "code",
   "execution_count": 41,
   "metadata": {},
   "outputs": [
    {
     "data": {
      "text/html": [
       "<div>\n",
       "<style scoped>\n",
       "    .dataframe tbody tr th:only-of-type {\n",
       "        vertical-align: middle;\n",
       "    }\n",
       "\n",
       "    .dataframe tbody tr th {\n",
       "        vertical-align: top;\n",
       "    }\n",
       "\n",
       "    .dataframe thead th {\n",
       "        text-align: right;\n",
       "    }\n",
       "</style>\n",
       "<table border=\"1\" class=\"dataframe\">\n",
       "  <thead>\n",
       "    <tr style=\"text-align: right;\">\n",
       "      <th></th>\n",
       "      <th>ADA</th>\n",
       "      <th>AKT3</th>\n",
       "      <th>GNPDA1</th>\n",
       "      <th>HDAC6</th>\n",
       "      <th>HDAC5</th>\n",
       "      <th>CDH5</th>\n",
       "      <th>PARP2</th>\n",
       "      <th>PARP3</th>\n",
       "      <th>ABCC9</th>\n",
       "      <th>NR1H3</th>\n",
       "      <th>...</th>\n",
       "      <th>LCMT2</th>\n",
       "      <th>CDK11B</th>\n",
       "      <th>TLK1</th>\n",
       "      <th>NUAK1</th>\n",
       "      <th>CDC25B</th>\n",
       "      <th>XYLB</th>\n",
       "      <th>OXSR1</th>\n",
       "      <th>HS3ST3A1</th>\n",
       "      <th>NR1I3</th>\n",
       "      <th>NR1H4</th>\n",
       "    </tr>\n",
       "  </thead>\n",
       "  <tbody>\n",
       "    <tr>\n",
       "      <td>ADA</td>\n",
       "      <td>1.000</td>\n",
       "      <td>0.217</td>\n",
       "      <td>0.204</td>\n",
       "      <td>0.274</td>\n",
       "      <td>0.309</td>\n",
       "      <td>0.236</td>\n",
       "      <td>0.674</td>\n",
       "      <td>0.375</td>\n",
       "      <td>0.251</td>\n",
       "      <td>0.270</td>\n",
       "      <td>...</td>\n",
       "      <td>0.330</td>\n",
       "      <td>0.327</td>\n",
       "      <td>0.224</td>\n",
       "      <td>0.316</td>\n",
       "      <td>0.234</td>\n",
       "      <td>0.284</td>\n",
       "      <td>0.292</td>\n",
       "      <td>0.360</td>\n",
       "      <td>0.400</td>\n",
       "      <td>0.420</td>\n",
       "    </tr>\n",
       "    <tr>\n",
       "      <td>AKT3</td>\n",
       "      <td>0.217</td>\n",
       "      <td>1.000</td>\n",
       "      <td>0.175</td>\n",
       "      <td>0.288</td>\n",
       "      <td>0.307</td>\n",
       "      <td>0.477</td>\n",
       "      <td>0.298</td>\n",
       "      <td>0.228</td>\n",
       "      <td>0.434</td>\n",
       "      <td>0.235</td>\n",
       "      <td>...</td>\n",
       "      <td>0.121</td>\n",
       "      <td>0.294</td>\n",
       "      <td>0.443</td>\n",
       "      <td>0.476</td>\n",
       "      <td>0.292</td>\n",
       "      <td>0.161</td>\n",
       "      <td>0.473</td>\n",
       "      <td>0.124</td>\n",
       "      <td>0.526</td>\n",
       "      <td>0.328</td>\n",
       "    </tr>\n",
       "    <tr>\n",
       "      <td>GNPDA1</td>\n",
       "      <td>0.204</td>\n",
       "      <td>0.175</td>\n",
       "      <td>1.000</td>\n",
       "      <td>0.188</td>\n",
       "      <td>0.169</td>\n",
       "      <td>0.171</td>\n",
       "      <td>0.274</td>\n",
       "      <td>0.188</td>\n",
       "      <td>0.164</td>\n",
       "      <td>0.132</td>\n",
       "      <td>...</td>\n",
       "      <td>0.173</td>\n",
       "      <td>0.225</td>\n",
       "      <td>0.179</td>\n",
       "      <td>0.198</td>\n",
       "      <td>0.217</td>\n",
       "      <td>0.436</td>\n",
       "      <td>0.205</td>\n",
       "      <td>0.265</td>\n",
       "      <td>0.206</td>\n",
       "      <td>0.190</td>\n",
       "    </tr>\n",
       "    <tr>\n",
       "      <td>HDAC6</td>\n",
       "      <td>0.274</td>\n",
       "      <td>0.288</td>\n",
       "      <td>0.188</td>\n",
       "      <td>1.000</td>\n",
       "      <td>0.523</td>\n",
       "      <td>0.292</td>\n",
       "      <td>0.425</td>\n",
       "      <td>0.320</td>\n",
       "      <td>0.278</td>\n",
       "      <td>0.430</td>\n",
       "      <td>...</td>\n",
       "      <td>0.150</td>\n",
       "      <td>0.358</td>\n",
       "      <td>0.403</td>\n",
       "      <td>0.402</td>\n",
       "      <td>0.301</td>\n",
       "      <td>0.205</td>\n",
       "      <td>0.375</td>\n",
       "      <td>0.184</td>\n",
       "      <td>0.359</td>\n",
       "      <td>0.410</td>\n",
       "    </tr>\n",
       "    <tr>\n",
       "      <td>HDAC5</td>\n",
       "      <td>0.309</td>\n",
       "      <td>0.307</td>\n",
       "      <td>0.169</td>\n",
       "      <td>0.523</td>\n",
       "      <td>1.000</td>\n",
       "      <td>0.310</td>\n",
       "      <td>0.382</td>\n",
       "      <td>0.303</td>\n",
       "      <td>0.273</td>\n",
       "      <td>0.427</td>\n",
       "      <td>...</td>\n",
       "      <td>0.182</td>\n",
       "      <td>0.443</td>\n",
       "      <td>0.347</td>\n",
       "      <td>0.345</td>\n",
       "      <td>0.290</td>\n",
       "      <td>0.194</td>\n",
       "      <td>0.356</td>\n",
       "      <td>0.179</td>\n",
       "      <td>0.481</td>\n",
       "      <td>0.503</td>\n",
       "    </tr>\n",
       "    <tr>\n",
       "      <td>...</td>\n",
       "      <td>...</td>\n",
       "      <td>...</td>\n",
       "      <td>...</td>\n",
       "      <td>...</td>\n",
       "      <td>...</td>\n",
       "      <td>...</td>\n",
       "      <td>...</td>\n",
       "      <td>...</td>\n",
       "      <td>...</td>\n",
       "      <td>...</td>\n",
       "      <td>...</td>\n",
       "      <td>...</td>\n",
       "      <td>...</td>\n",
       "      <td>...</td>\n",
       "      <td>...</td>\n",
       "      <td>...</td>\n",
       "      <td>...</td>\n",
       "      <td>...</td>\n",
       "      <td>...</td>\n",
       "      <td>...</td>\n",
       "      <td>...</td>\n",
       "    </tr>\n",
       "    <tr>\n",
       "      <td>XYLB</td>\n",
       "      <td>0.284</td>\n",
       "      <td>0.161</td>\n",
       "      <td>0.436</td>\n",
       "      <td>0.205</td>\n",
       "      <td>0.194</td>\n",
       "      <td>0.164</td>\n",
       "      <td>0.285</td>\n",
       "      <td>0.242</td>\n",
       "      <td>0.151</td>\n",
       "      <td>0.152</td>\n",
       "      <td>...</td>\n",
       "      <td>0.217</td>\n",
       "      <td>0.277</td>\n",
       "      <td>0.269</td>\n",
       "      <td>0.259</td>\n",
       "      <td>0.282</td>\n",
       "      <td>1.000</td>\n",
       "      <td>0.308</td>\n",
       "      <td>0.554</td>\n",
       "      <td>0.266</td>\n",
       "      <td>0.265</td>\n",
       "    </tr>\n",
       "    <tr>\n",
       "      <td>OXSR1</td>\n",
       "      <td>0.292</td>\n",
       "      <td>0.473</td>\n",
       "      <td>0.205</td>\n",
       "      <td>0.375</td>\n",
       "      <td>0.356</td>\n",
       "      <td>0.385</td>\n",
       "      <td>0.460</td>\n",
       "      <td>0.395</td>\n",
       "      <td>0.423</td>\n",
       "      <td>0.310</td>\n",
       "      <td>...</td>\n",
       "      <td>0.232</td>\n",
       "      <td>0.553</td>\n",
       "      <td>0.672</td>\n",
       "      <td>0.684</td>\n",
       "      <td>0.633</td>\n",
       "      <td>0.308</td>\n",
       "      <td>1.000</td>\n",
       "      <td>0.226</td>\n",
       "      <td>0.532</td>\n",
       "      <td>0.401</td>\n",
       "    </tr>\n",
       "    <tr>\n",
       "      <td>HS3ST3A1</td>\n",
       "      <td>0.360</td>\n",
       "      <td>0.124</td>\n",
       "      <td>0.265</td>\n",
       "      <td>0.184</td>\n",
       "      <td>0.179</td>\n",
       "      <td>0.159</td>\n",
       "      <td>0.290</td>\n",
       "      <td>0.253</td>\n",
       "      <td>0.154</td>\n",
       "      <td>0.165</td>\n",
       "      <td>...</td>\n",
       "      <td>0.316</td>\n",
       "      <td>0.264</td>\n",
       "      <td>0.187</td>\n",
       "      <td>0.197</td>\n",
       "      <td>0.229</td>\n",
       "      <td>0.554</td>\n",
       "      <td>0.226</td>\n",
       "      <td>1.000</td>\n",
       "      <td>0.301</td>\n",
       "      <td>0.318</td>\n",
       "    </tr>\n",
       "    <tr>\n",
       "      <td>NR1I3</td>\n",
       "      <td>0.400</td>\n",
       "      <td>0.526</td>\n",
       "      <td>0.206</td>\n",
       "      <td>0.359</td>\n",
       "      <td>0.481</td>\n",
       "      <td>0.402</td>\n",
       "      <td>0.440</td>\n",
       "      <td>0.344</td>\n",
       "      <td>0.447</td>\n",
       "      <td>0.459</td>\n",
       "      <td>...</td>\n",
       "      <td>0.288</td>\n",
       "      <td>0.449</td>\n",
       "      <td>0.480</td>\n",
       "      <td>0.509</td>\n",
       "      <td>0.332</td>\n",
       "      <td>0.266</td>\n",
       "      <td>0.532</td>\n",
       "      <td>0.301</td>\n",
       "      <td>1.000</td>\n",
       "      <td>0.650</td>\n",
       "    </tr>\n",
       "    <tr>\n",
       "      <td>NR1H4</td>\n",
       "      <td>0.420</td>\n",
       "      <td>0.328</td>\n",
       "      <td>0.190</td>\n",
       "      <td>0.410</td>\n",
       "      <td>0.503</td>\n",
       "      <td>0.321</td>\n",
       "      <td>0.440</td>\n",
       "      <td>0.318</td>\n",
       "      <td>0.359</td>\n",
       "      <td>0.521</td>\n",
       "      <td>...</td>\n",
       "      <td>0.239</td>\n",
       "      <td>0.405</td>\n",
       "      <td>0.340</td>\n",
       "      <td>0.375</td>\n",
       "      <td>0.263</td>\n",
       "      <td>0.265</td>\n",
       "      <td>0.401</td>\n",
       "      <td>0.318</td>\n",
       "      <td>0.650</td>\n",
       "      <td>1.000</td>\n",
       "    </tr>\n",
       "  </tbody>\n",
       "</table>\n",
       "<p>1915 rows × 1915 columns</p>\n",
       "</div>"
      ],
      "text/plain": [
       "            ADA   AKT3  GNPDA1  HDAC6  HDAC5   CDH5  PARP2  PARP3  ABCC9  \\\n",
       "ADA       1.000  0.217   0.204  0.274  0.309  0.236  0.674  0.375  0.251   \n",
       "AKT3      0.217  1.000   0.175  0.288  0.307  0.477  0.298  0.228  0.434   \n",
       "GNPDA1    0.204  0.175   1.000  0.188  0.169  0.171  0.274  0.188  0.164   \n",
       "HDAC6     0.274  0.288   0.188  1.000  0.523  0.292  0.425  0.320  0.278   \n",
       "HDAC5     0.309  0.307   0.169  0.523  1.000  0.310  0.382  0.303  0.273   \n",
       "...         ...    ...     ...    ...    ...    ...    ...    ...    ...   \n",
       "XYLB      0.284  0.161   0.436  0.205  0.194  0.164  0.285  0.242  0.151   \n",
       "OXSR1     0.292  0.473   0.205  0.375  0.356  0.385  0.460  0.395  0.423   \n",
       "HS3ST3A1  0.360  0.124   0.265  0.184  0.179  0.159  0.290  0.253  0.154   \n",
       "NR1I3     0.400  0.526   0.206  0.359  0.481  0.402  0.440  0.344  0.447   \n",
       "NR1H4     0.420  0.328   0.190  0.410  0.503  0.321  0.440  0.318  0.359   \n",
       "\n",
       "          NR1H3  ...  LCMT2  CDK11B   TLK1  NUAK1  CDC25B   XYLB  OXSR1  \\\n",
       "ADA       0.270  ...  0.330   0.327  0.224  0.316   0.234  0.284  0.292   \n",
       "AKT3      0.235  ...  0.121   0.294  0.443  0.476   0.292  0.161  0.473   \n",
       "GNPDA1    0.132  ...  0.173   0.225  0.179  0.198   0.217  0.436  0.205   \n",
       "HDAC6     0.430  ...  0.150   0.358  0.403  0.402   0.301  0.205  0.375   \n",
       "HDAC5     0.427  ...  0.182   0.443  0.347  0.345   0.290  0.194  0.356   \n",
       "...         ...  ...    ...     ...    ...    ...     ...    ...    ...   \n",
       "XYLB      0.152  ...  0.217   0.277  0.269  0.259   0.282  1.000  0.308   \n",
       "OXSR1     0.310  ...  0.232   0.553  0.672  0.684   0.633  0.308  1.000   \n",
       "HS3ST3A1  0.165  ...  0.316   0.264  0.187  0.197   0.229  0.554  0.226   \n",
       "NR1I3     0.459  ...  0.288   0.449  0.480  0.509   0.332  0.266  0.532   \n",
       "NR1H4     0.521  ...  0.239   0.405  0.340  0.375   0.263  0.265  0.401   \n",
       "\n",
       "          HS3ST3A1  NR1I3  NR1H4  \n",
       "ADA          0.360  0.400  0.420  \n",
       "AKT3         0.124  0.526  0.328  \n",
       "GNPDA1       0.265  0.206  0.190  \n",
       "HDAC6        0.184  0.359  0.410  \n",
       "HDAC5        0.179  0.481  0.503  \n",
       "...            ...    ...    ...  \n",
       "XYLB         0.554  0.266  0.265  \n",
       "OXSR1        0.226  0.532  0.401  \n",
       "HS3ST3A1     1.000  0.301  0.318  \n",
       "NR1I3        0.301  1.000  0.650  \n",
       "NR1H4        0.318  0.650  1.000  \n",
       "\n",
       "[1915 rows x 1915 columns]"
      ]
     },
     "execution_count": 41,
     "metadata": {},
     "output_type": "execute_result"
    }
   ],
   "source": [
    "protein_biological_sim = pd.DataFrame(p_biological, index = np.array(protein_labels)[1:,1], columns = np.array(protein_labels)[1:,1])\n",
    "protein_biological_sim"
   ]
  },
  {
   "cell_type": "code",
   "execution_count": 42,
   "metadata": {},
   "outputs": [
    {
     "data": {
      "text/html": [
       "<div>\n",
       "<style scoped>\n",
       "    .dataframe tbody tr th:only-of-type {\n",
       "        vertical-align: middle;\n",
       "    }\n",
       "\n",
       "    .dataframe tbody tr th {\n",
       "        vertical-align: top;\n",
       "    }\n",
       "\n",
       "    .dataframe thead th {\n",
       "        text-align: right;\n",
       "    }\n",
       "</style>\n",
       "<table border=\"1\" class=\"dataframe\">\n",
       "  <thead>\n",
       "    <tr style=\"text-align: right;\">\n",
       "      <th></th>\n",
       "      <th>ADA</th>\n",
       "      <th>AKT3</th>\n",
       "      <th>GNPDA1</th>\n",
       "      <th>HDAC6</th>\n",
       "      <th>HDAC5</th>\n",
       "      <th>CDH5</th>\n",
       "      <th>PARP2</th>\n",
       "      <th>PARP3</th>\n",
       "      <th>ABCC9</th>\n",
       "      <th>NR1H3</th>\n",
       "      <th>...</th>\n",
       "      <th>LCMT2</th>\n",
       "      <th>CDK11B</th>\n",
       "      <th>TLK1</th>\n",
       "      <th>NUAK1</th>\n",
       "      <th>CDC25B</th>\n",
       "      <th>XYLB</th>\n",
       "      <th>OXSR1</th>\n",
       "      <th>HS3ST3A1</th>\n",
       "      <th>NR1I3</th>\n",
       "      <th>NR1H4</th>\n",
       "    </tr>\n",
       "  </thead>\n",
       "  <tbody>\n",
       "    <tr>\n",
       "      <td>ADA</td>\n",
       "      <td>1.000</td>\n",
       "      <td>0.759</td>\n",
       "      <td>0.553</td>\n",
       "      <td>0.606</td>\n",
       "      <td>0.591</td>\n",
       "      <td>0.722</td>\n",
       "      <td>0.407</td>\n",
       "      <td>0.447</td>\n",
       "      <td>0.562</td>\n",
       "      <td>0.402</td>\n",
       "      <td>...</td>\n",
       "      <td>1.000</td>\n",
       "      <td>0.640</td>\n",
       "      <td>0.640</td>\n",
       "      <td>0.577</td>\n",
       "      <td>0.601</td>\n",
       "      <td>0.553</td>\n",
       "      <td>0.553</td>\n",
       "      <td>0.505</td>\n",
       "      <td>0.595</td>\n",
       "      <td>0.295</td>\n",
       "    </tr>\n",
       "    <tr>\n",
       "      <td>AKT3</td>\n",
       "      <td>0.759</td>\n",
       "      <td>1.000</td>\n",
       "      <td>0.596</td>\n",
       "      <td>0.659</td>\n",
       "      <td>0.880</td>\n",
       "      <td>0.506</td>\n",
       "      <td>0.720</td>\n",
       "      <td>0.491</td>\n",
       "      <td>0.537</td>\n",
       "      <td>0.633</td>\n",
       "      <td>...</td>\n",
       "      <td>0.784</td>\n",
       "      <td>0.704</td>\n",
       "      <td>0.704</td>\n",
       "      <td>0.718</td>\n",
       "      <td>0.743</td>\n",
       "      <td>0.596</td>\n",
       "      <td>0.596</td>\n",
       "      <td>0.723</td>\n",
       "      <td>0.833</td>\n",
       "      <td>0.623</td>\n",
       "    </tr>\n",
       "    <tr>\n",
       "      <td>GNPDA1</td>\n",
       "      <td>0.553</td>\n",
       "      <td>0.596</td>\n",
       "      <td>1.000</td>\n",
       "      <td>0.515</td>\n",
       "      <td>0.575</td>\n",
       "      <td>0.319</td>\n",
       "      <td>0.394</td>\n",
       "      <td>0.447</td>\n",
       "      <td>0.260</td>\n",
       "      <td>0.351</td>\n",
       "      <td>...</td>\n",
       "      <td>0.784</td>\n",
       "      <td>0.506</td>\n",
       "      <td>0.506</td>\n",
       "      <td>0.582</td>\n",
       "      <td>0.587</td>\n",
       "      <td>1.000</td>\n",
       "      <td>1.000</td>\n",
       "      <td>0.439</td>\n",
       "      <td>0.627</td>\n",
       "      <td>0.297</td>\n",
       "    </tr>\n",
       "    <tr>\n",
       "      <td>HDAC6</td>\n",
       "      <td>0.606</td>\n",
       "      <td>0.659</td>\n",
       "      <td>0.515</td>\n",
       "      <td>1.000</td>\n",
       "      <td>0.713</td>\n",
       "      <td>0.406</td>\n",
       "      <td>0.560</td>\n",
       "      <td>0.575</td>\n",
       "      <td>0.359</td>\n",
       "      <td>0.549</td>\n",
       "      <td>...</td>\n",
       "      <td>1.000</td>\n",
       "      <td>1.000</td>\n",
       "      <td>1.000</td>\n",
       "      <td>0.678</td>\n",
       "      <td>0.719</td>\n",
       "      <td>0.515</td>\n",
       "      <td>0.515</td>\n",
       "      <td>0.504</td>\n",
       "      <td>0.672</td>\n",
       "      <td>0.445</td>\n",
       "    </tr>\n",
       "    <tr>\n",
       "      <td>HDAC5</td>\n",
       "      <td>0.591</td>\n",
       "      <td>0.880</td>\n",
       "      <td>0.575</td>\n",
       "      <td>0.713</td>\n",
       "      <td>1.000</td>\n",
       "      <td>0.324</td>\n",
       "      <td>0.853</td>\n",
       "      <td>0.491</td>\n",
       "      <td>0.281</td>\n",
       "      <td>0.762</td>\n",
       "      <td>...</td>\n",
       "      <td>0.784</td>\n",
       "      <td>1.000</td>\n",
       "      <td>1.000</td>\n",
       "      <td>0.803</td>\n",
       "      <td>0.772</td>\n",
       "      <td>0.575</td>\n",
       "      <td>0.575</td>\n",
       "      <td>0.723</td>\n",
       "      <td>0.937</td>\n",
       "      <td>0.709</td>\n",
       "    </tr>\n",
       "    <tr>\n",
       "      <td>...</td>\n",
       "      <td>...</td>\n",
       "      <td>...</td>\n",
       "      <td>...</td>\n",
       "      <td>...</td>\n",
       "      <td>...</td>\n",
       "      <td>...</td>\n",
       "      <td>...</td>\n",
       "      <td>...</td>\n",
       "      <td>...</td>\n",
       "      <td>...</td>\n",
       "      <td>...</td>\n",
       "      <td>...</td>\n",
       "      <td>...</td>\n",
       "      <td>...</td>\n",
       "      <td>...</td>\n",
       "      <td>...</td>\n",
       "      <td>...</td>\n",
       "      <td>...</td>\n",
       "      <td>...</td>\n",
       "      <td>...</td>\n",
       "      <td>...</td>\n",
       "    </tr>\n",
       "    <tr>\n",
       "      <td>XYLB</td>\n",
       "      <td>0.553</td>\n",
       "      <td>0.596</td>\n",
       "      <td>1.000</td>\n",
       "      <td>0.515</td>\n",
       "      <td>0.575</td>\n",
       "      <td>0.319</td>\n",
       "      <td>0.394</td>\n",
       "      <td>0.447</td>\n",
       "      <td>0.260</td>\n",
       "      <td>0.351</td>\n",
       "      <td>...</td>\n",
       "      <td>0.784</td>\n",
       "      <td>0.506</td>\n",
       "      <td>0.506</td>\n",
       "      <td>0.582</td>\n",
       "      <td>0.587</td>\n",
       "      <td>1.000</td>\n",
       "      <td>1.000</td>\n",
       "      <td>0.439</td>\n",
       "      <td>0.627</td>\n",
       "      <td>0.297</td>\n",
       "    </tr>\n",
       "    <tr>\n",
       "      <td>OXSR1</td>\n",
       "      <td>0.553</td>\n",
       "      <td>0.596</td>\n",
       "      <td>1.000</td>\n",
       "      <td>0.515</td>\n",
       "      <td>0.575</td>\n",
       "      <td>0.319</td>\n",
       "      <td>0.394</td>\n",
       "      <td>0.447</td>\n",
       "      <td>0.260</td>\n",
       "      <td>0.351</td>\n",
       "      <td>...</td>\n",
       "      <td>0.784</td>\n",
       "      <td>0.506</td>\n",
       "      <td>0.506</td>\n",
       "      <td>0.582</td>\n",
       "      <td>0.587</td>\n",
       "      <td>1.000</td>\n",
       "      <td>1.000</td>\n",
       "      <td>0.439</td>\n",
       "      <td>0.627</td>\n",
       "      <td>0.297</td>\n",
       "    </tr>\n",
       "    <tr>\n",
       "      <td>HS3ST3A1</td>\n",
       "      <td>0.505</td>\n",
       "      <td>0.723</td>\n",
       "      <td>0.439</td>\n",
       "      <td>0.504</td>\n",
       "      <td>0.723</td>\n",
       "      <td>0.299</td>\n",
       "      <td>0.504</td>\n",
       "      <td>0.445</td>\n",
       "      <td>0.299</td>\n",
       "      <td>0.504</td>\n",
       "      <td>...</td>\n",
       "      <td>0.442</td>\n",
       "      <td>0.504</td>\n",
       "      <td>0.504</td>\n",
       "      <td>0.504</td>\n",
       "      <td>0.482</td>\n",
       "      <td>0.439</td>\n",
       "      <td>0.439</td>\n",
       "      <td>1.000</td>\n",
       "      <td>0.504</td>\n",
       "      <td>0.482</td>\n",
       "    </tr>\n",
       "    <tr>\n",
       "      <td>NR1I3</td>\n",
       "      <td>0.595</td>\n",
       "      <td>0.833</td>\n",
       "      <td>0.627</td>\n",
       "      <td>0.672</td>\n",
       "      <td>0.937</td>\n",
       "      <td>0.340</td>\n",
       "      <td>0.887</td>\n",
       "      <td>0.491</td>\n",
       "      <td>0.291</td>\n",
       "      <td>0.749</td>\n",
       "      <td>...</td>\n",
       "      <td>0.784</td>\n",
       "      <td>1.000</td>\n",
       "      <td>1.000</td>\n",
       "      <td>0.833</td>\n",
       "      <td>0.794</td>\n",
       "      <td>0.627</td>\n",
       "      <td>0.627</td>\n",
       "      <td>0.504</td>\n",
       "      <td>1.000</td>\n",
       "      <td>0.734</td>\n",
       "    </tr>\n",
       "    <tr>\n",
       "      <td>NR1H4</td>\n",
       "      <td>0.295</td>\n",
       "      <td>0.623</td>\n",
       "      <td>0.297</td>\n",
       "      <td>0.445</td>\n",
       "      <td>0.709</td>\n",
       "      <td>0.182</td>\n",
       "      <td>0.833</td>\n",
       "      <td>0.533</td>\n",
       "      <td>0.177</td>\n",
       "      <td>0.755</td>\n",
       "      <td>...</td>\n",
       "      <td>0.318</td>\n",
       "      <td>0.661</td>\n",
       "      <td>0.661</td>\n",
       "      <td>0.576</td>\n",
       "      <td>0.604</td>\n",
       "      <td>0.297</td>\n",
       "      <td>0.297</td>\n",
       "      <td>0.482</td>\n",
       "      <td>0.734</td>\n",
       "      <td>1.000</td>\n",
       "    </tr>\n",
       "  </tbody>\n",
       "</table>\n",
       "<p>1915 rows × 1915 columns</p>\n",
       "</div>"
      ],
      "text/plain": [
       "            ADA   AKT3  GNPDA1  HDAC6  HDAC5   CDH5  PARP2  PARP3  ABCC9  \\\n",
       "ADA       1.000  0.759   0.553  0.606  0.591  0.722  0.407  0.447  0.562   \n",
       "AKT3      0.759  1.000   0.596  0.659  0.880  0.506  0.720  0.491  0.537   \n",
       "GNPDA1    0.553  0.596   1.000  0.515  0.575  0.319  0.394  0.447  0.260   \n",
       "HDAC6     0.606  0.659   0.515  1.000  0.713  0.406  0.560  0.575  0.359   \n",
       "HDAC5     0.591  0.880   0.575  0.713  1.000  0.324  0.853  0.491  0.281   \n",
       "...         ...    ...     ...    ...    ...    ...    ...    ...    ...   \n",
       "XYLB      0.553  0.596   1.000  0.515  0.575  0.319  0.394  0.447  0.260   \n",
       "OXSR1     0.553  0.596   1.000  0.515  0.575  0.319  0.394  0.447  0.260   \n",
       "HS3ST3A1  0.505  0.723   0.439  0.504  0.723  0.299  0.504  0.445  0.299   \n",
       "NR1I3     0.595  0.833   0.627  0.672  0.937  0.340  0.887  0.491  0.291   \n",
       "NR1H4     0.295  0.623   0.297  0.445  0.709  0.182  0.833  0.533  0.177   \n",
       "\n",
       "          NR1H3  ...  LCMT2  CDK11B   TLK1  NUAK1  CDC25B   XYLB  OXSR1  \\\n",
       "ADA       0.402  ...  1.000   0.640  0.640  0.577   0.601  0.553  0.553   \n",
       "AKT3      0.633  ...  0.784   0.704  0.704  0.718   0.743  0.596  0.596   \n",
       "GNPDA1    0.351  ...  0.784   0.506  0.506  0.582   0.587  1.000  1.000   \n",
       "HDAC6     0.549  ...  1.000   1.000  1.000  0.678   0.719  0.515  0.515   \n",
       "HDAC5     0.762  ...  0.784   1.000  1.000  0.803   0.772  0.575  0.575   \n",
       "...         ...  ...    ...     ...    ...    ...     ...    ...    ...   \n",
       "XYLB      0.351  ...  0.784   0.506  0.506  0.582   0.587  1.000  1.000   \n",
       "OXSR1     0.351  ...  0.784   0.506  0.506  0.582   0.587  1.000  1.000   \n",
       "HS3ST3A1  0.504  ...  0.442   0.504  0.504  0.504   0.482  0.439  0.439   \n",
       "NR1I3     0.749  ...  0.784   1.000  1.000  0.833   0.794  0.627  0.627   \n",
       "NR1H4     0.755  ...  0.318   0.661  0.661  0.576   0.604  0.297  0.297   \n",
       "\n",
       "          HS3ST3A1  NR1I3  NR1H4  \n",
       "ADA          0.505  0.595  0.295  \n",
       "AKT3         0.723  0.833  0.623  \n",
       "GNPDA1       0.439  0.627  0.297  \n",
       "HDAC6        0.504  0.672  0.445  \n",
       "HDAC5        0.723  0.937  0.709  \n",
       "...            ...    ...    ...  \n",
       "XYLB         0.439  0.627  0.297  \n",
       "OXSR1        0.439  0.627  0.297  \n",
       "HS3ST3A1     1.000  0.504  0.482  \n",
       "NR1I3        0.504  1.000  0.734  \n",
       "NR1H4        0.482  0.734  1.000  \n",
       "\n",
       "[1915 rows x 1915 columns]"
      ]
     },
     "execution_count": 42,
     "metadata": {},
     "output_type": "execute_result"
    }
   ],
   "source": [
    "protein_cellular_sim = pd.DataFrame(p_cellular, index = np.array(protein_labels)[1:,1], columns = np.array(protein_labels)[1:,1])\n",
    "protein_cellular_sim"
   ]
  },
  {
   "cell_type": "code",
   "execution_count": 43,
   "metadata": {},
   "outputs": [
    {
     "data": {
      "text/html": [
       "<div>\n",
       "<style scoped>\n",
       "    .dataframe tbody tr th:only-of-type {\n",
       "        vertical-align: middle;\n",
       "    }\n",
       "\n",
       "    .dataframe tbody tr th {\n",
       "        vertical-align: top;\n",
       "    }\n",
       "\n",
       "    .dataframe thead th {\n",
       "        text-align: right;\n",
       "    }\n",
       "</style>\n",
       "<table border=\"1\" class=\"dataframe\">\n",
       "  <thead>\n",
       "    <tr style=\"text-align: right;\">\n",
       "      <th></th>\n",
       "      <th>ADA</th>\n",
       "      <th>AKT3</th>\n",
       "      <th>GNPDA1</th>\n",
       "      <th>HDAC6</th>\n",
       "      <th>HDAC5</th>\n",
       "      <th>CDH5</th>\n",
       "      <th>PARP2</th>\n",
       "      <th>PARP3</th>\n",
       "      <th>ABCC9</th>\n",
       "      <th>NR1H3</th>\n",
       "      <th>...</th>\n",
       "      <th>LCMT2</th>\n",
       "      <th>CDK11B</th>\n",
       "      <th>TLK1</th>\n",
       "      <th>NUAK1</th>\n",
       "      <th>CDC25B</th>\n",
       "      <th>XYLB</th>\n",
       "      <th>OXSR1</th>\n",
       "      <th>HS3ST3A1</th>\n",
       "      <th>NR1I3</th>\n",
       "      <th>NR1H4</th>\n",
       "    </tr>\n",
       "  </thead>\n",
       "  <tbody>\n",
       "    <tr>\n",
       "      <td>ADA</td>\n",
       "      <td>1.000</td>\n",
       "      <td>0.436</td>\n",
       "      <td>0.623</td>\n",
       "      <td>0.626</td>\n",
       "      <td>0.577</td>\n",
       "      <td>0.703</td>\n",
       "      <td>0.551</td>\n",
       "      <td>0.325</td>\n",
       "      <td>0.397</td>\n",
       "      <td>0.399</td>\n",
       "      <td>...</td>\n",
       "      <td>0.492</td>\n",
       "      <td>0.422</td>\n",
       "      <td>0.472</td>\n",
       "      <td>0.583</td>\n",
       "      <td>0.577</td>\n",
       "      <td>0.188</td>\n",
       "      <td>0.540</td>\n",
       "      <td>0.251</td>\n",
       "      <td>0.217</td>\n",
       "      <td>0.327</td>\n",
       "    </tr>\n",
       "    <tr>\n",
       "      <td>AKT3</td>\n",
       "      <td>0.436</td>\n",
       "      <td>1.000</td>\n",
       "      <td>0.456</td>\n",
       "      <td>0.551</td>\n",
       "      <td>0.493</td>\n",
       "      <td>0.607</td>\n",
       "      <td>0.505</td>\n",
       "      <td>0.318</td>\n",
       "      <td>0.350</td>\n",
       "      <td>0.366</td>\n",
       "      <td>...</td>\n",
       "      <td>0.471</td>\n",
       "      <td>0.925</td>\n",
       "      <td>0.984</td>\n",
       "      <td>0.836</td>\n",
       "      <td>0.451</td>\n",
       "      <td>0.709</td>\n",
       "      <td>0.906</td>\n",
       "      <td>0.358</td>\n",
       "      <td>0.212</td>\n",
       "      <td>0.318</td>\n",
       "    </tr>\n",
       "    <tr>\n",
       "      <td>GNPDA1</td>\n",
       "      <td>0.623</td>\n",
       "      <td>0.456</td>\n",
       "      <td>1.000</td>\n",
       "      <td>0.604</td>\n",
       "      <td>0.553</td>\n",
       "      <td>0.767</td>\n",
       "      <td>0.610</td>\n",
       "      <td>0.360</td>\n",
       "      <td>0.421</td>\n",
       "      <td>0.408</td>\n",
       "      <td>...</td>\n",
       "      <td>0.527</td>\n",
       "      <td>0.437</td>\n",
       "      <td>0.503</td>\n",
       "      <td>0.636</td>\n",
       "      <td>0.592</td>\n",
       "      <td>0.188</td>\n",
       "      <td>0.478</td>\n",
       "      <td>0.251</td>\n",
       "      <td>0.220</td>\n",
       "      <td>0.327</td>\n",
       "    </tr>\n",
       "    <tr>\n",
       "      <td>HDAC6</td>\n",
       "      <td>0.626</td>\n",
       "      <td>0.551</td>\n",
       "      <td>0.604</td>\n",
       "      <td>1.000</td>\n",
       "      <td>0.802</td>\n",
       "      <td>0.672</td>\n",
       "      <td>0.600</td>\n",
       "      <td>0.252</td>\n",
       "      <td>0.467</td>\n",
       "      <td>0.618</td>\n",
       "      <td>...</td>\n",
       "      <td>0.575</td>\n",
       "      <td>0.553</td>\n",
       "      <td>0.571</td>\n",
       "      <td>0.607</td>\n",
       "      <td>0.616</td>\n",
       "      <td>0.144</td>\n",
       "      <td>0.560</td>\n",
       "      <td>0.195</td>\n",
       "      <td>0.282</td>\n",
       "      <td>0.481</td>\n",
       "    </tr>\n",
       "    <tr>\n",
       "      <td>HDAC5</td>\n",
       "      <td>0.577</td>\n",
       "      <td>0.493</td>\n",
       "      <td>0.553</td>\n",
       "      <td>0.802</td>\n",
       "      <td>1.000</td>\n",
       "      <td>0.622</td>\n",
       "      <td>0.549</td>\n",
       "      <td>0.289</td>\n",
       "      <td>0.422</td>\n",
       "      <td>0.640</td>\n",
       "      <td>...</td>\n",
       "      <td>0.523</td>\n",
       "      <td>0.516</td>\n",
       "      <td>0.512</td>\n",
       "      <td>0.560</td>\n",
       "      <td>0.615</td>\n",
       "      <td>0.195</td>\n",
       "      <td>0.500</td>\n",
       "      <td>0.274</td>\n",
       "      <td>0.333</td>\n",
       "      <td>0.447</td>\n",
       "    </tr>\n",
       "    <tr>\n",
       "      <td>...</td>\n",
       "      <td>...</td>\n",
       "      <td>...</td>\n",
       "      <td>...</td>\n",
       "      <td>...</td>\n",
       "      <td>...</td>\n",
       "      <td>...</td>\n",
       "      <td>...</td>\n",
       "      <td>...</td>\n",
       "      <td>...</td>\n",
       "      <td>...</td>\n",
       "      <td>...</td>\n",
       "      <td>...</td>\n",
       "      <td>...</td>\n",
       "      <td>...</td>\n",
       "      <td>...</td>\n",
       "      <td>...</td>\n",
       "      <td>...</td>\n",
       "      <td>...</td>\n",
       "      <td>...</td>\n",
       "      <td>...</td>\n",
       "      <td>...</td>\n",
       "    </tr>\n",
       "    <tr>\n",
       "      <td>XYLB</td>\n",
       "      <td>0.188</td>\n",
       "      <td>0.709</td>\n",
       "      <td>0.188</td>\n",
       "      <td>0.144</td>\n",
       "      <td>0.195</td>\n",
       "      <td>0.128</td>\n",
       "      <td>0.283</td>\n",
       "      <td>0.366</td>\n",
       "      <td>0.163</td>\n",
       "      <td>0.128</td>\n",
       "      <td>...</td>\n",
       "      <td>0.283</td>\n",
       "      <td>0.709</td>\n",
       "      <td>0.630</td>\n",
       "      <td>0.630</td>\n",
       "      <td>0.130</td>\n",
       "      <td>1.000</td>\n",
       "      <td>0.630</td>\n",
       "      <td>0.331</td>\n",
       "      <td>0.128</td>\n",
       "      <td>0.128</td>\n",
       "    </tr>\n",
       "    <tr>\n",
       "      <td>OXSR1</td>\n",
       "      <td>0.540</td>\n",
       "      <td>0.906</td>\n",
       "      <td>0.478</td>\n",
       "      <td>0.560</td>\n",
       "      <td>0.500</td>\n",
       "      <td>0.634</td>\n",
       "      <td>0.508</td>\n",
       "      <td>0.274</td>\n",
       "      <td>0.363</td>\n",
       "      <td>0.386</td>\n",
       "      <td>...</td>\n",
       "      <td>0.469</td>\n",
       "      <td>0.841</td>\n",
       "      <td>0.908</td>\n",
       "      <td>0.760</td>\n",
       "      <td>0.480</td>\n",
       "      <td>0.630</td>\n",
       "      <td>1.000</td>\n",
       "      <td>0.322</td>\n",
       "      <td>0.219</td>\n",
       "      <td>0.330</td>\n",
       "    </tr>\n",
       "    <tr>\n",
       "      <td>HS3ST3A1</td>\n",
       "      <td>0.251</td>\n",
       "      <td>0.358</td>\n",
       "      <td>0.251</td>\n",
       "      <td>0.195</td>\n",
       "      <td>0.274</td>\n",
       "      <td>0.181</td>\n",
       "      <td>0.399</td>\n",
       "      <td>0.527</td>\n",
       "      <td>0.234</td>\n",
       "      <td>0.181</td>\n",
       "      <td>...</td>\n",
       "      <td>0.399</td>\n",
       "      <td>0.358</td>\n",
       "      <td>0.322</td>\n",
       "      <td>0.322</td>\n",
       "      <td>0.185</td>\n",
       "      <td>0.331</td>\n",
       "      <td>0.322</td>\n",
       "      <td>1.000</td>\n",
       "      <td>0.181</td>\n",
       "      <td>0.181</td>\n",
       "    </tr>\n",
       "    <tr>\n",
       "      <td>NR1I3</td>\n",
       "      <td>0.217</td>\n",
       "      <td>0.212</td>\n",
       "      <td>0.220</td>\n",
       "      <td>0.282</td>\n",
       "      <td>0.333</td>\n",
       "      <td>0.247</td>\n",
       "      <td>0.220</td>\n",
       "      <td>0.218</td>\n",
       "      <td>0.288</td>\n",
       "      <td>0.763</td>\n",
       "      <td>...</td>\n",
       "      <td>0.212</td>\n",
       "      <td>0.286</td>\n",
       "      <td>0.219</td>\n",
       "      <td>0.225</td>\n",
       "      <td>0.217</td>\n",
       "      <td>0.128</td>\n",
       "      <td>0.219</td>\n",
       "      <td>0.181</td>\n",
       "      <td>1.000</td>\n",
       "      <td>0.715</td>\n",
       "    </tr>\n",
       "    <tr>\n",
       "      <td>NR1H4</td>\n",
       "      <td>0.327</td>\n",
       "      <td>0.318</td>\n",
       "      <td>0.327</td>\n",
       "      <td>0.481</td>\n",
       "      <td>0.447</td>\n",
       "      <td>0.428</td>\n",
       "      <td>0.327</td>\n",
       "      <td>0.215</td>\n",
       "      <td>0.359</td>\n",
       "      <td>0.698</td>\n",
       "      <td>...</td>\n",
       "      <td>0.316</td>\n",
       "      <td>0.350</td>\n",
       "      <td>0.328</td>\n",
       "      <td>0.354</td>\n",
       "      <td>0.342</td>\n",
       "      <td>0.128</td>\n",
       "      <td>0.330</td>\n",
       "      <td>0.181</td>\n",
       "      <td>0.715</td>\n",
       "      <td>1.000</td>\n",
       "    </tr>\n",
       "  </tbody>\n",
       "</table>\n",
       "<p>1915 rows × 1915 columns</p>\n",
       "</div>"
      ],
      "text/plain": [
       "            ADA   AKT3  GNPDA1  HDAC6  HDAC5   CDH5  PARP2  PARP3  ABCC9  \\\n",
       "ADA       1.000  0.436   0.623  0.626  0.577  0.703  0.551  0.325  0.397   \n",
       "AKT3      0.436  1.000   0.456  0.551  0.493  0.607  0.505  0.318  0.350   \n",
       "GNPDA1    0.623  0.456   1.000  0.604  0.553  0.767  0.610  0.360  0.421   \n",
       "HDAC6     0.626  0.551   0.604  1.000  0.802  0.672  0.600  0.252  0.467   \n",
       "HDAC5     0.577  0.493   0.553  0.802  1.000  0.622  0.549  0.289  0.422   \n",
       "...         ...    ...     ...    ...    ...    ...    ...    ...    ...   \n",
       "XYLB      0.188  0.709   0.188  0.144  0.195  0.128  0.283  0.366  0.163   \n",
       "OXSR1     0.540  0.906   0.478  0.560  0.500  0.634  0.508  0.274  0.363   \n",
       "HS3ST3A1  0.251  0.358   0.251  0.195  0.274  0.181  0.399  0.527  0.234   \n",
       "NR1I3     0.217  0.212   0.220  0.282  0.333  0.247  0.220  0.218  0.288   \n",
       "NR1H4     0.327  0.318   0.327  0.481  0.447  0.428  0.327  0.215  0.359   \n",
       "\n",
       "          NR1H3  ...  LCMT2  CDK11B   TLK1  NUAK1  CDC25B   XYLB  OXSR1  \\\n",
       "ADA       0.399  ...  0.492   0.422  0.472  0.583   0.577  0.188  0.540   \n",
       "AKT3      0.366  ...  0.471   0.925  0.984  0.836   0.451  0.709  0.906   \n",
       "GNPDA1    0.408  ...  0.527   0.437  0.503  0.636   0.592  0.188  0.478   \n",
       "HDAC6     0.618  ...  0.575   0.553  0.571  0.607   0.616  0.144  0.560   \n",
       "HDAC5     0.640  ...  0.523   0.516  0.512  0.560   0.615  0.195  0.500   \n",
       "...         ...  ...    ...     ...    ...    ...     ...    ...    ...   \n",
       "XYLB      0.128  ...  0.283   0.709  0.630  0.630   0.130  1.000  0.630   \n",
       "OXSR1     0.386  ...  0.469   0.841  0.908  0.760   0.480  0.630  1.000   \n",
       "HS3ST3A1  0.181  ...  0.399   0.358  0.322  0.322   0.185  0.331  0.322   \n",
       "NR1I3     0.763  ...  0.212   0.286  0.219  0.225   0.217  0.128  0.219   \n",
       "NR1H4     0.698  ...  0.316   0.350  0.328  0.354   0.342  0.128  0.330   \n",
       "\n",
       "          HS3ST3A1  NR1I3  NR1H4  \n",
       "ADA          0.251  0.217  0.327  \n",
       "AKT3         0.358  0.212  0.318  \n",
       "GNPDA1       0.251  0.220  0.327  \n",
       "HDAC6        0.195  0.282  0.481  \n",
       "HDAC5        0.274  0.333  0.447  \n",
       "...            ...    ...    ...  \n",
       "XYLB         0.331  0.128  0.128  \n",
       "OXSR1        0.322  0.219  0.330  \n",
       "HS3ST3A1     1.000  0.181  0.181  \n",
       "NR1I3        0.181  1.000  0.715  \n",
       "NR1H4        0.181  0.715  1.000  \n",
       "\n",
       "[1915 rows x 1915 columns]"
      ]
     },
     "execution_count": 43,
     "metadata": {},
     "output_type": "execute_result"
    }
   ],
   "source": [
    "protein_molecular_sim = pd.DataFrame(p_molecular, index = np.array(protein_labels)[1:,1], columns = np.array(protein_labels)[1:,1])\n",
    "protein_molecular_sim"
   ]
  },
  {
   "cell_type": "code",
   "execution_count": 92,
   "metadata": {},
   "outputs": [],
   "source": [
    "def drop_and_find(table, to_drop, num):\n",
    "    selected_info = table[to_drop]\n",
    "    selected_info = selected_info.drop(to_drop)\n",
    "    \n",
    "    p_ = table.drop(to_drop, axis = 0)\n",
    "    p_ = p_.drop(to_drop,axis = 1)\n",
    "    \n",
    "    p_l = np.array(protein_labels[1:])\n",
    "    p_l = p_l[p_l[:,1] != to_drop]\n",
    "    \n",
    "    dist = np.sum((p_.values - selected_info.values)**2, axis=1)\n",
    "    \n",
    "    sim_values = np.empty((0,p_.values.shape[0]))\n",
    "    dist_sorted = dist.argsort()\n",
    "    ##UNCOMMENT IF RUNNING FOR RANDOM SELECTION ##\n",
    "    dist_sorted = np.random.choice(dist_sorted[0:60], num, replace = False)\n",
    "    for i in range(0,num):\n",
    "        sim_values = np.append(sim_values, [p_[p_l[dist_sorted[i]][1]].values], axis = 0)\n",
    "        \n",
    "    return np.mean(sim_values, axis = 0)\n",
    "        \n",
    "        \n",
    "def get_similar(num = 1, protein_sel = None):\n",
    "    if protein_sel == None: \n",
    "        protein_sel = np.random.choice(np.array(protein_labels)[1:,1])\n",
    "#     print(protein_sel)\n",
    "    sim_molecular = drop_and_find(protein_molecular_sim, protein_sel, num)\n",
    "    sim_cellular = drop_and_find(protein_cellular_sim, protein_sel, num)\n",
    "    sim_biological = drop_and_find(protein_biological_sim, protein_sel, num)\n",
    "    sim_sequence = drop_and_find(protein_sequence_sim, protein_sel, num)\n",
    "    \n",
    "    p_0 = protein_molecular_sim[protein_sel].drop(protein_sel).values\n",
    "    p_1 = protein_cellular_sim[protein_sel].drop(protein_sel).values\n",
    "    p_2 = protein_biological_sim[protein_sel].drop(protein_sel).values\n",
    "    p_3 = protein_sequence_sim[protein_sel].drop(protein_sel).values\n",
    "    \n",
    "    return np.concatenate((sim_molecular,sim_cellular,sim_biological,sim_sequence)), np.concatenate((p_0,p_1,p_2,p_3))\n",
    "    \n",
    "def get_distance(protein_sel):\n",
    "    p_0 = protein_molecular_sim[protein_sel].drop(protein_sel).values\n",
    "    p_1 = protein_cellular_sim[protein_sel].drop(protein_sel).values\n",
    "    p_2 = protein_biological_sim[protein_sel].drop(protein_sel).values\n",
    "    p_3 = protein_sequence_sim[protein_sel].drop(protein_sel).values\n",
    "    \n",
    "    t_0 = protein_molecular_sim.drop(protein_sel, axis = 0)\n",
    "    t_0 = t_0.drop(protein_sel, axis = 1).values\n",
    "    \n",
    "    t_1 = protein_cellular_sim.drop(protein_sel, axis = 0)\n",
    "    t_1 = t_1.drop(protein_sel, axis = 1).values\n",
    "   \n",
    "    t_2 = protein_biological_sim.drop(protein_sel, axis = 0)\n",
    "    t_2 = t_2.drop(protein_sel, axis = 1).values\n",
    "   \n",
    "    t_3 = protein_sequence_sim.drop(protein_sel, axis = 0)\n",
    "    t_3 = t_3.drop(protein_sel, axis = 1).values\n",
    "    \n",
    "    d = np.concatenate((t_0,t_1,t_2,t_3), axis = 1)\n",
    "    p = np.concatenate((p_0,p_1,p_2,p_3))\n",
    "    return np.sum((np.subtract(d, p))**2, axis = 1)\n",
    "   "
   ]
  },
  {
   "cell_type": "code",
   "execution_count": 45,
   "metadata": {},
   "outputs": [
    {
     "name": "stdout",
     "output_type": "stream",
     "text": [
      "GATM\n"
     ]
    }
   ],
   "source": [
    "### IGNORE TEST CODE\n",
    "protein_sel = np.random.choice(np.array(protein_labels)[1:,1])\n",
    "print(protein_sel)\n",
    "selected_info = protein_molecular_sim[protein_sel]\n",
    "selected_info = selected_info.drop(protein_sel)\n",
    "p_ = protein_molecular_sim.drop(protein_sel, axis = 0)\n",
    "p_ = p_.drop(protein_sel,axis = 1)\n",
    "dist = np.sum((p_.values - selected_info.values)**2, axis=0)\n"
   ]
  },
  {
   "cell_type": "code",
   "execution_count": 46,
   "metadata": {},
   "outputs": [
    {
     "data": {
      "text/plain": [
       "array([1795, 1888, 1508, ..., 1593,  565,  870])"
      ]
     },
     "execution_count": 46,
     "metadata": {},
     "output_type": "execute_result"
    }
   ],
   "source": [
    "dist.argsort()"
   ]
  },
  {
   "cell_type": "code",
   "execution_count": 47,
   "metadata": {},
   "outputs": [
    {
     "data": {
      "text/plain": [
       "1795"
      ]
     },
     "execution_count": 47,
     "metadata": {},
     "output_type": "execute_result"
    }
   ],
   "source": [
    "min_index = dist.argsort()[0]\n",
    "min_index"
   ]
  },
  {
   "cell_type": "code",
   "execution_count": 48,
   "metadata": {},
   "outputs": [
    {
     "data": {
      "text/plain": [
       "7.102587000000037"
      ]
     },
     "execution_count": 48,
     "metadata": {},
     "output_type": "execute_result"
    }
   ],
   "source": [
    "dist[min_index]"
   ]
  },
  {
   "cell_type": "code",
   "execution_count": 49,
   "metadata": {},
   "outputs": [],
   "source": [
    "p_l = np.array(protein_labels[1:])\n",
    "p_l = p_l[p_l[:,1] != protein_sel]"
   ]
  },
  {
   "cell_type": "code",
   "execution_count": 50,
   "metadata": {},
   "outputs": [
    {
     "data": {
      "text/plain": [
       "15.271946999999999"
      ]
     },
     "execution_count": 50,
     "metadata": {},
     "output_type": "execute_result"
    }
   ],
   "source": [
    "np.sum((p_[p_l[min_index][1]].values - selected_info.values)**2, axis = 0)"
   ]
  },
  {
   "cell_type": "code",
   "execution_count": 51,
   "metadata": {},
   "outputs": [
    {
     "data": {
      "text/plain": [
       "5.263025999999999"
      ]
     },
     "execution_count": 51,
     "metadata": {},
     "output_type": "execute_result"
    }
   ],
   "source": [
    "np.sum((drop_and_find(protein_molecular_sim, protein_sel,1) - selected_info.values)**2, axis = 0)"
   ]
  },
  {
   "cell_type": "code",
   "execution_count": 52,
   "metadata": {},
   "outputs": [],
   "source": [
    "pred, act = get_similar(protein_sel = protein_sel, num = 1)"
   ]
  },
  {
   "cell_type": "code",
   "execution_count": 53,
   "metadata": {},
   "outputs": [
    {
     "data": {
      "text/plain": [
       "9.643578884805"
      ]
     },
     "execution_count": 53,
     "metadata": {},
     "output_type": "execute_result"
    }
   ],
   "source": [
    "np.sum((pred-act)**2, axis = 0)"
   ]
  },
  {
   "cell_type": "markdown",
   "metadata": {},
   "source": [
    "### Expiriments: \n",
    "1. Find average/median distance between chosen protein and all others\n",
    "2. Find best number of proteins to use for mean\n",
    "3. Try picking x of y closest proteins, what number works well \n",
    "\n",
    "10 used : ['CARS' 'RELA' 'DDR2' 'NNT' 'CA1' 'AKT2' 'HTR3A' 'SLC5A1' 'STK39' 'IMPDH2']\n",
    "\n",
    "\n",
    "100 used : ['CARS' 'RELA' 'DDR2' 'NNT' 'CA1' 'AKT2' 'HTR3A' 'SLC5A1' 'STK39' 'IMPDH2'\n",
    " 'NDUFS7' 'PPP2CA' 'RETSAT' 'NAGK' 'NARS2' 'SDS' 'EARS2' 'AZGP1' 'CTSL1'\n",
    " 'MDH2' 'FUCA1' 'SHH' 'MAP3K2' 'PIM3' 'GSTM3' 'PSAT1' 'PPIG' 'CHRFAM7A'\n",
    " 'CALR' 'CYP2J2' 'PLK1' 'CYP2C8' 'RPL23' 'RORC' 'SPTLC1' 'CAMK2G' 'TH'\n",
    " 'TLR8' 'NDUFB1' 'TNNI3K' 'DCK' 'COPG1' 'MAPK6' 'RYR1' 'ARPC4' 'RSL24D1'\n",
    " 'NAE1' 'IGFBP3' 'CHRNA3' 'ADAM17' 'MAPKAPK5' 'CYSLTR1' 'TARS' 'PLA2G4A'\n",
    " 'FCGR1A' 'TARS2' 'S100A4' 'SPTLC2' 'SLC6A4' 'IVD' 'GUSB' 'NR0B2' 'CXCL1'\n",
    " 'C1R' 'FRK' 'ALDOA' 'DDAH2' 'CATSPER4' 'GABRA3' 'CD3D' 'ACVRL1' 'HDAC11'\n",
    " 'GRK1' 'CHRNA2' 'NUAK1' 'PDHA1' 'HSD17B1' 'RBM14' 'AGXT2' 'PRDX2' 'LCT'\n",
    " 'UGDH' 'BLM' 'ALPP' 'CKB' 'HIPK2' 'GRIK4' 'GNRHR' 'CLK2' 'PLEKHA4' 'GLI1'\n",
    " 'IMMT' 'RRM2B' 'SOD1' 'CDK6' 'TLR9' 'KCNMB4' 'CATSPER2' 'MMP16' 'ACSS2']"
   ]
  },
  {
   "cell_type": "code",
   "execution_count": 54,
   "metadata": {},
   "outputs": [
    {
     "name": "stdout",
     "output_type": "stream",
     "text": [
      "8.652272768798\n",
      "26.397612921816002\n"
     ]
    }
   ],
   "source": [
    "protein_sel = np.random.choice(np.array(protein_labels)[1:,1])\n",
    "distances = get_distance(protein_sel)\n",
    "print(min(distances))\n",
    "pred, act = get_similar(protein_sel = protein_sel, num = 1)\n",
    "print(np.sum((pred-act)**2, axis = 0))"
   ]
  },
  {
   "cell_type": "code",
   "execution_count": 86,
   "metadata": {},
   "outputs": [
    {
     "name": "stdout",
     "output_type": "stream",
     "text": [
      "['CARS' 'RELA' 'DDR2' 'NNT' 'CA1' 'AKT2' 'HTR3A' 'SLC5A1' 'STK39' 'IMPDH2'\n",
      " 'NDUFS7' 'PPP2CA' 'RETSAT' 'NAGK' 'NARS2' 'SDS' 'EARS2' 'AZGP1' 'CTSL1'\n",
      " 'MDH2' 'FUCA1' 'SHH' 'MAP3K2' 'PIM3' 'GSTM3' 'PSAT1' 'PPIG' 'CHRFAM7A'\n",
      " 'CALR' 'CYP2J2' 'PLK1' 'CYP2C8' 'RPL23' 'RORC' 'SPTLC1' 'CAMK2G' 'TH'\n",
      " 'TLR8' 'NDUFB1' 'TNNI3K' 'DCK' 'COPG1' 'MAPK6' 'RYR1' 'ARPC4' 'RSL24D1'\n",
      " 'NAE1' 'IGFBP3' 'CHRNA3' 'ADAM17' 'MAPKAPK5' 'CYSLTR1' 'TARS' 'PLA2G4A'\n",
      " 'FCGR1A' 'TARS2' 'S100A4' 'SPTLC2' 'SLC6A4' 'IVD' 'GUSB' 'NR0B2' 'CXCL1'\n",
      " 'C1R' 'FRK' 'ALDOA' 'DDAH2' 'CATSPER4' 'GABRA3' 'CD3D' 'ACVRL1' 'HDAC11'\n",
      " 'GRK1' 'CHRNA2' 'NUAK1' 'PDHA1' 'HSD17B1' 'RBM14' 'AGXT2' 'PRDX2' 'LCT'\n",
      " 'UGDH' 'BLM' 'ALPP' 'CKB' 'HIPK2' 'GRIK4' 'GNRHR' 'CLK2' 'PLEKHA4' 'GLI1'\n",
      " 'IMMT' 'RRM2B' 'SOD1' 'CDK6' 'TLR9' 'KCNMB4' 'CATSPER2' 'MMP16' 'ACSS2']\n"
     ]
    },
    {
     "data": {
      "image/png": "[encoded data removed]",
      "text/plain": [
       "<Figure size 432x288 with 1 Axes>"
      ]
     },
     "metadata": {
      "needs_background": "light"
     },
     "output_type": "display_data"
    }
   ],
   "source": [
    "dist_list = []\n",
    "min_dist = []\n",
    "np.random.seed(4)\n",
    "l = np.random.choice(np.array(protein_labels)[1:,1], 100, replace = False)\n",
    "print(l)\n",
    "for n in range(1,10):\n",
    "    dl_ = []\n",
    "    ml_ = []\n",
    "    for protein_sel in l:\n",
    "        distances = get_distance(protein_sel)\n",
    "        ml_.append(min(distances))\n",
    "        pred, act = get_similar(protein_sel = protein_sel, num = n)\n",
    "        dl_.append(np.sum((pred-act)**2, axis = 0))\n",
    "    dist_list.append(np.mean(dl_))\n",
    "    min_dist.append(np.mean(ml_))\n",
    "        \n",
    "plt.plot(range(1,10), dist_list, range(1,10), min_dist) \n",
    "axes = plt.gca()\n",
    "plt.title(\"Closest protein vs created protein\")\n",
    "plt.xlabel(\"Number of protein used\")\n",
    "plt.ylabel(\"Difference\")\n",
    "axes.set_ylim([0,35])\n",
    "plt.show()"
   ]
  },
  {
   "cell_type": "code",
   "execution_count": 88,
   "metadata": {},
   "outputs": [
    {
     "name": "stdout",
     "output_type": "stream",
     "text": [
      "['CARS' 'RELA' 'DDR2' 'NNT' 'CA1' 'AKT2' 'HTR3A' 'SLC5A1' 'STK39' 'IMPDH2'\n",
      " 'NDUFS7' 'PPP2CA' 'RETSAT' 'NAGK' 'NARS2' 'SDS' 'EARS2' 'AZGP1' 'CTSL1'\n",
      " 'MDH2' 'FUCA1' 'SHH' 'MAP3K2' 'PIM3' 'GSTM3' 'PSAT1' 'PPIG' 'CHRFAM7A'\n",
      " 'CALR' 'CYP2J2' 'PLK1' 'CYP2C8' 'RPL23' 'RORC' 'SPTLC1' 'CAMK2G' 'TH'\n",
      " 'TLR8' 'NDUFB1' 'TNNI3K' 'DCK' 'COPG1' 'MAPK6' 'RYR1' 'ARPC4' 'RSL24D1'\n",
      " 'NAE1' 'IGFBP3' 'CHRNA3' 'ADAM17' 'MAPKAPK5' 'CYSLTR1' 'TARS' 'PLA2G4A'\n",
      " 'FCGR1A' 'TARS2' 'S100A4' 'SPTLC2' 'SLC6A4' 'IVD' 'GUSB' 'NR0B2' 'CXCL1'\n",
      " 'C1R' 'FRK' 'ALDOA' 'DDAH2' 'CATSPER4' 'GABRA3' 'CD3D' 'ACVRL1' 'HDAC11'\n",
      " 'GRK1' 'CHRNA2' 'NUAK1' 'PDHA1' 'HSD17B1' 'RBM14' 'AGXT2' 'PRDX2' 'LCT'\n",
      " 'UGDH' 'BLM' 'ALPP' 'CKB' 'HIPK2' 'GRIK4' 'GNRHR' 'CLK2' 'PLEKHA4' 'GLI1'\n",
      " 'IMMT' 'RRM2B' 'SOD1' 'CDK6' 'TLR9' 'KCNMB4' 'CATSPER2' 'MMP16' 'ACSS2']\n"
     ]
    },
    {
     "data": {
      "image/png": "[encoded data removed]",
      "text/plain": [
       "<Figure size 432x288 with 1 Axes>"
      ]
     },
     "metadata": {
      "needs_background": "light"
     },
     "output_type": "display_data"
    }
   ],
   "source": [
    "### picking out of 20 closest ###\n",
    "dist_list = []\n",
    "min_dist = []\n",
    "np.random.seed(4)\n",
    "l = np.random.choice(np.array(protein_labels)[1:,1], 100, replace = False)\n",
    "print(l)\n",
    "for n in range(1,10):\n",
    "    d_ = []\n",
    "    m_ = []\n",
    "    for protein_sel in l:\n",
    "        distances = get_distance(protein_sel)\n",
    "        m_.append(min(distances))\n",
    "        pred, act = get_similar(protein_sel = protein_sel, num = n)\n",
    "        d_.append(np.sum((pred-act)**2, axis = 0))\n",
    "    dist_list.append(np.mean(d_))\n",
    "    min_dist.append(np.mean(m_))\n",
    "        \n",
    "plt.plot(range(1,10), dist_list, range(1,10), min_dist)  \n",
    "plt.title(\"Closest protein vs created protein with 20 closest\")\n",
    "plt.xlabel(\"Number of proteins chosen at random\")\n",
    "plt.ylabel(\"Difference\")\n",
    "axes = plt.gca()\n",
    "axes.set_ylim([0,35])\n",
    "plt.show()"
   ]
  },
  {
   "cell_type": "code",
   "execution_count": 91,
   "metadata": {},
   "outputs": [
    {
     "name": "stdout",
     "output_type": "stream",
     "text": [
      "['CARS' 'RELA' 'DDR2' 'NNT' 'CA1' 'AKT2' 'HTR3A' 'SLC5A1' 'STK39' 'IMPDH2'\n",
      " 'NDUFS7' 'PPP2CA' 'RETSAT' 'NAGK' 'NARS2' 'SDS' 'EARS2' 'AZGP1' 'CTSL1'\n",
      " 'MDH2' 'FUCA1' 'SHH' 'MAP3K2' 'PIM3' 'GSTM3' 'PSAT1' 'PPIG' 'CHRFAM7A'\n",
      " 'CALR' 'CYP2J2' 'PLK1' 'CYP2C8' 'RPL23' 'RORC' 'SPTLC1' 'CAMK2G' 'TH'\n",
      " 'TLR8' 'NDUFB1' 'TNNI3K' 'DCK' 'COPG1' 'MAPK6' 'RYR1' 'ARPC4' 'RSL24D1'\n",
      " 'NAE1' 'IGFBP3' 'CHRNA3' 'ADAM17' 'MAPKAPK5' 'CYSLTR1' 'TARS' 'PLA2G4A'\n",
      " 'FCGR1A' 'TARS2' 'S100A4' 'SPTLC2' 'SLC6A4' 'IVD' 'GUSB' 'NR0B2' 'CXCL1'\n",
      " 'C1R' 'FRK' 'ALDOA' 'DDAH2' 'CATSPER4' 'GABRA3' 'CD3D' 'ACVRL1' 'HDAC11'\n",
      " 'GRK1' 'CHRNA2' 'NUAK1' 'PDHA1' 'HSD17B1' 'RBM14' 'AGXT2' 'PRDX2' 'LCT'\n",
      " 'UGDH' 'BLM' 'ALPP' 'CKB' 'HIPK2' 'GRIK4' 'GNRHR' 'CLK2' 'PLEKHA4' 'GLI1'\n",
      " 'IMMT' 'RRM2B' 'SOD1' 'CDK6' 'TLR9' 'KCNMB4' 'CATSPER2' 'MMP16' 'ACSS2']\n"
     ]
    },
    {
     "data": {
      "image/png": "[encoded data removed]",
      "text/plain": [
       "<Figure size 432x288 with 1 Axes>"
      ]
     },
     "metadata": {
      "needs_background": "light"
     },
     "output_type": "display_data"
    }
   ],
   "source": [
    "### picking out of 40 closest ###\n",
    "dist_list = []\n",
    "min_dist = []\n",
    "np.random.seed(4)\n",
    "l = np.random.choice(np.array(protein_labels)[1:,1], 100, replace = False)\n",
    "print(l)\n",
    "for n in range(1,10):\n",
    "    d_ = []\n",
    "    m_ = []\n",
    "    for protein_sel in l:\n",
    "        distances = get_distance(protein_sel)\n",
    "        m_.append(min(distances))\n",
    "        pred, act = get_similar(protein_sel = protein_sel, num = n)\n",
    "        d_.append(np.sum((pred-act)**2, axis = 0))\n",
    "    dist_list.append(np.mean(d_))\n",
    "    min_dist.append(np.mean(m_))\n",
    "        \n",
    "plt.plot(range(1,10), dist_list, range(1,10), min_dist)  \n",
    "plt.title(\"Closest protein vs created protein with 40 closest\")\n",
    "plt.xlabel(\"Number of proteins chosen at random\")\n",
    "plt.ylabel(\"Difference\")\n",
    "axes = plt.gca()\n",
    "axes.set_ylim([0,35])\n",
    "plt.show()"
   ]
  },
  {
   "cell_type": "code",
   "execution_count": 93,
   "metadata": {},
   "outputs": [
    {
     "name": "stdout",
     "output_type": "stream",
     "text": [
      "['CARS' 'RELA' 'DDR2' 'NNT' 'CA1' 'AKT2' 'HTR3A' 'SLC5A1' 'STK39' 'IMPDH2'\n",
      " 'NDUFS7' 'PPP2CA' 'RETSAT' 'NAGK' 'NARS2' 'SDS' 'EARS2' 'AZGP1' 'CTSL1'\n",
      " 'MDH2' 'FUCA1' 'SHH' 'MAP3K2' 'PIM3' 'GSTM3' 'PSAT1' 'PPIG' 'CHRFAM7A'\n",
      " 'CALR' 'CYP2J2' 'PLK1' 'CYP2C8' 'RPL23' 'RORC' 'SPTLC1' 'CAMK2G' 'TH'\n",
      " 'TLR8' 'NDUFB1' 'TNNI3K' 'DCK' 'COPG1' 'MAPK6' 'RYR1' 'ARPC4' 'RSL24D1'\n",
      " 'NAE1' 'IGFBP3' 'CHRNA3' 'ADAM17' 'MAPKAPK5' 'CYSLTR1' 'TARS' 'PLA2G4A'\n",
      " 'FCGR1A' 'TARS2' 'S100A4' 'SPTLC2' 'SLC6A4' 'IVD' 'GUSB' 'NR0B2' 'CXCL1'\n",
      " 'C1R' 'FRK' 'ALDOA' 'DDAH2' 'CATSPER4' 'GABRA3' 'CD3D' 'ACVRL1' 'HDAC11'\n",
      " 'GRK1' 'CHRNA2' 'NUAK1' 'PDHA1' 'HSD17B1' 'RBM14' 'AGXT2' 'PRDX2' 'LCT'\n",
      " 'UGDH' 'BLM' 'ALPP' 'CKB' 'HIPK2' 'GRIK4' 'GNRHR' 'CLK2' 'PLEKHA4' 'GLI1'\n",
      " 'IMMT' 'RRM2B' 'SOD1' 'CDK6' 'TLR9' 'KCNMB4' 'CATSPER2' 'MMP16' 'ACSS2']\n"
     ]
    },
    {
     "data": {
      "image/png": "[encoded data removed]",
      "text/plain": [
       "<Figure size 432x288 with 1 Axes>"
      ]
     },
     "metadata": {
      "needs_background": "light"
     },
     "output_type": "display_data"
    }
   ],
   "source": [
    "### picking out of 60 closest ###\n",
    "dist_list = []\n",
    "min_dist = []\n",
    "np.random.seed(4)\n",
    "l = np.random.choice(np.array(protein_labels)[1:,1], 100, replace = False)\n",
    "print(l)\n",
    "for n in range(1,10):\n",
    "    d_ = []\n",
    "    m_ = []\n",
    "    for protein_sel in l:\n",
    "        distances = get_distance(protein_sel)\n",
    "        m_.append(min(distances))\n",
    "        pred, act = get_similar(protein_sel = protein_sel, num = n)\n",
    "        d_.append(np.sum((pred-act)**2, axis = 0))\n",
    "    dist_list.append(np.mean(d_))\n",
    "    min_dist.append(np.mean(m_))\n",
    "        \n",
    "plt.plot(range(1,10), dist_list, range(1,10), min_dist)  \n",
    "plt.title(\"Closest protein vs created protein with 60 closest\")\n",
    "plt.xlabel(\"Number of proteins chosen at random\")\n",
    "plt.ylabel(\"Difference\")\n",
    "axes = plt.gca()\n",
    "axes.set_ylim([0,35])\n",
    "plt.show()"
   ]
  },
  {
   "cell_type": "code",
   "execution_count": null,
   "metadata": {},
   "outputs": [],
   "source": []
  },
  {
   "cell_type": "markdown",
   "metadata": {},
   "source": [
    "## Plan: \n",
    "\n",
    "Linear Graph Autoencoder"
   ]
  },
  {
   "cell_type": "code",
   "execution_count": 45,
   "metadata": {},
   "outputs": [
    {
     "data": {
      "text/plain": [
       "array([[0.02285155, 0.        , 0.        , ..., 0.        , 0.        ,\n",
       "        0.        ],\n",
       "       [0.        , 0.02285155, 0.        , ..., 0.        , 0.        ,\n",
       "        0.        ],\n",
       "       [0.        , 0.        , 0.02285155, ..., 0.        , 0.        ,\n",
       "        0.        ],\n",
       "       ...,\n",
       "       [0.        , 0.        , 0.        , ..., 0.02285155, 0.        ,\n",
       "        0.        ],\n",
       "       [0.        , 0.        , 0.        , ..., 0.        , 0.02285155,\n",
       "        0.        ],\n",
       "       [0.        , 0.        , 0.        , ..., 0.        , 0.        ,\n",
       "        0.02285155]])"
      ]
     },
     "execution_count": 45,
     "metadata": {},
     "output_type": "execute_result"
    }
   ],
   "source": [
    "D = np.identity(1915) * math.sqrt(1/1915)\n",
    "D"
   ]
  },
  {
   "cell_type": "code",
   "execution_count": 46,
   "metadata": {},
   "outputs": [
    {
     "data": {
      "text/plain": [
       "array([[1.04438642e-03, 2.27676240e-04, 3.25326371e-04, ...,\n",
       "        1.31070496e-04, 1.13315927e-04, 1.70757180e-04],\n",
       "       [2.27676240e-04, 1.04438642e-03, 2.38120104e-04, ...,\n",
       "        1.86945170e-04, 1.10704961e-04, 1.66057441e-04],\n",
       "       [3.25326371e-04, 2.38120104e-04, 1.04438642e-03, ...,\n",
       "        1.31070496e-04, 1.14882507e-04, 1.70757180e-04],\n",
       "       ...,\n",
       "       [1.31070496e-04, 1.86945170e-04, 1.31070496e-04, ...,\n",
       "        1.04438642e-03, 9.45169713e-05, 9.45169713e-05],\n",
       "       [1.13315927e-04, 1.10704961e-04, 1.14882507e-04, ...,\n",
       "        9.45169713e-05, 1.04438642e-03, 3.73368146e-04],\n",
       "       [1.70757180e-04, 1.66057441e-04, 1.70757180e-04, ...,\n",
       "        9.45169713e-05, 3.73368146e-04, 1.04438642e-03]])"
      ]
     },
     "execution_count": 46,
     "metadata": {},
     "output_type": "execute_result"
    }
   ],
   "source": [
    "A_sym = np.dot(np.dot(D,protein_molecular_sim + np.identity(1915)),D)\n",
    "A_sym"
   ]
  },
  {
   "cell_type": "code",
   "execution_count": 47,
   "metadata": {},
   "outputs": [
    {
     "data": {
      "text/plain": [
       "array([[-2.66170974e-03,  3.96955800e-03, -8.55995199e-03,\n",
       "         1.75971401e-02, -2.06787390e-03],\n",
       "       [-7.99337678e-03,  2.60247089e-03, -2.14925487e-03,\n",
       "         9.39781795e-03, -2.59610204e-04],\n",
       "       [-2.00304966e-03,  1.60281721e-03, -9.62491863e-03,\n",
       "         1.86480301e-02,  9.66637459e-04],\n",
       "       ...,\n",
       "       [-1.03779333e-04,  5.51710648e-05, -8.25019075e-03,\n",
       "         5.11920648e-03, -4.72969039e-03],\n",
       "       [ 2.72582890e-03,  4.30239080e-03, -5.65073260e-03,\n",
       "         6.84426188e-03, -1.91093781e-03],\n",
       "       [-1.38475620e-03,  1.70835889e-03, -6.21001361e-03,\n",
       "         1.41374655e-02,  2.32054606e-03]])"
      ]
     },
     "execution_count": 47,
     "metadata": {},
     "output_type": "execute_result"
    }
   ],
   "source": [
    "W = np.random.normal(size = (1915,5))\n",
    "Z = np.dot(A_sym,W)\n",
    "Z"
   ]
  },
  {
   "cell_type": "code",
   "execution_count": 48,
   "metadata": {},
   "outputs": [
    {
     "data": {
      "text/plain": [
       "(1915, 1915)"
      ]
     },
     "execution_count": 48,
     "metadata": {},
     "output_type": "execute_result"
    }
   ],
   "source": [
    "A_hat = np.dot(Z,Z.T)\n",
    "A_hat.shape"
   ]
  },
  {
   "cell_type": "code",
   "execution_count": 49,
   "metadata": {},
   "outputs": [
    {
     "data": {
      "text/plain": [
       "array([[0.50010251, 0.50005398, 0.50010506, ..., 0.50004275, 0.50004565,\n",
       "        0.5000769 ],\n",
       "       [0.50005398, 0.50004092, 0.50005397, ..., 0.50001701, 0.50001659,\n",
       "        0.50004028],\n",
       "       [0.50010506, 0.50005397, 0.50011198, ..., 0.50004265, 0.5000454 ,\n",
       "        0.50008279],\n",
       "       ...,\n",
       "       [0.50004275, 0.50001701, 0.50004265, ..., 0.50002916, 0.50002266,\n",
       "        0.50002822],\n",
       "       [0.50004565, 0.50001659, 0.5000454 , ..., 0.50002266, 0.50002709,\n",
       "        0.50003275],\n",
       "       [0.5000769 , 0.50004028, 0.50008279, ..., 0.50002822, 0.50003275,\n",
       "        0.50006216]])"
      ]
     },
     "execution_count": 49,
     "metadata": {},
     "output_type": "execute_result"
    }
   ],
   "source": [
    "sig = 1/(1 + np.exp(-A_hat))\n",
    "sig"
   ]
  },
  {
   "cell_type": "code",
   "execution_count": 50,
   "metadata": {},
   "outputs": [
    {
     "data": {
      "text/html": [
       "<div>\n",
       "<style scoped>\n",
       "    .dataframe tbody tr th:only-of-type {\n",
       "        vertical-align: middle;\n",
       "    }\n",
       "\n",
       "    .dataframe tbody tr th {\n",
       "        vertical-align: top;\n",
       "    }\n",
       "\n",
       "    .dataframe thead th {\n",
       "        text-align: right;\n",
       "    }\n",
       "</style>\n",
       "<table border=\"1\" class=\"dataframe\">\n",
       "  <thead>\n",
       "    <tr style=\"text-align: right;\">\n",
       "      <th></th>\n",
       "      <th>ADA</th>\n",
       "      <th>AKT3</th>\n",
       "      <th>GNPDA1</th>\n",
       "      <th>HDAC6</th>\n",
       "      <th>HDAC5</th>\n",
       "      <th>CDH5</th>\n",
       "      <th>PARP2</th>\n",
       "      <th>PARP3</th>\n",
       "      <th>ABCC9</th>\n",
       "      <th>NR1H3</th>\n",
       "      <th>...</th>\n",
       "      <th>LCMT2</th>\n",
       "      <th>CDK11B</th>\n",
       "      <th>TLK1</th>\n",
       "      <th>NUAK1</th>\n",
       "      <th>CDC25B</th>\n",
       "      <th>XYLB</th>\n",
       "      <th>OXSR1</th>\n",
       "      <th>HS3ST3A1</th>\n",
       "      <th>NR1I3</th>\n",
       "      <th>NR1H4</th>\n",
       "    </tr>\n",
       "  </thead>\n",
       "  <tbody>\n",
       "    <tr>\n",
       "      <td>ADA</td>\n",
       "      <td>0.249897</td>\n",
       "      <td>0.004103</td>\n",
       "      <td>0.015103</td>\n",
       "      <td>0.015847</td>\n",
       "      <td>5.911486e-03</td>\n",
       "      <td>0.041164</td>\n",
       "      <td>0.002590</td>\n",
       "      <td>0.030650</td>\n",
       "      <td>0.010623</td>\n",
       "      <td>0.010220</td>\n",
       "      <td>...</td>\n",
       "      <td>0.000066</td>\n",
       "      <td>0.006093</td>\n",
       "      <td>0.000787</td>\n",
       "      <td>0.006878</td>\n",
       "      <td>0.005914</td>\n",
       "      <td>0.097334</td>\n",
       "      <td>1.595334e-03</td>\n",
       "      <td>0.062022</td>\n",
       "      <td>0.080115</td>\n",
       "      <td>0.029956</td>\n",
       "    </tr>\n",
       "    <tr>\n",
       "      <td>AKT3</td>\n",
       "      <td>0.004103</td>\n",
       "      <td>0.249959</td>\n",
       "      <td>0.001941</td>\n",
       "      <td>0.002595</td>\n",
       "      <td>4.983173e-05</td>\n",
       "      <td>0.011437</td>\n",
       "      <td>0.000024</td>\n",
       "      <td>0.033135</td>\n",
       "      <td>0.022510</td>\n",
       "      <td>0.017968</td>\n",
       "      <td>...</td>\n",
       "      <td>0.000844</td>\n",
       "      <td>0.180593</td>\n",
       "      <td>0.234213</td>\n",
       "      <td>0.112868</td>\n",
       "      <td>0.002406</td>\n",
       "      <td>0.043683</td>\n",
       "      <td>1.648014e-01</td>\n",
       "      <td>0.020169</td>\n",
       "      <td>0.082954</td>\n",
       "      <td>0.033139</td>\n",
       "    </tr>\n",
       "    <tr>\n",
       "      <td>GNPDA1</td>\n",
       "      <td>0.015103</td>\n",
       "      <td>0.001941</td>\n",
       "      <td>0.249888</td>\n",
       "      <td>0.010791</td>\n",
       "      <td>2.796356e-03</td>\n",
       "      <td>0.071225</td>\n",
       "      <td>0.012074</td>\n",
       "      <td>0.019620</td>\n",
       "      <td>0.006252</td>\n",
       "      <td>0.008483</td>\n",
       "      <td>...</td>\n",
       "      <td>0.000723</td>\n",
       "      <td>0.003976</td>\n",
       "      <td>0.000009</td>\n",
       "      <td>0.018477</td>\n",
       "      <td>0.008445</td>\n",
       "      <td>0.097329</td>\n",
       "      <td>4.866271e-04</td>\n",
       "      <td>0.062022</td>\n",
       "      <td>0.078425</td>\n",
       "      <td>0.029958</td>\n",
       "    </tr>\n",
       "    <tr>\n",
       "      <td>HDAC6</td>\n",
       "      <td>0.015847</td>\n",
       "      <td>0.002595</td>\n",
       "      <td>0.010791</td>\n",
       "      <td>0.249871</td>\n",
       "      <td>9.112638e-02</td>\n",
       "      <td>0.029540</td>\n",
       "      <td>0.009975</td>\n",
       "      <td>0.061543</td>\n",
       "      <td>0.001094</td>\n",
       "      <td>0.013898</td>\n",
       "      <td>...</td>\n",
       "      <td>0.005608</td>\n",
       "      <td>0.002802</td>\n",
       "      <td>0.005032</td>\n",
       "      <td>0.011433</td>\n",
       "      <td>0.013430</td>\n",
       "      <td>0.126719</td>\n",
       "      <td>3.592323e-03</td>\n",
       "      <td>0.093053</td>\n",
       "      <td>0.047546</td>\n",
       "      <td>0.000364</td>\n",
       "    </tr>\n",
       "    <tr>\n",
       "      <td>HDAC5</td>\n",
       "      <td>0.005911</td>\n",
       "      <td>0.000050</td>\n",
       "      <td>0.002796</td>\n",
       "      <td>0.091126</td>\n",
       "      <td>2.498711e-01</td>\n",
       "      <td>0.014853</td>\n",
       "      <td>0.002389</td>\n",
       "      <td>0.044553</td>\n",
       "      <td>0.006096</td>\n",
       "      <td>0.019569</td>\n",
       "      <td>...</td>\n",
       "      <td>0.000524</td>\n",
       "      <td>0.000254</td>\n",
       "      <td>0.000142</td>\n",
       "      <td>0.003591</td>\n",
       "      <td>0.013199</td>\n",
       "      <td>0.093010</td>\n",
       "      <td>4.206470e-09</td>\n",
       "      <td>0.051096</td>\n",
       "      <td>0.027906</td>\n",
       "      <td>0.002818</td>\n",
       "    </tr>\n",
       "    <tr>\n",
       "      <td>...</td>\n",
       "      <td>...</td>\n",
       "      <td>...</td>\n",
       "      <td>...</td>\n",
       "      <td>...</td>\n",
       "      <td>...</td>\n",
       "      <td>...</td>\n",
       "      <td>...</td>\n",
       "      <td>...</td>\n",
       "      <td>...</td>\n",
       "      <td>...</td>\n",
       "      <td>...</td>\n",
       "      <td>...</td>\n",
       "      <td>...</td>\n",
       "      <td>...</td>\n",
       "      <td>...</td>\n",
       "      <td>...</td>\n",
       "      <td>...</td>\n",
       "      <td>...</td>\n",
       "      <td>...</td>\n",
       "      <td>...</td>\n",
       "      <td>...</td>\n",
       "    </tr>\n",
       "    <tr>\n",
       "      <td>XYLB</td>\n",
       "      <td>0.097334</td>\n",
       "      <td>0.043683</td>\n",
       "      <td>0.097329</td>\n",
       "      <td>0.126719</td>\n",
       "      <td>9.300978e-02</td>\n",
       "      <td>0.138362</td>\n",
       "      <td>0.047077</td>\n",
       "      <td>0.017956</td>\n",
       "      <td>0.113559</td>\n",
       "      <td>0.138363</td>\n",
       "      <td>...</td>\n",
       "      <td>0.047078</td>\n",
       "      <td>0.043685</td>\n",
       "      <td>0.016902</td>\n",
       "      <td>0.016904</td>\n",
       "      <td>0.136884</td>\n",
       "      <td>0.249979</td>\n",
       "      <td>1.690180e-02</td>\n",
       "      <td>0.028561</td>\n",
       "      <td>0.138378</td>\n",
       "      <td>0.138369</td>\n",
       "    </tr>\n",
       "    <tr>\n",
       "      <td>OXSR1</td>\n",
       "      <td>0.001595</td>\n",
       "      <td>0.164801</td>\n",
       "      <td>0.000487</td>\n",
       "      <td>0.003592</td>\n",
       "      <td>4.206470e-09</td>\n",
       "      <td>0.017940</td>\n",
       "      <td>0.000063</td>\n",
       "      <td>0.051091</td>\n",
       "      <td>0.018780</td>\n",
       "      <td>0.013008</td>\n",
       "      <td>...</td>\n",
       "      <td>0.000964</td>\n",
       "      <td>0.116254</td>\n",
       "      <td>0.166426</td>\n",
       "      <td>0.067577</td>\n",
       "      <td>0.000402</td>\n",
       "      <td>0.016902</td>\n",
       "      <td>2.499552e-01</td>\n",
       "      <td>0.031691</td>\n",
       "      <td>0.078971</td>\n",
       "      <td>0.028915</td>\n",
       "    </tr>\n",
       "    <tr>\n",
       "      <td>HS3ST3A1</td>\n",
       "      <td>0.062022</td>\n",
       "      <td>0.020169</td>\n",
       "      <td>0.062022</td>\n",
       "      <td>0.093053</td>\n",
       "      <td>5.109611e-02</td>\n",
       "      <td>0.101789</td>\n",
       "      <td>0.010210</td>\n",
       "      <td>0.000726</td>\n",
       "      <td>0.070770</td>\n",
       "      <td>0.101784</td>\n",
       "      <td>...</td>\n",
       "      <td>0.010209</td>\n",
       "      <td>0.020169</td>\n",
       "      <td>0.031691</td>\n",
       "      <td>0.031692</td>\n",
       "      <td>0.099250</td>\n",
       "      <td>0.028561</td>\n",
       "      <td>3.169053e-02</td>\n",
       "      <td>0.249971</td>\n",
       "      <td>0.101775</td>\n",
       "      <td>0.101779</td>\n",
       "    </tr>\n",
       "    <tr>\n",
       "      <td>NR1I3</td>\n",
       "      <td>0.080115</td>\n",
       "      <td>0.082954</td>\n",
       "      <td>0.078425</td>\n",
       "      <td>0.047546</td>\n",
       "      <td>2.790582e-02</td>\n",
       "      <td>0.064035</td>\n",
       "      <td>0.078428</td>\n",
       "      <td>0.079544</td>\n",
       "      <td>0.044956</td>\n",
       "      <td>0.069146</td>\n",
       "      <td>...</td>\n",
       "      <td>0.082970</td>\n",
       "      <td>0.045804</td>\n",
       "      <td>0.078972</td>\n",
       "      <td>0.075640</td>\n",
       "      <td>0.080113</td>\n",
       "      <td>0.138378</td>\n",
       "      <td>7.897131e-02</td>\n",
       "      <td>0.101775</td>\n",
       "      <td>0.249973</td>\n",
       "      <td>0.046211</td>\n",
       "    </tr>\n",
       "    <tr>\n",
       "      <td>NR1H4</td>\n",
       "      <td>0.029956</td>\n",
       "      <td>0.033139</td>\n",
       "      <td>0.029958</td>\n",
       "      <td>0.000364</td>\n",
       "      <td>2.818408e-03</td>\n",
       "      <td>0.005197</td>\n",
       "      <td>0.029960</td>\n",
       "      <td>0.081253</td>\n",
       "      <td>0.019896</td>\n",
       "      <td>0.039173</td>\n",
       "      <td>...</td>\n",
       "      <td>0.033886</td>\n",
       "      <td>0.022513</td>\n",
       "      <td>0.029600</td>\n",
       "      <td>0.021331</td>\n",
       "      <td>0.024988</td>\n",
       "      <td>0.138369</td>\n",
       "      <td>2.891520e-02</td>\n",
       "      <td>0.101779</td>\n",
       "      <td>0.046211</td>\n",
       "      <td>0.249938</td>\n",
       "    </tr>\n",
       "  </tbody>\n",
       "</table>\n",
       "<p>1915 rows × 1915 columns</p>\n",
       "</div>"
      ],
      "text/plain": [
       "               ADA      AKT3    GNPDA1     HDAC6         HDAC5      CDH5  \\\n",
       "ADA       0.249897  0.004103  0.015103  0.015847  5.911486e-03  0.041164   \n",
       "AKT3      0.004103  0.249959  0.001941  0.002595  4.983173e-05  0.011437   \n",
       "GNPDA1    0.015103  0.001941  0.249888  0.010791  2.796356e-03  0.071225   \n",
       "HDAC6     0.015847  0.002595  0.010791  0.249871  9.112638e-02  0.029540   \n",
       "HDAC5     0.005911  0.000050  0.002796  0.091126  2.498711e-01  0.014853   \n",
       "...            ...       ...       ...       ...           ...       ...   \n",
       "XYLB      0.097334  0.043683  0.097329  0.126719  9.300978e-02  0.138362   \n",
       "OXSR1     0.001595  0.164801  0.000487  0.003592  4.206470e-09  0.017940   \n",
       "HS3ST3A1  0.062022  0.020169  0.062022  0.093053  5.109611e-02  0.101789   \n",
       "NR1I3     0.080115  0.082954  0.078425  0.047546  2.790582e-02  0.064035   \n",
       "NR1H4     0.029956  0.033139  0.029958  0.000364  2.818408e-03  0.005197   \n",
       "\n",
       "             PARP2     PARP3     ABCC9     NR1H3  ...     LCMT2    CDK11B  \\\n",
       "ADA       0.002590  0.030650  0.010623  0.010220  ...  0.000066  0.006093   \n",
       "AKT3      0.000024  0.033135  0.022510  0.017968  ...  0.000844  0.180593   \n",
       "GNPDA1    0.012074  0.019620  0.006252  0.008483  ...  0.000723  0.003976   \n",
       "HDAC6     0.009975  0.061543  0.001094  0.013898  ...  0.005608  0.002802   \n",
       "HDAC5     0.002389  0.044553  0.006096  0.019569  ...  0.000524  0.000254   \n",
       "...            ...       ...       ...       ...  ...       ...       ...   \n",
       "XYLB      0.047077  0.017956  0.113559  0.138363  ...  0.047078  0.043685   \n",
       "OXSR1     0.000063  0.051091  0.018780  0.013008  ...  0.000964  0.116254   \n",
       "HS3ST3A1  0.010210  0.000726  0.070770  0.101784  ...  0.010209  0.020169   \n",
       "NR1I3     0.078428  0.079544  0.044956  0.069146  ...  0.082970  0.045804   \n",
       "NR1H4     0.029960  0.081253  0.019896  0.039173  ...  0.033886  0.022513   \n",
       "\n",
       "              TLK1     NUAK1    CDC25B      XYLB         OXSR1  HS3ST3A1  \\\n",
       "ADA       0.000787  0.006878  0.005914  0.097334  1.595334e-03  0.062022   \n",
       "AKT3      0.234213  0.112868  0.002406  0.043683  1.648014e-01  0.020169   \n",
       "GNPDA1    0.000009  0.018477  0.008445  0.097329  4.866271e-04  0.062022   \n",
       "HDAC6     0.005032  0.011433  0.013430  0.126719  3.592323e-03  0.093053   \n",
       "HDAC5     0.000142  0.003591  0.013199  0.093010  4.206470e-09  0.051096   \n",
       "...            ...       ...       ...       ...           ...       ...   \n",
       "XYLB      0.016902  0.016904  0.136884  0.249979  1.690180e-02  0.028561   \n",
       "OXSR1     0.166426  0.067577  0.000402  0.016902  2.499552e-01  0.031691   \n",
       "HS3ST3A1  0.031691  0.031692  0.099250  0.028561  3.169053e-02  0.249971   \n",
       "NR1I3     0.078972  0.075640  0.080113  0.138378  7.897131e-02  0.101775   \n",
       "NR1H4     0.029600  0.021331  0.024988  0.138369  2.891520e-02  0.101779   \n",
       "\n",
       "             NR1I3     NR1H4  \n",
       "ADA       0.080115  0.029956  \n",
       "AKT3      0.082954  0.033139  \n",
       "GNPDA1    0.078425  0.029958  \n",
       "HDAC6     0.047546  0.000364  \n",
       "HDAC5     0.027906  0.002818  \n",
       "...            ...       ...  \n",
       "XYLB      0.138378  0.138369  \n",
       "OXSR1     0.078971  0.028915  \n",
       "HS3ST3A1  0.101775  0.101779  \n",
       "NR1I3     0.249973  0.046211  \n",
       "NR1H4     0.046211  0.249938  \n",
       "\n",
       "[1915 rows x 1915 columns]"
      ]
     },
     "execution_count": 50,
     "metadata": {},
     "output_type": "execute_result"
    }
   ],
   "source": [
    "(sig - protein_molecular_sim)**2"
   ]
  },
  {
   "cell_type": "markdown",
   "metadata": {},
   "source": [
    "## This could totally be wrong...\n",
    "\n",
    "$$ \\tilde{A} = D^{-1/2} (A + In) D^{-1/2} $$\n",
    "\n",
    "$$ Z = \\tilde{A} W$$ \n",
    "\n",
    "$$ \\hat{A} = \\sigma({ZZ^{T}})$$\n",
    "\n"
   ]
  },
  {
   "cell_type": "code",
   "execution_count": 94,
   "metadata": {},
   "outputs": [],
   "source": [
    "class graph_autoencoder(torch.nn.Module):\n",
    "    \n",
    "    def __init__(self, encoded_dim,length,graph):\n",
    "        super().__init__()\n",
    "        #fully connected graph\n",
    "        self.D = torch.from_numpy(np.identity(length) * math.sqrt(1/length)).float()\n",
    "        self.A_sym = np.dot(np.dot(self.D,graph + np.identity(length)),self.D)\n",
    "        self.A_sym = torch.from_numpy(self.A_sym).float()\n",
    "        np.random.seed(4)\n",
    "        self.W = nn.Parameter(torch.from_numpy(np.random.normal(size = (length,encoded_dim))).float())\n",
    "        self.sig = nn.Sigmoid()\n",
    "    def forward(self):\n",
    "        Z = torch.mm(self.A_sym,self.W)\n",
    "        A_hat = torch.mm(Z,Z.T)\n",
    "        sig = self.sig(A_hat)\n",
    "        return A_hat\n",
    "    def encode(self):\n",
    "        with torch.no_grad():\n",
    "            Z = torch.mm(self.A_sym,self.W)\n",
    "        return Z"
   ]
  },
  {
   "cell_type": "code",
   "execution_count": 95,
   "metadata": {},
   "outputs": [],
   "source": [
    "def run_model(l_r, epochs, gamma, milestones, encoded_dim, length, graph):\n",
    "    l_r = l_r\n",
    "    model = graph_autoencoder(encoded_dim, length, graph)\n",
    "    criterion = torch.nn.MSELoss() \n",
    "    optimizer = torch.optim.SGD(model.parameters(), lr=l_r)\n",
    "    epochs = epochs\n",
    "    x_milestones = milestones\n",
    "    x_gamma = gamma\n",
    "    scheduler = torch.optim.lr_scheduler.MultiStepLR(optimizer, milestones=x_milestones, gamma=x_gamma)\n",
    "    \n",
    "    torch.manual_seed(4)\n",
    "    l = []\n",
    "    \n",
    "    for epoch in range(epochs):\n",
    "       \n",
    "        output = model()\n",
    "        loss = criterion(output, torch.from_numpy(graph.values).float())\n",
    "        l.append(loss)\n",
    "        optimizer.zero_grad()\n",
    "        loss.backward()\n",
    "        optimizer.step()\n",
    "        scheduler.step()\n",
    "    plt.plot(range(epochs),l)\n",
    "    return l, model"
   ]
  },
  {
   "cell_type": "code",
   "execution_count": null,
   "metadata": {},
   "outputs": [],
   "source": []
  },
  {
   "cell_type": "markdown",
   "metadata": {},
   "source": [
    "### Since we don't know if its working test with small graph\n",
    "\n",
    "(only works with fully connected graphs)"
   ]
  },
  {
   "cell_type": "code",
   "execution_count": 96,
   "metadata": {},
   "outputs": [],
   "source": [
    "test_graph = np.array(np.ones((5,5)))"
   ]
  },
  {
   "cell_type": "code",
   "execution_count": 97,
   "metadata": {},
   "outputs": [],
   "source": [
    "test_graph[0] = np.array([1,.1,.1,.9,.5])\n",
    "test_graph[1] = np.array([.1,1,.9,.1,.5])\n",
    "test_graph[2] = np.array([.1,.9,1,.1,.5])\n",
    "test_graph[3] = np.array([.9,.1,.1,1,.5])\n",
    "test_graph[4] = np.array([.5,.5,.5,.5,1])"
   ]
  },
  {
   "cell_type": "code",
   "execution_count": 98,
   "metadata": {},
   "outputs": [
    {
     "data": {
      "text/html": [
       "<div>\n",
       "<style scoped>\n",
       "    .dataframe tbody tr th:only-of-type {\n",
       "        vertical-align: middle;\n",
       "    }\n",
       "\n",
       "    .dataframe tbody tr th {\n",
       "        vertical-align: top;\n",
       "    }\n",
       "\n",
       "    .dataframe thead th {\n",
       "        text-align: right;\n",
       "    }\n",
       "</style>\n",
       "<table border=\"1\" class=\"dataframe\">\n",
       "  <thead>\n",
       "    <tr style=\"text-align: right;\">\n",
       "      <th></th>\n",
       "      <th>0</th>\n",
       "      <th>1</th>\n",
       "      <th>2</th>\n",
       "      <th>3</th>\n",
       "      <th>4</th>\n",
       "    </tr>\n",
       "  </thead>\n",
       "  <tbody>\n",
       "    <tr>\n",
       "      <td>0</td>\n",
       "      <td>1.0</td>\n",
       "      <td>0.1</td>\n",
       "      <td>0.1</td>\n",
       "      <td>0.9</td>\n",
       "      <td>0.5</td>\n",
       "    </tr>\n",
       "    <tr>\n",
       "      <td>1</td>\n",
       "      <td>0.1</td>\n",
       "      <td>1.0</td>\n",
       "      <td>0.9</td>\n",
       "      <td>0.1</td>\n",
       "      <td>0.5</td>\n",
       "    </tr>\n",
       "    <tr>\n",
       "      <td>2</td>\n",
       "      <td>0.1</td>\n",
       "      <td>0.9</td>\n",
       "      <td>1.0</td>\n",
       "      <td>0.1</td>\n",
       "      <td>0.5</td>\n",
       "    </tr>\n",
       "    <tr>\n",
       "      <td>3</td>\n",
       "      <td>0.9</td>\n",
       "      <td>0.1</td>\n",
       "      <td>0.1</td>\n",
       "      <td>1.0</td>\n",
       "      <td>0.5</td>\n",
       "    </tr>\n",
       "    <tr>\n",
       "      <td>4</td>\n",
       "      <td>0.5</td>\n",
       "      <td>0.5</td>\n",
       "      <td>0.5</td>\n",
       "      <td>0.5</td>\n",
       "      <td>1.0</td>\n",
       "    </tr>\n",
       "  </tbody>\n",
       "</table>\n",
       "</div>"
      ],
      "text/plain": [
       "     0    1    2    3    4\n",
       "0  1.0  0.1  0.1  0.9  0.5\n",
       "1  0.1  1.0  0.9  0.1  0.5\n",
       "2  0.1  0.9  1.0  0.1  0.5\n",
       "3  0.9  0.1  0.1  1.0  0.5\n",
       "4  0.5  0.5  0.5  0.5  1.0"
      ]
     },
     "execution_count": 98,
     "metadata": {},
     "output_type": "execute_result"
    }
   ],
   "source": [
    "test_graph = pd.DataFrame(test_graph)\n",
    "test_graph"
   ]
  },
  {
   "cell_type": "code",
   "execution_count": 99,
   "metadata": {},
   "outputs": [
    {
     "name": "stderr",
     "output_type": "stream",
     "text": [
      "/opt/anaconda3/lib/python3.7/site-packages/networkx/drawing/nx_pylab.py:563: MatplotlibDeprecationWarning: \n",
      "The iterable function was deprecated in Matplotlib 3.1 and will be removed in 3.3. Use np.iterable instead.\n",
      "  if not cb.iterable(width):\n",
      "/opt/anaconda3/lib/python3.7/site-packages/networkx/drawing/nx_pylab.py:660: MatplotlibDeprecationWarning: \n",
      "The iterable function was deprecated in Matplotlib 3.1 and will be removed in 3.3. Use np.iterable instead.\n",
      "  if cb.iterable(node_size):  # many node sizes\n"
     ]
    },
    {
     "data": {
      "image/png": "[encoded data removed]",
      "text/plain": [
       "<Figure size 432x288 with 1 Axes>"
      ]
     },
     "metadata": {},
     "output_type": "display_data"
    }
   ],
   "source": [
    "G = nx.from_numpy_matrix(np.matrix(test_graph.values), create_using=nx.DiGraph)\n",
    "layout = nx.circular_layout(G)\n",
    "nx.draw(G, layout)\n",
    "nx.draw_networkx_edge_labels(G, pos=layout)\n",
    "plt.show()"
   ]
  },
  {
   "cell_type": "code",
   "execution_count": 100,
   "metadata": {},
   "outputs": [
    {
     "data": {
      "image/png": "[encoded data removed]",
      "text/plain": [
       "<Figure size 432x288 with 1 Axes>"
      ]
     },
     "metadata": {
      "needs_background": "light"
     },
     "output_type": "display_data"
    }
   ],
   "source": [
    "l, model = run_model(1, 300, .5, [], 2, 5, test_graph)"
   ]
  },
  {
   "cell_type": "code",
   "execution_count": 101,
   "metadata": {},
   "outputs": [],
   "source": [
    "with torch.no_grad():\n",
    "    Z = torch.mm(model.A_sym,model.W)\n",
    "Z = model.encode()"
   ]
  },
  {
   "cell_type": "code",
   "execution_count": 102,
   "metadata": {},
   "outputs": [
    {
     "data": {
      "image/png": "[encoded data removed]",
      "text/plain": [
       "<Figure size 432x288 with 1 Axes>"
      ]
     },
     "metadata": {
      "needs_background": "light"
     },
     "output_type": "display_data"
    }
   ],
   "source": [
    "fig, ax = plt.subplots()\n",
    "ax.scatter(Z.T[0], Z.T[1])\n",
    "n = [0,1,2,3,4]\n",
    "for i, txt in enumerate(n):\n",
    "    ax.annotate(txt, (Z.T[0][i], Z.T[1][i]))"
   ]
  },
  {
   "cell_type": "code",
   "execution_count": 103,
   "metadata": {},
   "outputs": [
    {
     "data": {
      "text/plain": [
       "tensor([[0.9231, 0.0791, 0.0692, 0.9247, 0.5874],\n",
       "        [0.0791, 0.9126, 0.9223, 0.0780, 0.5915],\n",
       "        [0.0692, 0.9223, 0.9322, 0.0681, 0.5915],\n",
       "        [0.9247, 0.0780, 0.0681, 0.9263, 0.5877],\n",
       "        [0.5874, 0.5915, 0.5915, 0.5877, 0.6971]], grad_fn=<MmBackward>)"
      ]
     },
     "execution_count": 103,
     "metadata": {},
     "output_type": "execute_result"
    }
   ],
   "source": [
    "model()"
   ]
  },
  {
   "cell_type": "code",
   "execution_count": 104,
   "metadata": {},
   "outputs": [
    {
     "name": "stdout",
     "output_type": "stream",
     "text": [
      "tensor(0.0113, grad_fn=<MseLossBackward>)\n"
     ]
    },
    {
     "data": {
      "image/png": "[encoded data removed]",
      "text/plain": [
       "<Figure size 432x288 with 1 Axes>"
      ]
     },
     "metadata": {
      "needs_background": "light"
     },
     "output_type": "display_data"
    }
   ],
   "source": [
    "l, model_molecular = run_model(100, 300, .5, [], 3, 1915, protein_molecular_sim)\n",
    "print(l[-1])"
   ]
  },
  {
   "cell_type": "code",
   "execution_count": 105,
   "metadata": {},
   "outputs": [
    {
     "name": "stdout",
     "output_type": "stream",
     "text": [
      "tensor(0.0258, grad_fn=<MseLossBackward>)\n"
     ]
    },
    {
     "data": {
      "image/png": "[encoded data removed]",
      "text/plain": [
       "<Figure size 432x288 with 1 Axes>"
      ]
     },
     "metadata": {
      "needs_background": "light"
     },
     "output_type": "display_data"
    }
   ],
   "source": [
    "l, model_cellular = run_model(100, 300, .5, [], 3, 1915, protein_cellular_sim)\n",
    "print(l[-1])"
   ]
  },
  {
   "cell_type": "code",
   "execution_count": 106,
   "metadata": {},
   "outputs": [
    {
     "name": "stdout",
     "output_type": "stream",
     "text": [
      "tensor(0.0010, grad_fn=<MseLossBackward>)\n"
     ]
    },
    {
     "data": {
      "image/png": "[encoded data removed]",
      "text/plain": [
       "<Figure size 432x288 with 1 Axes>"
      ]
     },
     "metadata": {
      "needs_background": "light"
     },
     "output_type": "display_data"
    }
   ],
   "source": [
    "l, model_seq = run_model(10000, 300, .5, [], 3, 1915, protein_sequence_sim)\n",
    "print(l[-1])"
   ]
  },
  {
   "cell_type": "code",
   "execution_count": 107,
   "metadata": {},
   "outputs": [
    {
     "name": "stdout",
     "output_type": "stream",
     "text": [
      "tensor(0.0132, grad_fn=<MseLossBackward>)\n"
     ]
    },
    {
     "data": {
      "image/png": "[encoded data removed]",
      "text/plain": [
       "<Figure size 432x288 with 1 Axes>"
      ]
     },
     "metadata": {
      "needs_background": "light"
     },
     "output_type": "display_data"
    }
   ],
   "source": [
    "l, model_bio = run_model(500, 300, .5, [], 3, 1915, protein_biological_sim)\n",
    "print(l[-1])"
   ]
  },
  {
   "cell_type": "markdown",
   "metadata": {},
   "source": [
    "### Prediction labels\n",
    "\n",
    "Get labels of form: \n",
    "\n",
    "(Protein, Drug, 0) --> if unknown Interacting Pair\n",
    "\n",
    "(Protein, Drug, 1) --> if Interacting Pair\n",
    "\n",
    "Model(Protein, Drug) = +1/0\n",
    "\n",
    "Train/Validations split for training. Held out test on 10 randomly selected samples. \n",
    "\n",
    "For the held out test, data for those protein are not trained on. Instead after training, it will be evaluated on the \"guessed protein\". \n",
    "\n",
    "#### Experiments: \n",
    "1. MLP with concatenated Protein and Drug information\n",
    "2. Encoding dimension vs accuracy \n",
    "3. Try predicting close drugs using some sort of multi-label or regression?\n",
    "\n",
    "\n",
    "\n",
    "Total number of possible interactions: 1915 x 732 = 1401780\n",
    "\n",
    "Total number of positive interactions: 134573\n",
    "\n",
    "Randomly sample equal number of unknown-interacting pairs, and pray model learns some useful features. \n",
    "\n",
    "\n",
    "\n",
    "https://bmcsystbiol.biomedcentral.com/articles/10.1186/s12918-019-0691-1"
   ]
  },
  {
   "cell_type": "code",
   "execution_count": 108,
   "metadata": {},
   "outputs": [
    {
     "data": {
      "text/plain": [
       "(1915, 440)"
      ]
     },
     "execution_count": 108,
     "metadata": {},
     "output_type": "execute_result"
    }
   ],
   "source": [
    "protein_to_disease.shape"
   ]
  },
  {
   "cell_type": "code",
   "execution_count": 109,
   "metadata": {},
   "outputs": [
    {
     "data": {
      "text/plain": [
       "(732, 440)"
      ]
     },
     "execution_count": 109,
     "metadata": {},
     "output_type": "execute_result"
    }
   ],
   "source": [
    "drug_to_disease.shape"
   ]
  },
  {
   "cell_type": "code",
   "execution_count": 110,
   "metadata": {},
   "outputs": [],
   "source": [
    "dis_to_drug_map = {}\n",
    "## loop over all diseases add to map from disease to drugs\n",
    "for idx,dis in enumerate(drug_to_disease.T):\n",
    "    drugs = []\n",
    "    for i in np.nonzero(dis)[0]:\n",
    "        drugs.append((drug_labels[1:][i],i))\n",
    "    dis_to_drug_map[idx] = drugs\n"
   ]
  },
  {
   "cell_type": "code",
   "execution_count": null,
   "metadata": {},
   "outputs": [],
   "source": []
  },
  {
   "cell_type": "code",
   "execution_count": 111,
   "metadata": {},
   "outputs": [],
   "source": [
    "p_to_drug_map = {}\n",
    "c = 0\n",
    "for idx,dis in enumerate(protein_to_disease):\n",
    "    drugs = []\n",
    "    for i in np.nonzero(dis)[0]:\n",
    "        for item in dis_to_drug_map[i]:\n",
    "            drugs.append(item)\n",
    "            c = c + 1\n",
    "    p_to_drug_map[idx] = drugs"
   ]
  },
  {
   "cell_type": "code",
   "execution_count": 112,
   "metadata": {},
   "outputs": [
    {
     "data": {
      "text/plain": [
       "(1915, 440)"
      ]
     },
     "execution_count": 112,
     "metadata": {},
     "output_type": "execute_result"
    }
   ],
   "source": [
    "protein_to_disease.shape"
   ]
  },
  {
   "cell_type": "code",
   "execution_count": null,
   "metadata": {},
   "outputs": [],
   "source": []
  },
  {
   "cell_type": "code",
   "execution_count": 113,
   "metadata": {},
   "outputs": [
    {
     "data": {
      "text/plain": [
       "134573"
      ]
     },
     "execution_count": 113,
     "metadata": {},
     "output_type": "execute_result"
    }
   ],
   "source": [
    "c"
   ]
  },
  {
   "cell_type": "code",
   "execution_count": 114,
   "metadata": {},
   "outputs": [],
   "source": [
    "def pos_and_neg_ex(pos,seed):\n",
    "    pos_ex = []\n",
    "    neg_ex = []\n",
    "    for protein in pos:\n",
    "        possib = list(range(732))\n",
    "        for drug in pos[protein]:\n",
    "            pos_ex.append([protein,drug[1]])\n",
    "            if drug[1] in possib:\n",
    "                possib.remove(drug[1])\n",
    "        np.random.seed(seed)\n",
    "        for chosen in np.random.choice(possib, 70, replace = False):\n",
    "            neg_ex.append([protein, chosen])\n",
    "    return pos_ex, neg_ex"
   ]
  },
  {
   "cell_type": "code",
   "execution_count": 115,
   "metadata": {},
   "outputs": [],
   "source": [
    "p,n = pos_and_neg_ex(p_to_drug_map,4)"
   ]
  },
  {
   "cell_type": "code",
   "execution_count": null,
   "metadata": {},
   "outputs": [],
   "source": []
  },
  {
   "cell_type": "code",
   "execution_count": null,
   "metadata": {},
   "outputs": [],
   "source": []
  },
  {
   "cell_type": "code",
   "execution_count": 119,
   "metadata": {},
   "outputs": [
    {
     "data": {
      "text/plain": [
       "134573"
      ]
     },
     "execution_count": 119,
     "metadata": {},
     "output_type": "execute_result"
    }
   ],
   "source": [
    "len(p)"
   ]
  },
  {
   "cell_type": "code",
   "execution_count": 120,
   "metadata": {},
   "outputs": [
    {
     "data": {
      "text/plain": [
       "134050"
      ]
     },
     "execution_count": 120,
     "metadata": {},
     "output_type": "execute_result"
    }
   ],
   "source": [
    "len(n)"
   ]
  },
  {
   "cell_type": "code",
   "execution_count": 121,
   "metadata": {},
   "outputs": [
    {
     "data": {
      "text/plain": [
       "(732,)"
      ]
     },
     "execution_count": 121,
     "metadata": {},
     "output_type": "execute_result"
    }
   ],
   "source": [
    "np.array(drug_labels)[1:,1].shape"
   ]
  },
  {
   "cell_type": "code",
   "execution_count": 122,
   "metadata": {},
   "outputs": [],
   "source": [
    "drug_chem_sim = pd.DataFrame(d_chem, index = np.array(drug_labels)[1:,1], columns = np.array(drug_labels)[1:,1])\n",
    "drug_ther_sim = pd.DataFrame(d_ther, index = np.array(drug_labels)[1:,1], columns = np.array(drug_labels)[1:,1])\n",
    "drug_seq_sim = pd.DataFrame(d_seq, index = np.array(drug_labels)[1:,1], columns = np.array(drug_labels)[1:,1])\n",
    "drug_bio_sim = pd.DataFrame(d_bio, index = np.array(drug_labels)[1:,1], columns = np.array(drug_labels)[1:,1])\n",
    "drug_cellular_sim = pd.DataFrame(d_cellular, index = np.array(drug_labels)[1:,1], columns = np.array(drug_labels)[1:,1])\n",
    "drug_molecular_sim = pd.DataFrame(d_molecular, index = np.array(drug_labels)[1:,1], columns = np.array(drug_labels)[1:,1])\n"
   ]
  },
  {
   "cell_type": "code",
   "execution_count": 123,
   "metadata": {},
   "outputs": [
    {
     "name": "stdout",
     "output_type": "stream",
     "text": [
      "tensor(0.0087, grad_fn=<MseLossBackward>)\n"
     ]
    },
    {
     "data": {
      "image/png": "[encoded data removed]",
      "text/plain": [
       "<Figure size 432x288 with 1 Axes>"
      ]
     },
     "metadata": {
      "needs_background": "light"
     },
     "output_type": "display_data"
    }
   ],
   "source": [
    "l, drug_chem_encoded = run_model(100, 300, .5, [], 3, 732, drug_chem_sim)\n",
    "print(l[-1])"
   ]
  },
  {
   "cell_type": "code",
   "execution_count": 124,
   "metadata": {},
   "outputs": [
    {
     "name": "stdout",
     "output_type": "stream",
     "text": [
      "tensor(0.0354, grad_fn=<MseLossBackward>)\n"
     ]
    },
    {
     "data": {
      "image/png": "[encoded data removed]",
      "text/plain": [
       "<Figure size 432x288 with 1 Axes>"
      ]
     },
     "metadata": {
      "needs_background": "light"
     },
     "output_type": "display_data"
    }
   ],
   "source": [
    "l, drug_ther_encoded = run_model(1000, 300, .5, [], 3, 732, drug_ther_sim)\n",
    "print(l[-1])"
   ]
  },
  {
   "cell_type": "code",
   "execution_count": 125,
   "metadata": {},
   "outputs": [
    {
     "name": "stdout",
     "output_type": "stream",
     "text": [
      "tensor(0.0025, grad_fn=<MseLossBackward>)\n"
     ]
    },
    {
     "data": {
      "image/png": "[encoded data removed]",
      "text/plain": [
       "<Figure size 432x288 with 1 Axes>"
      ]
     },
     "metadata": {
      "needs_background": "light"
     },
     "output_type": "display_data"
    }
   ],
   "source": [
    "l, drug_seq_encoded = run_model(1000, 300, .5, [], 3, 732, drug_seq_sim)\n",
    "print(l[-1])"
   ]
  },
  {
   "cell_type": "code",
   "execution_count": 126,
   "metadata": {},
   "outputs": [
    {
     "name": "stdout",
     "output_type": "stream",
     "text": [
      "tensor(0.0057, grad_fn=<MseLossBackward>)\n"
     ]
    },
    {
     "data": {
      "image/png": "[encoded data removed]",
      "text/plain": [
       "<Figure size 432x288 with 1 Axes>"
      ]
     },
     "metadata": {
      "needs_background": "light"
     },
     "output_type": "display_data"
    }
   ],
   "source": [
    "l, drug_bio_encoded = run_model(100, 300, .5, [], 3, 732, drug_bio_sim)\n",
    "print(l[-1])"
   ]
  },
  {
   "cell_type": "code",
   "execution_count": 127,
   "metadata": {},
   "outputs": [
    {
     "name": "stdout",
     "output_type": "stream",
     "text": [
      "tensor(0.0104, grad_fn=<MseLossBackward>)\n"
     ]
    },
    {
     "data": {
      "image/png": "[encoded data removed]",
      "text/plain": [
       "<Figure size 432x288 with 1 Axes>"
      ]
     },
     "metadata": {
      "needs_background": "light"
     },
     "output_type": "display_data"
    }
   ],
   "source": [
    "l, drug_cellular_encoded = run_model(100, 300, .5, [], 3, 732, drug_cellular_sim)\n",
    "print(l[-1])"
   ]
  },
  {
   "cell_type": "code",
   "execution_count": 128,
   "metadata": {},
   "outputs": [
    {
     "name": "stdout",
     "output_type": "stream",
     "text": [
      "tensor(0.0072, grad_fn=<MseLossBackward>)\n"
     ]
    },
    {
     "data": {
      "image/png": "[encoded data removed]",
      "text/plain": [
       "<Figure size 432x288 with 1 Axes>"
      ]
     },
     "metadata": {
      "needs_background": "light"
     },
     "output_type": "display_data"
    }
   ],
   "source": [
    "l, drug_moleclar_encoded = run_model(100, 300, .5, [], 3, 732, drug_molecular_sim)\n",
    "print(l[-1])"
   ]
  },
  {
   "cell_type": "code",
   "execution_count": 129,
   "metadata": {},
   "outputs": [],
   "source": [
    "def dim_vs_accuracy(protein_dim, drug_dim):\n",
    "    # Calculate drug lower dimentional data\n",
    "    l, drug_chem_encoded = run_model(100, 300, .5, [], drug_dim, 732, drug_chem_sim)\n",
    "    l, drug_ther_encoded = run_model(1000, 300, .5, [], drug_dim, 732, drug_ther_sim)\n",
    "    l, drug_seq_encoded = run_model(1000, 300, .5, [], drug_dim, 732, drug_seq_sim)\n",
    "    l, drug_bio_encoded = run_model(100, 300, .5, [], drug_dim, 732, drug_bio_sim)\n",
    "    l, drug_cellular_encoded = run_model(100, 300, .5, [], drug_dim, 732, drug_cellular_sim)\n",
    "    l, drug_moleclar_encoded = run_model(100, 300, .5, [], drug_dim, 732, drug_molecular_sim)\n",
    "\n",
    "    with torch.no_grad():\n",
    "        drug_low_dim = np.concatenate((drug_chem_encoded.encode(),drug_ther_encoded.encode(), drug_seq_encoded.encode(), drug_bio_encoded.encode(), drug_cellular_encoded.encode(), drug_moleclar_encoded.encode()), axis = 1)\n",
    "    plt.show()\n",
    "    \n",
    "    \n",
    "    #calculate protein lower dimentional data\n",
    "    l, model_molecular = run_model(100, 300, .5, [], protein_dim, 1915, protein_molecular_sim)\n",
    "    l, model_cellular = run_model(100, 300, .5, [], protein_dim, 1915, protein_cellular_sim)\n",
    "    l, model_seq = run_model(10000, 300, .5, [], protein_dim, 1915, protein_sequence_sim)\n",
    "    l, model_bio = run_model(500, 300, .5, [], protein_dim, 1915, protein_biological_sim)\n",
    "    \n",
    "    with torch.no_grad():\n",
    "        protein_low_dim = np.concatenate(( model_molecular.encode(), model_cellular.encode(), model_seq.encode(), model_bio.encode()), axis = 1)\n",
    "    plt.show()\n",
    "    print(\"Done Encoding\")\n",
    "    print(\"Protein dim reduced to = \" + str(protein_low_dim.shape))\n",
    "    print(\"Drug dim reduced to = \" + str(drug_low_dim.shape))\n",
    "    \n",
    "    seed = 4\n",
    "    pos, neg = pos_and_neg_ex(p_to_drug_map,seed)\n",
    "    p_data = np.concatenate((protein_low_dim[np.array(pos)[:,0]], protein_low_dim[np.array(neg)[:,0]]), axis = 0)\n",
    "    d_data = np.concatenate((drug_low_dim[np.array(pos)[:,1]], drug_low_dim[np.array(neg)[:,1]]))\n",
    "    labels = np.concatenate((np.tile([1],len(pos)), np.tile([0],len(neg))))\n",
    "    print(p_data.shape)\n",
    "    print(d_data.shape)\n",
    "    print(labels.shape)\n",
    "    return p_data, d_data, labels"
   ]
  },
  {
   "cell_type": "code",
   "execution_count": 130,
   "metadata": {},
   "outputs": [
    {
     "data": {
      "image/png": "[encoded data removed]",
      "text/plain": [
       "<Figure size 432x288 with 1 Axes>"
      ]
     },
     "metadata": {
      "needs_background": "light"
     },
     "output_type": "display_data"
    },
    {
     "data": {
      "image/png": "[encoded data removed]",
      "text/plain": [
       "<Figure size 432x288 with 1 Axes>"
      ]
     },
     "metadata": {
      "needs_background": "light"
     },
     "output_type": "display_data"
    },
    {
     "name": "stdout",
     "output_type": "stream",
     "text": [
      "Done Encoding\n",
      "Protein dim reduced to = (1915, 12)\n",
      "Drug dim reduced to = (732, 18)\n",
      "(268623, 12)\n",
      "(268623, 18)\n",
      "(268623,)\n"
     ]
    }
   ],
   "source": [
    "p,d,l = dim_vs_accuracy(protein_dim = 3, drug_dim = 3)"
   ]
  },
  {
   "cell_type": "code",
   "execution_count": 131,
   "metadata": {},
   "outputs": [],
   "source": [
    "class network(nn.Module): \n",
    "    def __init__(self,shape):\n",
    "        super(network, self).__init__() \n",
    "        self.fc1 = nn.Linear(shape[0],shape[1])\n",
    "        self.fc2 = nn.Linear(shape[1],shape[2])\n",
    "        self.fc3 = nn.Linear(shape[2],shape[3])\n",
    "        self.fc4 = nn.Linear(shape[3],shape[4])\n",
    "        self.dropout = nn.Dropout(p=.1)\n",
    "    \n",
    "    def forward(self, x):\n",
    "        x = self.fc1(x)\n",
    "        x = F.relu(x)\n",
    "        x = self.dropout(x)\n",
    "        x = self.fc2(x)\n",
    "        x = F.relu(x)\n",
    "        x = self.dropout(x)\n",
    "        x = self.fc3(x)\n",
    "        x = F.relu(x)\n",
    "        x = self.dropout(x)\n",
    "        x = self.fc4(x)\n",
    "        return x"
   ]
  },
  {
   "cell_type": "code",
   "execution_count": 139,
   "metadata": {},
   "outputs": [],
   "source": [
    "def run_mlp(x_milestones, x_gamma, data, labels, x_learning_rate, x_momentum, x_batch_size, x_epochs, hidden):\n",
    "    torch.manual_seed(4)\n",
    "    batch_size = x_batch_size\n",
    "    learning_rate = x_learning_rate\n",
    "    epochs = x_epochs\n",
    "    model = network([data.shape[1],hidden, hidden, hidden, 1]) \n",
    "    optim = torch.optim.SGD(model.parameters(), lr = learning_rate, momentum = x_momentum)\n",
    "    loss_function = nn.BCEWithLogitsLoss(reduction='mean')\n",
    "    scheduler = torch.optim.lr_scheduler.MultiStepLR(optim, milestones=x_milestones, gamma=x_gamma)\n",
    "\n",
    "    \n",
    "    all_training_loss = []\n",
    "    all_val_loss = []\n",
    "    \n",
    "    training_data, val_data, training_labels, val_labels = train_test_split(data, labels, test_size=0.15, random_state=4)\n",
    "    training_data = torch.from_numpy(training_data).float()\n",
    "    val_data = torch.from_numpy(val_data).float()\n",
    "    training_labels = torch.from_numpy(training_labels).float()\n",
    "    val_labels = torch.from_numpy(val_labels).float()\n",
    "    \n",
    "    for epoch in range(epochs):\n",
    "        model.train()\n",
    "        train_loss = []\n",
    "        for idx in range(0, training_data.shape[0], batch_size):\n",
    "            batch_data = training_data[idx : idx+batch_size]\n",
    "            batch_labels = training_labels[idx:idx+batch_size]\n",
    "            model_output = model(batch_data)\n",
    "            model_output = model_output.reshape((-1))\n",
    "            loss = loss_function(model_output, batch_labels)\n",
    "            train_loss.append(loss.item())\n",
    "            optim.zero_grad()\n",
    "            loss.backward()\n",
    "            optim.step()\n",
    "    \n",
    "    \n",
    "        #Validation phase\n",
    "        model.eval()\n",
    "        val_loss = []\n",
    "    \n",
    "        for idx in range(0, val_data.shape[0], batch_size):\n",
    "            with torch.no_grad():   \n",
    "                batch_data = val_data[idx : idx+batch_size] \n",
    "                batch_labels = val_labels[idx:idx+batch_size]\n",
    "                model_output = model(batch_data)\n",
    "                model_output = model_output.reshape((-1))\n",
    "                loss = loss_function(model_output, batch_labels)\n",
    "                val_loss.append(loss.item())\n",
    "        #print(\"Epoch : {}, Train loss: {} , Val loss: {}\".format(epoch, np.mean(train_loss), np.mean(val_loss)))\n",
    "        all_training_loss.append(np.mean(train_loss))\n",
    "        all_val_loss.append(np.mean(val_loss))\n",
    "        \n",
    "        scheduler.step()\n",
    "    \n",
    "    \n",
    "    model.eval()\n",
    "    with torch.no_grad(): \n",
    "        model_output_train = model(training_data)\n",
    "        model_output_val = model(val_data)\n",
    "        \n",
    "    sigmoid = nn.Sigmoid()\n",
    "    model_output_train = np.array(sigmoid(model_output_train))\n",
    "    np.putmask(model_output_train, model_output_train >= .5, 1)\n",
    "    np.putmask(model_output_train, model_output_train < .5, 0)\n",
    "    print(\"Train Accuracy = \" + str(accuracy_score(training_labels, model_output_train)*100))\n",
    "\n",
    "    model_output_val = np.array(sigmoid(model_output_val))\n",
    "    np.putmask(model_output_val, model_output_val >= .5, 1)\n",
    "    np.putmask(model_output_val, model_output_val < .5, 0)\n",
    "    print(\"Validation Accuracy = \" + str(accuracy_score(val_labels, model_output_val)*100))\n",
    "    \n",
    "    return all_training_loss, all_val_loss, model"
   ]
  },
  {
   "cell_type": "code",
   "execution_count": 140,
   "metadata": {},
   "outputs": [
    {
     "name": "stdout",
     "output_type": "stream",
     "text": [
      "(268623, 30)\n",
      "(268623,)\n"
     ]
    }
   ],
   "source": [
    "data = np.concatenate((p,d), axis = 1)\n",
    "print(data.shape)\n",
    "print(l.shape)"
   ]
  },
  {
   "cell_type": "code",
   "execution_count": 141,
   "metadata": {},
   "outputs": [
    {
     "name": "stdout",
     "output_type": "stream",
     "text": [
      "Train Accuracy = 83.78392582632955\n",
      "Validation Accuracy = 83.52111976969276\n"
     ]
    }
   ],
   "source": [
    "x_learning_rate = .2\n",
    "x_momentum = 0.2\n",
    "x_batch_size = 64\n",
    "x_epochs = 250\n",
    "x_milestones = [130]\n",
    "x_gamma = .5\n",
    "tl,vl,m = run_mlp(x_milestones, x_gamma, data, l, x_learning_rate, x_momentum, x_batch_size, x_epochs, hidden = 128)"
   ]
  },
  {
   "cell_type": "code",
   "execution_count": 142,
   "metadata": {},
   "outputs": [
    {
     "data": {
      "text/plain": [
       "[<matplotlib.lines.Line2D at 0x1a24f67d90>,\n",
       " <matplotlib.lines.Line2D at 0x1a24e0d810>]"
      ]
     },
     "execution_count": 142,
     "metadata": {},
     "output_type": "execute_result"
    },
    {
     "data": {
      "image/png": "[encoded data removed]",
      "text/plain": [
       "<Figure size 432x288 with 1 Axes>"
      ]
     },
     "metadata": {
      "needs_background": "light"
     },
     "output_type": "display_data"
    }
   ],
   "source": [
    "plt.plot(range(0,x_epochs), tl, vl)"
   ]
  },
  {
   "cell_type": "markdown",
   "metadata": {},
   "source": [
    "#### Pick a protein --> guess it --> make graph encoder with protein removed --> train on protein removed --> test"
   ]
  },
  {
   "cell_type": "code",
   "execution_count": null,
   "metadata": {},
   "outputs": [],
   "source": []
  },
  {
   "cell_type": "code",
   "execution_count": null,
   "metadata": {},
   "outputs": [],
   "source": []
  }
 ],
 "metadata": {
  "kernelspec": {
   "display_name": "Python 3",
   "language": "python",
   "name": "python3"
  },
  "language_info": {
   "codemirror_mode": {
    "name": "ipython",
    "version": 3
   },
   "file_extension": ".py",
   "mimetype": "text/x-python",
   "name": "python",
   "nbconvert_exporter": "python",
   "pygments_lexer": "ipython3",
   "version": "3.7.4"
  }
 },
 "nbformat": 4,
 "nbformat_minor": 2
}
