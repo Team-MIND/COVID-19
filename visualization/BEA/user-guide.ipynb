{
 "cells": [
  {
   "cell_type": "markdown",
   "metadata": {},
   "source": [
    "# Introduction\n",
    "\n",
    "The Bureau of Economic Analysis (BEA) publishes economic statistics in a variety of formats. This document describes the BEA Data Retrieval Application Programming Interface (API) – including detailed instructions for retrieving data and meta-data published by BEA using the pyBEA package. \n",
    "\n",
    "The pyBEA pacakge provides a simple interface to the BEA API and includes methods for retrieving a subset of BEA statistical data, including any meta-data describing it, and loading the results into a Pandas DataFrame object for further analysis.\n",
    "\n",
    "## Data Return Format\n",
    "The BEA API returns data in one of two formats: JSON or XML (with JSON being the default). Currently the pyBEA package only supports JSON requests.\n"
   ]
  },
  {
   "cell_type": "code",
   "execution_count": 1,
   "metadata": {},
   "outputs": [],
   "source": [
    "import pybea"
   ]
  },
  {
   "cell_type": "markdown",
   "metadata": {},
   "source": [
    "## Meta-Data API Methods\n",
    "\n",
    "The BEA API contains three methods for retrieving meta-data as follows:\n",
    "\n",
    "1. `GetDataSetList`: retrieves a list of the datasets currently offered.\n",
    "2. `GetParameterList`: retrieves a list of the parameters (required and optional) for a particular dataset.\n",
    "3. `GetParameterValues`: retrieves a list of the valid values for a particular parameter.\n",
    "\n",
    "Each of these methods has a corresponding function in the `pybea` package."
   ]
  },
  {
   "cell_type": "code",
   "execution_count": null,
   "metadata": {},
   "outputs": [],
   "source": [
    "pybea.get_data_set_list?"
   ]
  },
  {
   "cell_type": "code",
   "execution_count": null,
   "metadata": {},
   "outputs": [],
   "source": [
    "pybea.get_parameter_list?"
   ]
  },
  {
   "cell_type": "code",
   "execution_count": null,
   "metadata": {},
   "outputs": [],
   "source": [
    "pybea.get_parameter_values?"
   ]
  },
  {
   "cell_type": "markdown",
   "metadata": {},
   "source": [
    "## Example Usage"
   ]
  },
  {
   "cell_type": "code",
   "execution_count": 2,
   "metadata": {},
   "outputs": [],
   "source": [
    "# replace this with your BEA data API key!\n",
    "USER_ID = '24F50E99-8209-44F6-8225-2A91BF9ED433'"
   ]
  },
  {
   "cell_type": "code",
   "execution_count": 3,
   "metadata": {},
   "outputs": [
    {
     "data": {
      "text/html": [
       "<div>\n",
       "<style scoped>\n",
       "    .dataframe tbody tr th:only-of-type {\n",
       "        vertical-align: middle;\n",
       "    }\n",
       "\n",
       "    .dataframe tbody tr th {\n",
       "        vertical-align: top;\n",
       "    }\n",
       "\n",
       "    .dataframe thead th {\n",
       "        text-align: right;\n",
       "    }\n",
       "</style>\n",
       "<table border=\"1\" class=\"dataframe\">\n",
       "  <thead>\n",
       "    <tr style=\"text-align: right;\">\n",
       "      <th></th>\n",
       "      <th>DatasetName</th>\n",
       "      <th>DatasetDescription</th>\n",
       "    </tr>\n",
       "  </thead>\n",
       "  <tbody>\n",
       "    <tr>\n",
       "      <th>0</th>\n",
       "      <td>NIPA</td>\n",
       "      <td>Standard NIPA tables</td>\n",
       "    </tr>\n",
       "    <tr>\n",
       "      <th>1</th>\n",
       "      <td>NIUnderlyingDetail</td>\n",
       "      <td>Standard NI underlying detail tables</td>\n",
       "    </tr>\n",
       "    <tr>\n",
       "      <th>2</th>\n",
       "      <td>MNE</td>\n",
       "      <td>Multinational Enterprises</td>\n",
       "    </tr>\n",
       "    <tr>\n",
       "      <th>3</th>\n",
       "      <td>FixedAssets</td>\n",
       "      <td>Standard Fixed Assets tables</td>\n",
       "    </tr>\n",
       "    <tr>\n",
       "      <th>4</th>\n",
       "      <td>ITA</td>\n",
       "      <td>International Transactions Accounts</td>\n",
       "    </tr>\n",
       "    <tr>\n",
       "      <th>5</th>\n",
       "      <td>IIP</td>\n",
       "      <td>International Investment Position</td>\n",
       "    </tr>\n",
       "    <tr>\n",
       "      <th>6</th>\n",
       "      <td>GDPbyIndustry</td>\n",
       "      <td>GDP by Industry</td>\n",
       "    </tr>\n",
       "    <tr>\n",
       "      <th>7</th>\n",
       "      <td>RegionalIncome</td>\n",
       "      <td>The RegionalIncome dataset is obsolete. Please...</td>\n",
       "    </tr>\n",
       "    <tr>\n",
       "      <th>8</th>\n",
       "      <td>RegionalProduct</td>\n",
       "      <td>The RegionalProduct dataset is obsolete. Pleas...</td>\n",
       "    </tr>\n",
       "    <tr>\n",
       "      <th>9</th>\n",
       "      <td>InputOutput</td>\n",
       "      <td>Input-Output Data</td>\n",
       "    </tr>\n",
       "    <tr>\n",
       "      <th>10</th>\n",
       "      <td>UnderlyingGDPbyIndustry</td>\n",
       "      <td>Underlying GDP by Industry</td>\n",
       "    </tr>\n",
       "    <tr>\n",
       "      <th>11</th>\n",
       "      <td>IntlServTrade</td>\n",
       "      <td>International Services Trade</td>\n",
       "    </tr>\n",
       "    <tr>\n",
       "      <th>12</th>\n",
       "      <td>Regional</td>\n",
       "      <td>Regional data sets</td>\n",
       "    </tr>\n",
       "    <tr>\n",
       "      <th>13</th>\n",
       "      <td>APIDatasetMetaData</td>\n",
       "      <td>Metadata about other API datasets</td>\n",
       "    </tr>\n",
       "  </tbody>\n",
       "</table>\n",
       "</div>"
      ],
      "text/plain": [
       "                DatasetName                                 DatasetDescription\n",
       "0                      NIPA                               Standard NIPA tables\n",
       "1        NIUnderlyingDetail               Standard NI underlying detail tables\n",
       "2                       MNE                          Multinational Enterprises\n",
       "3               FixedAssets                       Standard Fixed Assets tables\n",
       "4                       ITA                International Transactions Accounts\n",
       "5                       IIP                  International Investment Position\n",
       "6             GDPbyIndustry                                    GDP by Industry\n",
       "7            RegionalIncome  The RegionalIncome dataset is obsolete. Please...\n",
       "8           RegionalProduct  The RegionalProduct dataset is obsolete. Pleas...\n",
       "9               InputOutput                                  Input-Output Data\n",
       "10  UnderlyingGDPbyIndustry                         Underlying GDP by Industry\n",
       "11            IntlServTrade                       International Services Trade\n",
       "12                 Regional                                 Regional data sets\n",
       "13       APIDatasetMetaData                  Metadata about other API datasets"
      ]
     },
     "execution_count": 3,
     "metadata": {},
     "output_type": "execute_result"
    }
   ],
   "source": [
    "# access the BEA data API...\n",
    "available_datasets = pybea.get_data_set_list(USER_ID)\n",
    "available_datasets"
   ]
  },
  {
   "cell_type": "code",
   "execution_count": 4,
   "metadata": {},
   "outputs": [
    {
     "data": {
      "text/html": [
       "<div>\n",
       "<style scoped>\n",
       "    .dataframe tbody tr th:only-of-type {\n",
       "        vertical-align: middle;\n",
       "    }\n",
       "\n",
       "    .dataframe tbody tr th {\n",
       "        vertical-align: top;\n",
       "    }\n",
       "\n",
       "    .dataframe thead th {\n",
       "        text-align: right;\n",
       "    }\n",
       "</style>\n",
       "<table border=\"1\" class=\"dataframe\">\n",
       "  <thead>\n",
       "    <tr style=\"text-align: right;\">\n",
       "      <th></th>\n",
       "      <th>DatasetName</th>\n",
       "      <th>DatasetDescription</th>\n",
       "    </tr>\n",
       "  </thead>\n",
       "  <tbody>\n",
       "    <tr>\n",
       "      <th>0</th>\n",
       "      <td>NIPA</td>\n",
       "      <td>Standard NIPA tables</td>\n",
       "    </tr>\n",
       "    <tr>\n",
       "      <th>1</th>\n",
       "      <td>NIUnderlyingDetail</td>\n",
       "      <td>Standard NI underlying detail tables</td>\n",
       "    </tr>\n",
       "    <tr>\n",
       "      <th>2</th>\n",
       "      <td>MNE</td>\n",
       "      <td>Multinational Enterprises</td>\n",
       "    </tr>\n",
       "    <tr>\n",
       "      <th>3</th>\n",
       "      <td>FixedAssets</td>\n",
       "      <td>Standard Fixed Assets tables</td>\n",
       "    </tr>\n",
       "    <tr>\n",
       "      <th>4</th>\n",
       "      <td>ITA</td>\n",
       "      <td>International Transactions Accounts</td>\n",
       "    </tr>\n",
       "    <tr>\n",
       "      <th>5</th>\n",
       "      <td>IIP</td>\n",
       "      <td>International Investment Position</td>\n",
       "    </tr>\n",
       "    <tr>\n",
       "      <th>6</th>\n",
       "      <td>GDPbyIndustry</td>\n",
       "      <td>GDP by Industry</td>\n",
       "    </tr>\n",
       "    <tr>\n",
       "      <th>7</th>\n",
       "      <td>RegionalIncome</td>\n",
       "      <td>The RegionalIncome dataset is obsolete. Please...</td>\n",
       "    </tr>\n",
       "    <tr>\n",
       "      <th>8</th>\n",
       "      <td>RegionalProduct</td>\n",
       "      <td>The RegionalProduct dataset is obsolete. Pleas...</td>\n",
       "    </tr>\n",
       "    <tr>\n",
       "      <th>9</th>\n",
       "      <td>InputOutput</td>\n",
       "      <td>Input-Output Data</td>\n",
       "    </tr>\n",
       "    <tr>\n",
       "      <th>10</th>\n",
       "      <td>UnderlyingGDPbyIndustry</td>\n",
       "      <td>Underlying GDP by Industry</td>\n",
       "    </tr>\n",
       "    <tr>\n",
       "      <th>11</th>\n",
       "      <td>IntlServTrade</td>\n",
       "      <td>International Services Trade</td>\n",
       "    </tr>\n",
       "    <tr>\n",
       "      <th>12</th>\n",
       "      <td>Regional</td>\n",
       "      <td>Regional data sets</td>\n",
       "    </tr>\n",
       "    <tr>\n",
       "      <th>13</th>\n",
       "      <td>APIDatasetMetaData</td>\n",
       "      <td>Metadata about other API datasets</td>\n",
       "    </tr>\n",
       "  </tbody>\n",
       "</table>\n",
       "</div>"
      ],
      "text/plain": [
       "                DatasetName                                 DatasetDescription\n",
       "0                      NIPA                               Standard NIPA tables\n",
       "1        NIUnderlyingDetail               Standard NI underlying detail tables\n",
       "2                       MNE                          Multinational Enterprises\n",
       "3               FixedAssets                       Standard Fixed Assets tables\n",
       "4                       ITA                International Transactions Accounts\n",
       "5                       IIP                  International Investment Position\n",
       "6             GDPbyIndustry                                    GDP by Industry\n",
       "7            RegionalIncome  The RegionalIncome dataset is obsolete. Please...\n",
       "8           RegionalProduct  The RegionalProduct dataset is obsolete. Pleas...\n",
       "9               InputOutput                                  Input-Output Data\n",
       "10  UnderlyingGDPbyIndustry                         Underlying GDP by Industry\n",
       "11            IntlServTrade                       International Services Trade\n",
       "12                 Regional                                 Regional data sets\n",
       "13       APIDatasetMetaData                  Metadata about other API datasets"
      ]
     },
     "execution_count": 4,
     "metadata": {},
     "output_type": "execute_result"
    }
   ],
   "source": [
    "request = pybea.api.DataSetListRequest(USER_ID,\n",
    "                                       ResultFormat=\"JSON\")\n",
    "request.data_set_list"
   ]
  },
  {
   "cell_type": "code",
   "execution_count": 5,
   "metadata": {},
   "outputs": [
    {
     "data": {
      "text/html": [
       "<div>\n",
       "<style scoped>\n",
       "    .dataframe tbody tr th:only-of-type {\n",
       "        vertical-align: middle;\n",
       "    }\n",
       "\n",
       "    .dataframe tbody tr th {\n",
       "        vertical-align: top;\n",
       "    }\n",
       "\n",
       "    .dataframe thead th {\n",
       "        text-align: right;\n",
       "    }\n",
       "</style>\n",
       "<table border=\"1\" class=\"dataframe\">\n",
       "  <thead>\n",
       "    <tr style=\"text-align: right;\">\n",
       "      <th></th>\n",
       "      <th>MultipleAcceptedFlag</th>\n",
       "      <th>ParameterDataType</th>\n",
       "      <th>ParameterDefaultValue</th>\n",
       "      <th>ParameterDescription</th>\n",
       "      <th>ParameterIsRequiredFlag</th>\n",
       "      <th>ParameterName</th>\n",
       "    </tr>\n",
       "  </thead>\n",
       "  <tbody>\n",
       "    <tr>\n",
       "      <th>0</th>\n",
       "      <td>1</td>\n",
       "      <td>string</td>\n",
       "      <td>0</td>\n",
       "      <td>Comma-delimited list of 5-character geographic...</td>\n",
       "      <td>0</td>\n",
       "      <td>GeoFips</td>\n",
       "    </tr>\n",
       "    <tr>\n",
       "      <th>1</th>\n",
       "      <td>0</td>\n",
       "      <td>integer</td>\n",
       "      <td>0</td>\n",
       "      <td>Line code for a statistic or industry</td>\n",
       "      <td>0</td>\n",
       "      <td>LineCode</td>\n",
       "    </tr>\n",
       "    <tr>\n",
       "      <th>2</th>\n",
       "      <td>0</td>\n",
       "      <td>string</td>\n",
       "      <td>0</td>\n",
       "      <td>Income or employment table to retrieve</td>\n",
       "      <td>0</td>\n",
       "      <td>TableName</td>\n",
       "    </tr>\n",
       "    <tr>\n",
       "      <th>3</th>\n",
       "      <td>1</td>\n",
       "      <td>string</td>\n",
       "      <td>0</td>\n",
       "      <td>Comma-delimted list of years; LAST5 for latest...</td>\n",
       "      <td>0</td>\n",
       "      <td>Year</td>\n",
       "    </tr>\n",
       "  </tbody>\n",
       "</table>\n",
       "</div>"
      ],
      "text/plain": [
       "   MultipleAcceptedFlag ParameterDataType ParameterDefaultValue  \\\n",
       "0                     1            string                     0   \n",
       "1                     0           integer                     0   \n",
       "2                     0            string                     0   \n",
       "3                     1            string                     0   \n",
       "\n",
       "                                ParameterDescription  ParameterIsRequiredFlag  \\\n",
       "0  Comma-delimited list of 5-character geographic...                        0   \n",
       "1              Line code for a statistic or industry                        0   \n",
       "2             Income or employment table to retrieve                        0   \n",
       "3  Comma-delimted list of years; LAST5 for latest...                        0   \n",
       "\n",
       "  ParameterName  \n",
       "0       GeoFips  \n",
       "1      LineCode  \n",
       "2     TableName  \n",
       "3          Year  "
      ]
     },
     "execution_count": 5,
     "metadata": {},
     "output_type": "execute_result"
    }
   ],
   "source": [
    "regional_income_params = pybea.get_parameter_list(USER_ID,\n",
    "                                                  DataSetName='RegionalIncome',\n",
    "                                                  ResultFormat=\"XML\")\n",
    "regional_income_params"
   ]
  },
  {
   "cell_type": "code",
   "execution_count": 6,
   "metadata": {},
   "outputs": [
    {
     "data": {
      "text/html": [
       "<div>\n",
       "<style scoped>\n",
       "    .dataframe tbody tr th:only-of-type {\n",
       "        vertical-align: middle;\n",
       "    }\n",
       "\n",
       "    .dataframe tbody tr th {\n",
       "        vertical-align: top;\n",
       "    }\n",
       "\n",
       "    .dataframe thead th {\n",
       "        text-align: right;\n",
       "    }\n",
       "</style>\n",
       "<table border=\"1\" class=\"dataframe\">\n",
       "  <thead>\n",
       "    <tr style=\"text-align: right;\">\n",
       "      <th></th>\n",
       "      <th>ParameterName</th>\n",
       "      <th>ParameterDataType</th>\n",
       "      <th>ParameterDescription</th>\n",
       "      <th>ParameterIsRequiredFlag</th>\n",
       "      <th>ParameterDefaultValue</th>\n",
       "      <th>MultipleAcceptedFlag</th>\n",
       "    </tr>\n",
       "  </thead>\n",
       "  <tbody>\n",
       "    <tr>\n",
       "      <th>0</th>\n",
       "      <td>GeoFips</td>\n",
       "      <td>string</td>\n",
       "      <td>Comma-delimited list of 5-character geographic...</td>\n",
       "      <td>0</td>\n",
       "      <td>0</td>\n",
       "      <td>1</td>\n",
       "    </tr>\n",
       "    <tr>\n",
       "      <th>1</th>\n",
       "      <td>LineCode</td>\n",
       "      <td>integer</td>\n",
       "      <td>Line code for a statistic or industry</td>\n",
       "      <td>0</td>\n",
       "      <td>0</td>\n",
       "      <td>0</td>\n",
       "    </tr>\n",
       "    <tr>\n",
       "      <th>2</th>\n",
       "      <td>TableName</td>\n",
       "      <td>string</td>\n",
       "      <td>Income or employment table to retrieve</td>\n",
       "      <td>0</td>\n",
       "      <td>0</td>\n",
       "      <td>0</td>\n",
       "    </tr>\n",
       "    <tr>\n",
       "      <th>3</th>\n",
       "      <td>Year</td>\n",
       "      <td>string</td>\n",
       "      <td>Comma-delimted list of years; LAST5 for latest...</td>\n",
       "      <td>0</td>\n",
       "      <td>0</td>\n",
       "      <td>1</td>\n",
       "    </tr>\n",
       "  </tbody>\n",
       "</table>\n",
       "</div>"
      ],
      "text/plain": [
       "  ParameterName ParameterDataType  \\\n",
       "0       GeoFips            string   \n",
       "1      LineCode           integer   \n",
       "2     TableName            string   \n",
       "3          Year            string   \n",
       "\n",
       "                                ParameterDescription  ParameterIsRequiredFlag  \\\n",
       "0  Comma-delimited list of 5-character geographic...                        0   \n",
       "1              Line code for a statistic or industry                        0   \n",
       "2             Income or employment table to retrieve                        0   \n",
       "3  Comma-delimted list of years; LAST5 for latest...                        0   \n",
       "\n",
       "  ParameterDefaultValue  MultipleAcceptedFlag  \n",
       "0                     0                     1  \n",
       "1                     0                     0  \n",
       "2                     0                     0  \n",
       "3                     0                     1  "
      ]
     },
     "execution_count": 6,
     "metadata": {},
     "output_type": "execute_result"
    }
   ],
   "source": [
    "request = pybea.api.ParameterListRequest(USER_ID,\n",
    "                                         DataSetName='RegionalIncome',\n",
    "                                         ResultFormat=\"JSON\")\n",
    "request.parameter_list"
   ]
  },
  {
   "cell_type": "code",
   "execution_count": 7,
   "metadata": {},
   "outputs": [
    {
     "ename": "KeyError",
     "evalue": "'Results'",
     "output_type": "error",
     "traceback": [
      "\u001b[1;31m---------------------------------------------------------------------------\u001b[0m",
      "\u001b[1;31mKeyError\u001b[0m                                  Traceback (most recent call last)",
      "\u001b[1;32m<ipython-input-7-c696c1d57031>\u001b[0m in \u001b[0;36m<module>\u001b[1;34m\u001b[0m\n\u001b[0;32m      1\u001b[0m regional_income_geofips = pybea.get_parameter_values(USER_ID,\n\u001b[0;32m      2\u001b[0m                                                      \u001b[0mDataSetName\u001b[0m\u001b[1;33m=\u001b[0m\u001b[1;34m'RegionalIncome'\u001b[0m\u001b[1;33m,\u001b[0m\u001b[1;33m\u001b[0m\u001b[1;33m\u001b[0m\u001b[0m\n\u001b[1;32m----> 3\u001b[1;33m                                                      ParameterName='GeoFips')\n\u001b[0m\u001b[0;32m      4\u001b[0m \u001b[0mregional_income_geofips\u001b[0m\u001b[1;33m\u001b[0m\u001b[1;33m\u001b[0m\u001b[0m\n",
      "\u001b[1;32m~\\Miniconda3\\lib\\site-packages\\pybea\\pybea.py\u001b[0m in \u001b[0;36mget_parameter_values\u001b[1;34m(UserID, DataSetName, ParameterName, ResultFormat)\u001b[0m\n\u001b[0;32m    113\u001b[0m                                              \u001b[0mParameterName\u001b[0m\u001b[1;33m=\u001b[0m\u001b[0mParameterName\u001b[0m\u001b[1;33m,\u001b[0m\u001b[1;33m\u001b[0m\u001b[1;33m\u001b[0m\u001b[0m\n\u001b[0;32m    114\u001b[0m                                              ResultFormat=ResultFormat)\n\u001b[1;32m--> 115\u001b[1;33m     \u001b[1;32mreturn\u001b[0m \u001b[0mtmp_request\u001b[0m\u001b[1;33m.\u001b[0m\u001b[0mparameter_values\u001b[0m\u001b[1;33m\u001b[0m\u001b[1;33m\u001b[0m\u001b[0m\n\u001b[0m\u001b[0;32m    116\u001b[0m \u001b[1;33m\u001b[0m\u001b[0m\n\u001b[0;32m    117\u001b[0m \u001b[1;33m\u001b[0m\u001b[0m\n",
      "\u001b[1;32m~\\Miniconda3\\lib\\site-packages\\pybea\\api.py\u001b[0m in \u001b[0;36mparameter_values\u001b[1;34m(self)\u001b[0m\n\u001b[0;32m    269\u001b[0m     \u001b[1;32mdef\u001b[0m \u001b[0mparameter_values\u001b[0m\u001b[1;33m(\u001b[0m\u001b[0mself\u001b[0m\u001b[1;33m)\u001b[0m\u001b[1;33m:\u001b[0m\u001b[1;33m\u001b[0m\u001b[1;33m\u001b[0m\u001b[0m\n\u001b[0;32m    270\u001b[0m         \u001b[1;32mif\u001b[0m \u001b[0mself\u001b[0m\u001b[1;33m[\u001b[0m\u001b[1;34m'ResultFormat'\u001b[0m\u001b[1;33m]\u001b[0m \u001b[1;33m==\u001b[0m \u001b[1;34m'JSON'\u001b[0m\u001b[1;33m:\u001b[0m\u001b[1;33m\u001b[0m\u001b[1;33m\u001b[0m\u001b[0m\n\u001b[1;32m--> 271\u001b[1;33m             \u001b[0mdf\u001b[0m \u001b[1;33m=\u001b[0m \u001b[0mpd\u001b[0m\u001b[1;33m.\u001b[0m\u001b[0mDataFrame\u001b[0m\u001b[1;33m(\u001b[0m\u001b[0mself\u001b[0m\u001b[1;33m.\u001b[0m\u001b[0m_json_parameter_values\u001b[0m\u001b[1;33m)\u001b[0m\u001b[1;33m\u001b[0m\u001b[1;33m\u001b[0m\u001b[0m\n\u001b[0m\u001b[0;32m    272\u001b[0m         \u001b[1;32melse\u001b[0m\u001b[1;33m:\u001b[0m\u001b[1;33m\u001b[0m\u001b[1;33m\u001b[0m\u001b[0m\n\u001b[0;32m    273\u001b[0m             \u001b[0mdf\u001b[0m \u001b[1;33m=\u001b[0m \u001b[0mself\u001b[0m\u001b[1;33m.\u001b[0m\u001b[0m_elements_to_dataframe\u001b[0m\u001b[1;33m(\u001b[0m\u001b[0mself\u001b[0m\u001b[1;33m.\u001b[0m\u001b[0m_xml_parameter_values\u001b[0m\u001b[1;33m,\u001b[0m \u001b[0mself\u001b[0m\u001b[1;33m.\u001b[0m\u001b[0m_dtypes\u001b[0m\u001b[1;33m.\u001b[0m\u001b[0mkeys\u001b[0m\u001b[1;33m(\u001b[0m\u001b[1;33m)\u001b[0m\u001b[1;33m)\u001b[0m\u001b[1;33m\u001b[0m\u001b[1;33m\u001b[0m\u001b[0m\n",
      "\u001b[1;32m~\\Miniconda3\\lib\\site-packages\\pybea\\api.py\u001b[0m in \u001b[0;36m_json_parameter_values\u001b[1;34m(self)\u001b[0m\n\u001b[0;32m    260\u001b[0m     \u001b[1;33m@\u001b[0m\u001b[0mproperty\u001b[0m\u001b[1;33m\u001b[0m\u001b[1;33m\u001b[0m\u001b[0m\n\u001b[0;32m    261\u001b[0m     \u001b[1;32mdef\u001b[0m \u001b[0m_json_parameter_values\u001b[0m\u001b[1;33m(\u001b[0m\u001b[0mself\u001b[0m\u001b[1;33m)\u001b[0m\u001b[1;33m:\u001b[0m\u001b[1;33m\u001b[0m\u001b[1;33m\u001b[0m\u001b[0m\n\u001b[1;32m--> 262\u001b[1;33m         \u001b[1;32mreturn\u001b[0m \u001b[0mself\u001b[0m\u001b[1;33m.\u001b[0m\u001b[0mresults\u001b[0m\u001b[1;33m[\u001b[0m\u001b[1;34m'ParamValue'\u001b[0m\u001b[1;33m]\u001b[0m\u001b[1;33m\u001b[0m\u001b[1;33m\u001b[0m\u001b[0m\n\u001b[0m\u001b[0;32m    263\u001b[0m \u001b[1;33m\u001b[0m\u001b[0m\n\u001b[0;32m    264\u001b[0m     \u001b[1;33m@\u001b[0m\u001b[0mproperty\u001b[0m\u001b[1;33m\u001b[0m\u001b[1;33m\u001b[0m\u001b[0m\n",
      "\u001b[1;32m~\\Miniconda3\\lib\\site-packages\\pybea\\api.py\u001b[0m in \u001b[0;36mresults\u001b[1;34m(self)\u001b[0m\n\u001b[0;32m     88\u001b[0m     \u001b[1;32mdef\u001b[0m \u001b[0mresults\u001b[0m\u001b[1;33m(\u001b[0m\u001b[0mself\u001b[0m\u001b[1;33m)\u001b[0m\u001b[1;33m:\u001b[0m\u001b[1;33m\u001b[0m\u001b[1;33m\u001b[0m\u001b[0m\n\u001b[0;32m     89\u001b[0m         \u001b[1;32mif\u001b[0m \u001b[0mself\u001b[0m\u001b[1;33m[\u001b[0m\u001b[1;34m'ResultFormat'\u001b[0m\u001b[1;33m]\u001b[0m \u001b[1;33m==\u001b[0m \u001b[1;34m'JSON'\u001b[0m\u001b[1;33m:\u001b[0m\u001b[1;33m\u001b[0m\u001b[1;33m\u001b[0m\u001b[0m\n\u001b[1;32m---> 90\u001b[1;33m             \u001b[0mtmp_results\u001b[0m \u001b[1;33m=\u001b[0m \u001b[0mself\u001b[0m\u001b[1;33m.\u001b[0m\u001b[0m_json_results\u001b[0m\u001b[1;33m\u001b[0m\u001b[1;33m\u001b[0m\u001b[0m\n\u001b[0m\u001b[0;32m     91\u001b[0m         \u001b[1;32melse\u001b[0m\u001b[1;33m:\u001b[0m\u001b[1;33m\u001b[0m\u001b[1;33m\u001b[0m\u001b[0m\n\u001b[0;32m     92\u001b[0m             \u001b[0mtmp_results\u001b[0m \u001b[1;33m=\u001b[0m \u001b[0mself\u001b[0m\u001b[1;33m.\u001b[0m\u001b[0m_xml_results\u001b[0m\u001b[1;33m\u001b[0m\u001b[1;33m\u001b[0m\u001b[0m\n",
      "\u001b[1;32m~\\Miniconda3\\lib\\site-packages\\pybea\\api.py\u001b[0m in \u001b[0;36m_json_results\u001b[1;34m(self)\u001b[0m\n\u001b[0;32m     55\u001b[0m     \u001b[1;32mdef\u001b[0m \u001b[0m_json_results\u001b[0m\u001b[1;33m(\u001b[0m\u001b[0mself\u001b[0m\u001b[1;33m)\u001b[0m\u001b[1;33m:\u001b[0m\u001b[1;33m\u001b[0m\u001b[1;33m\u001b[0m\u001b[0m\n\u001b[0;32m     56\u001b[0m         \u001b[0mraw_json\u001b[0m \u001b[1;33m=\u001b[0m \u001b[0mself\u001b[0m\u001b[1;33m.\u001b[0m\u001b[0m_json_content\u001b[0m\u001b[1;33m\u001b[0m\u001b[1;33m\u001b[0m\u001b[0m\n\u001b[1;32m---> 57\u001b[1;33m         \u001b[1;32mreturn\u001b[0m \u001b[0mraw_json\u001b[0m\u001b[1;33m[\u001b[0m\u001b[1;34m'BEAAPI'\u001b[0m\u001b[1;33m]\u001b[0m\u001b[1;33m[\u001b[0m\u001b[1;34m'Results'\u001b[0m\u001b[1;33m]\u001b[0m\u001b[1;33m\u001b[0m\u001b[1;33m\u001b[0m\u001b[0m\n\u001b[0m\u001b[0;32m     58\u001b[0m \u001b[1;33m\u001b[0m\u001b[0m\n\u001b[0;32m     59\u001b[0m     \u001b[1;33m@\u001b[0m\u001b[0mproperty\u001b[0m\u001b[1;33m\u001b[0m\u001b[1;33m\u001b[0m\u001b[0m\n",
      "\u001b[1;31mKeyError\u001b[0m: 'Results'"
     ]
    }
   ],
   "source": [
    "regional_income_geofips = pybea.get_parameter_values(USER_ID,\n",
    "                                                     DataSetName='RegionalIncome',\n",
    "                                                     ParameterName='GeoFips')\n",
    "regional_income_geofips"
   ]
  },
  {
   "cell_type": "code",
   "execution_count": 8,
   "metadata": {},
   "outputs": [
    {
     "ename": "KeyError",
     "evalue": "'Results'",
     "output_type": "error",
     "traceback": [
      "\u001b[1;31m---------------------------------------------------------------------------\u001b[0m",
      "\u001b[1;31mKeyError\u001b[0m                                  Traceback (most recent call last)",
      "\u001b[1;32m<ipython-input-8-20acbadc8809>\u001b[0m in \u001b[0;36m<module>\u001b[1;34m\u001b[0m\n\u001b[0;32m      2\u001b[0m                                            \u001b[0mDataSetName\u001b[0m\u001b[1;33m=\u001b[0m\u001b[1;34m'RegionalIncome'\u001b[0m\u001b[1;33m,\u001b[0m\u001b[1;33m\u001b[0m\u001b[1;33m\u001b[0m\u001b[0m\n\u001b[0;32m      3\u001b[0m                                            ParameterName='GeoFips')\n\u001b[1;32m----> 4\u001b[1;33m \u001b[0mrequest\u001b[0m\u001b[1;33m.\u001b[0m\u001b[0mparameter_values\u001b[0m\u001b[1;33m\u001b[0m\u001b[1;33m\u001b[0m\u001b[0m\n\u001b[0m",
      "\u001b[1;32m~\\Miniconda3\\lib\\site-packages\\pybea\\api.py\u001b[0m in \u001b[0;36mparameter_values\u001b[1;34m(self)\u001b[0m\n\u001b[0;32m    269\u001b[0m     \u001b[1;32mdef\u001b[0m \u001b[0mparameter_values\u001b[0m\u001b[1;33m(\u001b[0m\u001b[0mself\u001b[0m\u001b[1;33m)\u001b[0m\u001b[1;33m:\u001b[0m\u001b[1;33m\u001b[0m\u001b[1;33m\u001b[0m\u001b[0m\n\u001b[0;32m    270\u001b[0m         \u001b[1;32mif\u001b[0m \u001b[0mself\u001b[0m\u001b[1;33m[\u001b[0m\u001b[1;34m'ResultFormat'\u001b[0m\u001b[1;33m]\u001b[0m \u001b[1;33m==\u001b[0m \u001b[1;34m'JSON'\u001b[0m\u001b[1;33m:\u001b[0m\u001b[1;33m\u001b[0m\u001b[1;33m\u001b[0m\u001b[0m\n\u001b[1;32m--> 271\u001b[1;33m             \u001b[0mdf\u001b[0m \u001b[1;33m=\u001b[0m \u001b[0mpd\u001b[0m\u001b[1;33m.\u001b[0m\u001b[0mDataFrame\u001b[0m\u001b[1;33m(\u001b[0m\u001b[0mself\u001b[0m\u001b[1;33m.\u001b[0m\u001b[0m_json_parameter_values\u001b[0m\u001b[1;33m)\u001b[0m\u001b[1;33m\u001b[0m\u001b[1;33m\u001b[0m\u001b[0m\n\u001b[0m\u001b[0;32m    272\u001b[0m         \u001b[1;32melse\u001b[0m\u001b[1;33m:\u001b[0m\u001b[1;33m\u001b[0m\u001b[1;33m\u001b[0m\u001b[0m\n\u001b[0;32m    273\u001b[0m             \u001b[0mdf\u001b[0m \u001b[1;33m=\u001b[0m \u001b[0mself\u001b[0m\u001b[1;33m.\u001b[0m\u001b[0m_elements_to_dataframe\u001b[0m\u001b[1;33m(\u001b[0m\u001b[0mself\u001b[0m\u001b[1;33m.\u001b[0m\u001b[0m_xml_parameter_values\u001b[0m\u001b[1;33m,\u001b[0m \u001b[0mself\u001b[0m\u001b[1;33m.\u001b[0m\u001b[0m_dtypes\u001b[0m\u001b[1;33m.\u001b[0m\u001b[0mkeys\u001b[0m\u001b[1;33m(\u001b[0m\u001b[1;33m)\u001b[0m\u001b[1;33m)\u001b[0m\u001b[1;33m\u001b[0m\u001b[1;33m\u001b[0m\u001b[0m\n",
      "\u001b[1;32m~\\Miniconda3\\lib\\site-packages\\pybea\\api.py\u001b[0m in \u001b[0;36m_json_parameter_values\u001b[1;34m(self)\u001b[0m\n\u001b[0;32m    260\u001b[0m     \u001b[1;33m@\u001b[0m\u001b[0mproperty\u001b[0m\u001b[1;33m\u001b[0m\u001b[1;33m\u001b[0m\u001b[0m\n\u001b[0;32m    261\u001b[0m     \u001b[1;32mdef\u001b[0m \u001b[0m_json_parameter_values\u001b[0m\u001b[1;33m(\u001b[0m\u001b[0mself\u001b[0m\u001b[1;33m)\u001b[0m\u001b[1;33m:\u001b[0m\u001b[1;33m\u001b[0m\u001b[1;33m\u001b[0m\u001b[0m\n\u001b[1;32m--> 262\u001b[1;33m         \u001b[1;32mreturn\u001b[0m \u001b[0mself\u001b[0m\u001b[1;33m.\u001b[0m\u001b[0mresults\u001b[0m\u001b[1;33m[\u001b[0m\u001b[1;34m'ParamValue'\u001b[0m\u001b[1;33m]\u001b[0m\u001b[1;33m\u001b[0m\u001b[1;33m\u001b[0m\u001b[0m\n\u001b[0m\u001b[0;32m    263\u001b[0m \u001b[1;33m\u001b[0m\u001b[0m\n\u001b[0;32m    264\u001b[0m     \u001b[1;33m@\u001b[0m\u001b[0mproperty\u001b[0m\u001b[1;33m\u001b[0m\u001b[1;33m\u001b[0m\u001b[0m\n",
      "\u001b[1;32m~\\Miniconda3\\lib\\site-packages\\pybea\\api.py\u001b[0m in \u001b[0;36mresults\u001b[1;34m(self)\u001b[0m\n\u001b[0;32m     88\u001b[0m     \u001b[1;32mdef\u001b[0m \u001b[0mresults\u001b[0m\u001b[1;33m(\u001b[0m\u001b[0mself\u001b[0m\u001b[1;33m)\u001b[0m\u001b[1;33m:\u001b[0m\u001b[1;33m\u001b[0m\u001b[1;33m\u001b[0m\u001b[0m\n\u001b[0;32m     89\u001b[0m         \u001b[1;32mif\u001b[0m \u001b[0mself\u001b[0m\u001b[1;33m[\u001b[0m\u001b[1;34m'ResultFormat'\u001b[0m\u001b[1;33m]\u001b[0m \u001b[1;33m==\u001b[0m \u001b[1;34m'JSON'\u001b[0m\u001b[1;33m:\u001b[0m\u001b[1;33m\u001b[0m\u001b[1;33m\u001b[0m\u001b[0m\n\u001b[1;32m---> 90\u001b[1;33m             \u001b[0mtmp_results\u001b[0m \u001b[1;33m=\u001b[0m \u001b[0mself\u001b[0m\u001b[1;33m.\u001b[0m\u001b[0m_json_results\u001b[0m\u001b[1;33m\u001b[0m\u001b[1;33m\u001b[0m\u001b[0m\n\u001b[0m\u001b[0;32m     91\u001b[0m         \u001b[1;32melse\u001b[0m\u001b[1;33m:\u001b[0m\u001b[1;33m\u001b[0m\u001b[1;33m\u001b[0m\u001b[0m\n\u001b[0;32m     92\u001b[0m             \u001b[0mtmp_results\u001b[0m \u001b[1;33m=\u001b[0m \u001b[0mself\u001b[0m\u001b[1;33m.\u001b[0m\u001b[0m_xml_results\u001b[0m\u001b[1;33m\u001b[0m\u001b[1;33m\u001b[0m\u001b[0m\n",
      "\u001b[1;32m~\\Miniconda3\\lib\\site-packages\\pybea\\api.py\u001b[0m in \u001b[0;36m_json_results\u001b[1;34m(self)\u001b[0m\n\u001b[0;32m     55\u001b[0m     \u001b[1;32mdef\u001b[0m \u001b[0m_json_results\u001b[0m\u001b[1;33m(\u001b[0m\u001b[0mself\u001b[0m\u001b[1;33m)\u001b[0m\u001b[1;33m:\u001b[0m\u001b[1;33m\u001b[0m\u001b[1;33m\u001b[0m\u001b[0m\n\u001b[0;32m     56\u001b[0m         \u001b[0mraw_json\u001b[0m \u001b[1;33m=\u001b[0m \u001b[0mself\u001b[0m\u001b[1;33m.\u001b[0m\u001b[0m_json_content\u001b[0m\u001b[1;33m\u001b[0m\u001b[1;33m\u001b[0m\u001b[0m\n\u001b[1;32m---> 57\u001b[1;33m         \u001b[1;32mreturn\u001b[0m \u001b[0mraw_json\u001b[0m\u001b[1;33m[\u001b[0m\u001b[1;34m'BEAAPI'\u001b[0m\u001b[1;33m]\u001b[0m\u001b[1;33m[\u001b[0m\u001b[1;34m'Results'\u001b[0m\u001b[1;33m]\u001b[0m\u001b[1;33m\u001b[0m\u001b[1;33m\u001b[0m\u001b[0m\n\u001b[0m\u001b[0;32m     58\u001b[0m \u001b[1;33m\u001b[0m\u001b[0m\n\u001b[0;32m     59\u001b[0m     \u001b[1;33m@\u001b[0m\u001b[0mproperty\u001b[0m\u001b[1;33m\u001b[0m\u001b[1;33m\u001b[0m\u001b[0m\n",
      "\u001b[1;31mKeyError\u001b[0m: 'Results'"
     ]
    }
   ],
   "source": [
    "request = pybea.api.ParameterValuesRequest(USER_ID,\n",
    "                                           DataSetName='RegionalIncome',\n",
    "                                           ParameterName='GeoFips')\n",
    "request.parameter_values"
   ]
  },
  {
   "cell_type": "markdown",
   "metadata": {},
   "source": [
    "## Data Retrieval API Method\n",
    "\n",
    "The BEA API has one method for retrieving data: `GetData`. This method has its own function in the `pybea` package. "
   ]
  },
  {
   "cell_type": "code",
   "execution_count": null,
   "metadata": {},
   "outputs": [],
   "source": [
    "pybea.get_data?"
   ]
  },
  {
   "cell_type": "markdown",
   "metadata": {},
   "source": [
    "# NIPA (National Income and Product Accounts)\n",
    "\n",
    "This dataset contains data from the National Income and Product Accounts which include measures of the value and composition of U.S.production and the incomes generated in producing it. NIPA data is provided on a table basis; individual tables contain between fewer than 10 to more than 200 distinct data series.\n",
    "\n",
    "## Example Usage\n",
    "\n",
    "Percent change in Real Gross Domestic Product, Annually and Quarterly for all years."
   ]
  },
  {
   "cell_type": "code",
   "execution_count": 9,
   "metadata": {},
   "outputs": [],
   "source": [
    "data = pybea.get_data(USER_ID,\n",
    "                      DataSetName='NIPA',\n",
    "                      TableName='T10101',\n",
    "                      Frequency=['A', 'Q'],\n",
    "                      Year='ALL',\n",
    "                      ResultFormat=\"XML\"\n",
    "                      )"
   ]
  },
  {
   "cell_type": "code",
   "execution_count": 10,
   "metadata": {},
   "outputs": [
    {
     "data": {
      "text/html": [
       "<div>\n",
       "<style scoped>\n",
       "    .dataframe tbody tr th:only-of-type {\n",
       "        vertical-align: middle;\n",
       "    }\n",
       "\n",
       "    .dataframe tbody tr th {\n",
       "        vertical-align: top;\n",
       "    }\n",
       "\n",
       "    .dataframe thead th {\n",
       "        text-align: right;\n",
       "    }\n",
       "</style>\n",
       "<table border=\"1\" class=\"dataframe\">\n",
       "  <thead>\n",
       "    <tr style=\"text-align: right;\">\n",
       "      <th></th>\n",
       "      <th>TableName</th>\n",
       "      <th>SeriesCode</th>\n",
       "      <th>LineNumber</th>\n",
       "      <th>LineDescription</th>\n",
       "      <th>TimePeriod</th>\n",
       "      <th>CL_UNIT</th>\n",
       "      <th>UNIT_MULT</th>\n",
       "      <th>METRIC_NAME</th>\n",
       "      <th>DataValue</th>\n",
       "    </tr>\n",
       "  </thead>\n",
       "  <tbody>\n",
       "    <tr>\n",
       "      <th>0</th>\n",
       "      <td>T10101</td>\n",
       "      <td>A191RL</td>\n",
       "      <td>1</td>\n",
       "      <td>Gross domestic product</td>\n",
       "      <td>1947Q2</td>\n",
       "      <td>Percent change, annual rate</td>\n",
       "      <td>0</td>\n",
       "      <td>Fisher Quantity Index</td>\n",
       "      <td>-1.0</td>\n",
       "    </tr>\n",
       "    <tr>\n",
       "      <th>1</th>\n",
       "      <td>T10101</td>\n",
       "      <td>A191RL</td>\n",
       "      <td>1</td>\n",
       "      <td>Gross domestic product</td>\n",
       "      <td>1947Q3</td>\n",
       "      <td>Percent change, annual rate</td>\n",
       "      <td>0</td>\n",
       "      <td>Fisher Quantity Index</td>\n",
       "      <td>-0.8</td>\n",
       "    </tr>\n",
       "    <tr>\n",
       "      <th>2</th>\n",
       "      <td>T10101</td>\n",
       "      <td>A191RL</td>\n",
       "      <td>1</td>\n",
       "      <td>Gross domestic product</td>\n",
       "      <td>1947Q4</td>\n",
       "      <td>Percent change, annual rate</td>\n",
       "      <td>0</td>\n",
       "      <td>Fisher Quantity Index</td>\n",
       "      <td>6.4</td>\n",
       "    </tr>\n",
       "    <tr>\n",
       "      <th>3</th>\n",
       "      <td>T10101</td>\n",
       "      <td>A191RL</td>\n",
       "      <td>1</td>\n",
       "      <td>Gross domestic product</td>\n",
       "      <td>1948Q1</td>\n",
       "      <td>Percent change, annual rate</td>\n",
       "      <td>0</td>\n",
       "      <td>Fisher Quantity Index</td>\n",
       "      <td>6.2</td>\n",
       "    </tr>\n",
       "    <tr>\n",
       "      <th>4</th>\n",
       "      <td>T10101</td>\n",
       "      <td>A191RL</td>\n",
       "      <td>1</td>\n",
       "      <td>Gross domestic product</td>\n",
       "      <td>1948Q2</td>\n",
       "      <td>Percent change, annual rate</td>\n",
       "      <td>0</td>\n",
       "      <td>Fisher Quantity Index</td>\n",
       "      <td>6.8</td>\n",
       "    </tr>\n",
       "  </tbody>\n",
       "</table>\n",
       "</div>"
      ],
      "text/plain": [
       "  TableName SeriesCode  LineNumber         LineDescription TimePeriod  \\\n",
       "0    T10101     A191RL           1  Gross domestic product     1947Q2   \n",
       "1    T10101     A191RL           1  Gross domestic product     1947Q3   \n",
       "2    T10101     A191RL           1  Gross domestic product     1947Q4   \n",
       "3    T10101     A191RL           1  Gross domestic product     1948Q1   \n",
       "4    T10101     A191RL           1  Gross domestic product     1948Q2   \n",
       "\n",
       "                       CL_UNIT  UNIT_MULT            METRIC_NAME  DataValue  \n",
       "0  Percent change, annual rate          0  Fisher Quantity Index       -1.0  \n",
       "1  Percent change, annual rate          0  Fisher Quantity Index       -0.8  \n",
       "2  Percent change, annual rate          0  Fisher Quantity Index        6.4  \n",
       "3  Percent change, annual rate          0  Fisher Quantity Index        6.2  \n",
       "4  Percent change, annual rate          0  Fisher Quantity Index        6.8  "
      ]
     },
     "execution_count": 10,
     "metadata": {},
     "output_type": "execute_result"
    }
   ],
   "source": [
    "data.head()"
   ]
  },
  {
   "cell_type": "code",
   "execution_count": 11,
   "metadata": {},
   "outputs": [
    {
     "data": {
      "text/html": [
       "<div>\n",
       "<style scoped>\n",
       "    .dataframe tbody tr th:only-of-type {\n",
       "        vertical-align: middle;\n",
       "    }\n",
       "\n",
       "    .dataframe tbody tr th {\n",
       "        vertical-align: top;\n",
       "    }\n",
       "\n",
       "    .dataframe thead th {\n",
       "        text-align: right;\n",
       "    }\n",
       "</style>\n",
       "<table border=\"1\" class=\"dataframe\">\n",
       "  <thead>\n",
       "    <tr style=\"text-align: right;\">\n",
       "      <th></th>\n",
       "      <th>TableName</th>\n",
       "      <th>SeriesCode</th>\n",
       "      <th>LineNumber</th>\n",
       "      <th>LineDescription</th>\n",
       "      <th>TimePeriod</th>\n",
       "      <th>CL_UNIT</th>\n",
       "      <th>UNIT_MULT</th>\n",
       "      <th>METRIC_NAME</th>\n",
       "      <th>DataValue</th>\n",
       "    </tr>\n",
       "  </thead>\n",
       "  <tbody>\n",
       "    <tr>\n",
       "      <th>7270</th>\n",
       "      <td>T10101</td>\n",
       "      <td>A191RP</td>\n",
       "      <td>27</td>\n",
       "      <td>Gross domestic product, current dollars</td>\n",
       "      <td>2018Q4</td>\n",
       "      <td>Percent change, annual rate</td>\n",
       "      <td>0</td>\n",
       "      <td>Current Dollars</td>\n",
       "      <td>2.9</td>\n",
       "    </tr>\n",
       "    <tr>\n",
       "      <th>7271</th>\n",
       "      <td>T10101</td>\n",
       "      <td>A191RP</td>\n",
       "      <td>27</td>\n",
       "      <td>Gross domestic product, current dollars</td>\n",
       "      <td>2019Q1</td>\n",
       "      <td>Percent change, annual rate</td>\n",
       "      <td>0</td>\n",
       "      <td>Current Dollars</td>\n",
       "      <td>3.9</td>\n",
       "    </tr>\n",
       "    <tr>\n",
       "      <th>7272</th>\n",
       "      <td>T10101</td>\n",
       "      <td>A191RP</td>\n",
       "      <td>27</td>\n",
       "      <td>Gross domestic product, current dollars</td>\n",
       "      <td>2019Q2</td>\n",
       "      <td>Percent change, annual rate</td>\n",
       "      <td>0</td>\n",
       "      <td>Current Dollars</td>\n",
       "      <td>4.7</td>\n",
       "    </tr>\n",
       "    <tr>\n",
       "      <th>7273</th>\n",
       "      <td>T10101</td>\n",
       "      <td>A191RP</td>\n",
       "      <td>27</td>\n",
       "      <td>Gross domestic product, current dollars</td>\n",
       "      <td>2019Q3</td>\n",
       "      <td>Percent change, annual rate</td>\n",
       "      <td>0</td>\n",
       "      <td>Current Dollars</td>\n",
       "      <td>3.8</td>\n",
       "    </tr>\n",
       "    <tr>\n",
       "      <th>7274</th>\n",
       "      <td>T10101</td>\n",
       "      <td>A191RP</td>\n",
       "      <td>27</td>\n",
       "      <td>Gross domestic product, current dollars</td>\n",
       "      <td>2019Q4</td>\n",
       "      <td>Percent change, annual rate</td>\n",
       "      <td>0</td>\n",
       "      <td>Current Dollars</td>\n",
       "      <td>3.5</td>\n",
       "    </tr>\n",
       "  </tbody>\n",
       "</table>\n",
       "</div>"
      ],
      "text/plain": [
       "     TableName SeriesCode  LineNumber  \\\n",
       "7270    T10101     A191RP          27   \n",
       "7271    T10101     A191RP          27   \n",
       "7272    T10101     A191RP          27   \n",
       "7273    T10101     A191RP          27   \n",
       "7274    T10101     A191RP          27   \n",
       "\n",
       "                              LineDescription TimePeriod  \\\n",
       "7270  Gross domestic product, current dollars     2018Q4   \n",
       "7271  Gross domestic product, current dollars     2019Q1   \n",
       "7272  Gross domestic product, current dollars     2019Q2   \n",
       "7273  Gross domestic product, current dollars     2019Q3   \n",
       "7274  Gross domestic product, current dollars     2019Q4   \n",
       "\n",
       "                          CL_UNIT  UNIT_MULT      METRIC_NAME  DataValue  \n",
       "7270  Percent change, annual rate          0  Current Dollars        2.9  \n",
       "7271  Percent change, annual rate          0  Current Dollars        3.9  \n",
       "7272  Percent change, annual rate          0  Current Dollars        4.7  \n",
       "7273  Percent change, annual rate          0  Current Dollars        3.8  \n",
       "7274  Percent change, annual rate          0  Current Dollars        3.5  "
      ]
     },
     "execution_count": 11,
     "metadata": {},
     "output_type": "execute_result"
    }
   ],
   "source": [
    "data.tail()"
   ]
  },
  {
   "cell_type": "markdown",
   "metadata": {},
   "source": [
    "## Example Usage\n",
    "\n",
    "Personal Income, Monthly, for 2015 and 2016."
   ]
  },
  {
   "cell_type": "code",
   "execution_count": 17,
   "metadata": {},
   "outputs": [],
   "source": [
    "request = pybea.api.NIPARequest(USER_ID,\n",
    "                                TableName='T20600',\n",
    "                                Frequency='M',\n",
    "                                Year=['2018', '2019'],\n",
    "                                ResultFormat='JSON')"
   ]
  },
  {
   "cell_type": "code",
   "execution_count": 18,
   "metadata": {},
   "outputs": [
    {
     "data": {
      "text/html": [
       "<div>\n",
       "<style scoped>\n",
       "    .dataframe tbody tr th:only-of-type {\n",
       "        vertical-align: middle;\n",
       "    }\n",
       "\n",
       "    .dataframe tbody tr th {\n",
       "        vertical-align: top;\n",
       "    }\n",
       "\n",
       "    .dataframe thead th {\n",
       "        text-align: right;\n",
       "    }\n",
       "</style>\n",
       "<table border=\"1\" class=\"dataframe\">\n",
       "  <thead>\n",
       "    <tr style=\"text-align: right;\">\n",
       "      <th></th>\n",
       "      <th>TableName</th>\n",
       "      <th>SeriesCode</th>\n",
       "      <th>LineNumber</th>\n",
       "      <th>LineDescription</th>\n",
       "      <th>TimePeriod</th>\n",
       "      <th>METRIC_NAME</th>\n",
       "      <th>CL_UNIT</th>\n",
       "      <th>UNIT_MULT</th>\n",
       "      <th>DataValue</th>\n",
       "      <th>NoteRef</th>\n",
       "    </tr>\n",
       "  </thead>\n",
       "  <tbody>\n",
       "    <tr>\n",
       "      <th>0</th>\n",
       "      <td>T20600</td>\n",
       "      <td>A065RC</td>\n",
       "      <td>1</td>\n",
       "      <td>Personal income</td>\n",
       "      <td>2019M01</td>\n",
       "      <td>Current Dollars</td>\n",
       "      <td>Level</td>\n",
       "      <td>6</td>\n",
       "      <td>18257357.0</td>\n",
       "      <td>NaN</td>\n",
       "    </tr>\n",
       "    <tr>\n",
       "      <th>1</th>\n",
       "      <td>T20600</td>\n",
       "      <td>A065RC</td>\n",
       "      <td>1</td>\n",
       "      <td>Personal income</td>\n",
       "      <td>2019M02</td>\n",
       "      <td>Current Dollars</td>\n",
       "      <td>Level</td>\n",
       "      <td>6</td>\n",
       "      <td>18363477.0</td>\n",
       "      <td>NaN</td>\n",
       "    </tr>\n",
       "    <tr>\n",
       "      <th>2</th>\n",
       "      <td>T20600</td>\n",
       "      <td>A065RC</td>\n",
       "      <td>1</td>\n",
       "      <td>Personal income</td>\n",
       "      <td>2019M03</td>\n",
       "      <td>Current Dollars</td>\n",
       "      <td>Level</td>\n",
       "      <td>6</td>\n",
       "      <td>18445506.0</td>\n",
       "      <td>NaN</td>\n",
       "    </tr>\n",
       "    <tr>\n",
       "      <th>3</th>\n",
       "      <td>T20600</td>\n",
       "      <td>A065RC</td>\n",
       "      <td>1</td>\n",
       "      <td>Personal income</td>\n",
       "      <td>2019M04</td>\n",
       "      <td>Current Dollars</td>\n",
       "      <td>Level</td>\n",
       "      <td>6</td>\n",
       "      <td>18505679.0</td>\n",
       "      <td>NaN</td>\n",
       "    </tr>\n",
       "    <tr>\n",
       "      <th>4</th>\n",
       "      <td>T20600</td>\n",
       "      <td>A065RC</td>\n",
       "      <td>1</td>\n",
       "      <td>Personal income</td>\n",
       "      <td>2019M05</td>\n",
       "      <td>Current Dollars</td>\n",
       "      <td>Level</td>\n",
       "      <td>6</td>\n",
       "      <td>18546520.0</td>\n",
       "      <td>NaN</td>\n",
       "    </tr>\n",
       "  </tbody>\n",
       "</table>\n",
       "</div>"
      ],
      "text/plain": [
       "  TableName SeriesCode  LineNumber  LineDescription TimePeriod  \\\n",
       "0    T20600     A065RC           1  Personal income    2019M01   \n",
       "1    T20600     A065RC           1  Personal income    2019M02   \n",
       "2    T20600     A065RC           1  Personal income    2019M03   \n",
       "3    T20600     A065RC           1  Personal income    2019M04   \n",
       "4    T20600     A065RC           1  Personal income    2019M05   \n",
       "\n",
       "       METRIC_NAME CL_UNIT  UNIT_MULT   DataValue NoteRef  \n",
       "0  Current Dollars   Level          6  18257357.0     NaN  \n",
       "1  Current Dollars   Level          6  18363477.0     NaN  \n",
       "2  Current Dollars   Level          6  18445506.0     NaN  \n",
       "3  Current Dollars   Level          6  18505679.0     NaN  \n",
       "4  Current Dollars   Level          6  18546520.0     NaN  "
      ]
     },
     "execution_count": 18,
     "metadata": {},
     "output_type": "execute_result"
    }
   ],
   "source": [
    "request.data.head()"
   ]
  },
  {
   "cell_type": "code",
   "execution_count": 19,
   "metadata": {},
   "outputs": [
    {
     "data": {
      "text/html": [
       "<div>\n",
       "<style scoped>\n",
       "    .dataframe tbody tr th:only-of-type {\n",
       "        vertical-align: middle;\n",
       "    }\n",
       "\n",
       "    .dataframe tbody tr th {\n",
       "        vertical-align: top;\n",
       "    }\n",
       "\n",
       "    .dataframe thead th {\n",
       "        text-align: right;\n",
       "    }\n",
       "</style>\n",
       "<table border=\"1\" class=\"dataframe\">\n",
       "  <thead>\n",
       "    <tr style=\"text-align: right;\">\n",
       "      <th></th>\n",
       "      <th>TableName</th>\n",
       "      <th>SeriesCode</th>\n",
       "      <th>LineNumber</th>\n",
       "      <th>LineDescription</th>\n",
       "      <th>TimePeriod</th>\n",
       "      <th>CL_UNIT</th>\n",
       "      <th>UNIT_MULT</th>\n",
       "      <th>METRIC_NAME</th>\n",
       "      <th>DataValue</th>\n",
       "    </tr>\n",
       "  </thead>\n",
       "  <tbody>\n",
       "    <tr>\n",
       "      <th>7270</th>\n",
       "      <td>T10101</td>\n",
       "      <td>A191RP</td>\n",
       "      <td>27</td>\n",
       "      <td>Gross domestic product, current dollars</td>\n",
       "      <td>2018Q4</td>\n",
       "      <td>Percent change, annual rate</td>\n",
       "      <td>0</td>\n",
       "      <td>Current Dollars</td>\n",
       "      <td>2.9</td>\n",
       "    </tr>\n",
       "    <tr>\n",
       "      <th>7271</th>\n",
       "      <td>T10101</td>\n",
       "      <td>A191RP</td>\n",
       "      <td>27</td>\n",
       "      <td>Gross domestic product, current dollars</td>\n",
       "      <td>2019Q1</td>\n",
       "      <td>Percent change, annual rate</td>\n",
       "      <td>0</td>\n",
       "      <td>Current Dollars</td>\n",
       "      <td>3.9</td>\n",
       "    </tr>\n",
       "    <tr>\n",
       "      <th>7272</th>\n",
       "      <td>T10101</td>\n",
       "      <td>A191RP</td>\n",
       "      <td>27</td>\n",
       "      <td>Gross domestic product, current dollars</td>\n",
       "      <td>2019Q2</td>\n",
       "      <td>Percent change, annual rate</td>\n",
       "      <td>0</td>\n",
       "      <td>Current Dollars</td>\n",
       "      <td>4.7</td>\n",
       "    </tr>\n",
       "    <tr>\n",
       "      <th>7273</th>\n",
       "      <td>T10101</td>\n",
       "      <td>A191RP</td>\n",
       "      <td>27</td>\n",
       "      <td>Gross domestic product, current dollars</td>\n",
       "      <td>2019Q3</td>\n",
       "      <td>Percent change, annual rate</td>\n",
       "      <td>0</td>\n",
       "      <td>Current Dollars</td>\n",
       "      <td>3.8</td>\n",
       "    </tr>\n",
       "    <tr>\n",
       "      <th>7274</th>\n",
       "      <td>T10101</td>\n",
       "      <td>A191RP</td>\n",
       "      <td>27</td>\n",
       "      <td>Gross domestic product, current dollars</td>\n",
       "      <td>2019Q4</td>\n",
       "      <td>Percent change, annual rate</td>\n",
       "      <td>0</td>\n",
       "      <td>Current Dollars</td>\n",
       "      <td>3.5</td>\n",
       "    </tr>\n",
       "  </tbody>\n",
       "</table>\n",
       "</div>"
      ],
      "text/plain": [
       "     TableName SeriesCode  LineNumber  \\\n",
       "7270    T10101     A191RP          27   \n",
       "7271    T10101     A191RP          27   \n",
       "7272    T10101     A191RP          27   \n",
       "7273    T10101     A191RP          27   \n",
       "7274    T10101     A191RP          27   \n",
       "\n",
       "                              LineDescription TimePeriod  \\\n",
       "7270  Gross domestic product, current dollars     2018Q4   \n",
       "7271  Gross domestic product, current dollars     2019Q1   \n",
       "7272  Gross domestic product, current dollars     2019Q2   \n",
       "7273  Gross domestic product, current dollars     2019Q3   \n",
       "7274  Gross domestic product, current dollars     2019Q4   \n",
       "\n",
       "                          CL_UNIT  UNIT_MULT      METRIC_NAME  DataValue  \n",
       "7270  Percent change, annual rate          0  Current Dollars        2.9  \n",
       "7271  Percent change, annual rate          0  Current Dollars        3.9  \n",
       "7272  Percent change, annual rate          0  Current Dollars        4.7  \n",
       "7273  Percent change, annual rate          0  Current Dollars        3.8  \n",
       "7274  Percent change, annual rate          0  Current Dollars        3.5  "
      ]
     },
     "execution_count": 19,
     "metadata": {},
     "output_type": "execute_result"
    }
   ],
   "source": [
    "data.tail()"
   ]
  },
  {
   "cell_type": "markdown",
   "metadata": {},
   "source": [
    "# NIUnderlyingDetail (National Income and Product Accounts)\n",
    "\n",
    "The DataSetName is NIUnderlyingDetail. This dataset contains underlying detail data from the National Income and Product Accounts which include measures of the value and composition of U.S.production and the incomes generated in producing it. NIPA Underlying Detail data is provided on a table basis; individual tables contain between fewer than 10 to more than 200 distinct data series.\n",
    "\n",
    "## Example Usage\n",
    "\n",
    "Personal Consumption Expenditures, Current Dollars, Annually, Quarterly and Monthly for all years."
   ]
  },
  {
   "cell_type": "code",
   "execution_count": null,
   "metadata": {},
   "outputs": [],
   "source": [
    "data = pybea.get_data(USER_ID,\n",
    "                      DataSetName='NIUnderlyingDetail',\n",
    "                      TableName='U20305',\n",
    "                      Frequency=['A', 'Q'],\n",
    "                      Year='ALL',\n",
    "                      ResultFormat='XML')"
   ]
  },
  {
   "cell_type": "code",
   "execution_count": null,
   "metadata": {},
   "outputs": [],
   "source": [
    "data.head()"
   ]
  },
  {
   "cell_type": "code",
   "execution_count": null,
   "metadata": {},
   "outputs": [],
   "source": [
    "data.tail()"
   ]
  },
  {
   "cell_type": "markdown",
   "metadata": {},
   "source": [
    "## Example Usage\n",
    "\n",
    "Auto and Truck Unit Sales, Production, Inventories, Expenditures and Price, Monthly, for 2015 and 2016"
   ]
  },
  {
   "cell_type": "code",
   "execution_count": null,
   "metadata": {},
   "outputs": [],
   "source": [
    "request = pybea.api.NIUnderlyingDetailRequest(USER_ID,\n",
    "                                              TableName='U70205S',\n",
    "                                              Frequency='M',\n",
    "                                              Year=['2015', '2016'],\n",
    "                                              ResultFormat='JSON')"
   ]
  },
  {
   "cell_type": "code",
   "execution_count": null,
   "metadata": {},
   "outputs": [],
   "source": [
    "request.data.head()"
   ]
  },
  {
   "cell_type": "code",
   "execution_count": null,
   "metadata": {},
   "outputs": [],
   "source": [
    "request.data.tail()"
   ]
  },
  {
   "cell_type": "markdown",
   "metadata": {},
   "source": [
    "# Fixed Assets\n",
    "\n",
    "The FixedAssets dataset contains data from the standard set of Fixed Assets tables as published online."
   ]
  },
  {
   "cell_type": "code",
   "execution_count": null,
   "metadata": {},
   "outputs": [],
   "source": [
    "data = pybea.get_data(USER_ID,\n",
    "                      DataSetName='FixedAssets',\n",
    "                      TableID='16',\n",
    "                      Year='2012',\n",
    "                      ResultFormat='XML')"
   ]
  },
  {
   "cell_type": "code",
   "execution_count": null,
   "metadata": {},
   "outputs": [],
   "source": [
    "data.head()"
   ]
  },
  {
   "cell_type": "code",
   "execution_count": null,
   "metadata": {},
   "outputs": [],
   "source": [
    "data.tail()"
   ]
  },
  {
   "cell_type": "markdown",
   "metadata": {},
   "source": [
    "# ITA (International Transactions)\n",
    "\n",
    "This dataset contains data on U.S. international transactions. BEA's international transactions (balance of payments) accounts include all transactions between U.S. and foreign residents.\n",
    "\n",
    "## Example Usage\n",
    "\n",
    "Balance on goods with China for 2011 and 2012."
   ]
  },
  {
   "cell_type": "code",
   "execution_count": null,
   "metadata": {},
   "outputs": [],
   "source": [
    "data = pybea.get_data(USER_ID,\n",
    "                      DataSetName='ITA',\n",
    "                      Indicator='BalGds',\n",
    "                      AreaOrCountry='China',\n",
    "                      Frequency='A',\n",
    "                      Year=['2011', '2012'],\n",
    "                      ResultFormat='XML')"
   ]
  },
  {
   "cell_type": "code",
   "execution_count": null,
   "metadata": {},
   "outputs": [],
   "source": [
    "data.head()"
   ]
  },
  {
   "cell_type": "markdown",
   "metadata": {},
   "source": [
    "## Example Usage\n",
    "\n",
    "Net U.S. acquisition of portfolio investment assets (quarterly not seasonally adjusted) for 2013."
   ]
  },
  {
   "cell_type": "code",
   "execution_count": null,
   "metadata": {},
   "outputs": [],
   "source": [
    "data = pybea.get_data(USER_ID,\n",
    "                      DataSetName='ITA',\n",
    "                      Indicator='PfInvAssets',\n",
    "                      AreaOrCountry='AllCountries',\n",
    "                      Frequency='QNSA',\n",
    "                      Year='2013',\n",
    "                      ResultFormat='XML')"
   ]
  },
  {
   "cell_type": "code",
   "execution_count": null,
   "metadata": {},
   "outputs": [],
   "source": [
    "data.head()"
   ]
  },
  {
   "cell_type": "markdown",
   "metadata": {},
   "source": [
    "# [DEPRECATED] RegionalIncome\n",
    "\n",
    "## Example Usage\n",
    "\n",
    "Fetch data on personal income for 2012 and 2013 for all counties, in JSON format"
   ]
  },
  {
   "cell_type": "code",
   "execution_count": 15,
   "metadata": {},
   "outputs": [
    {
     "ename": "KeyError",
     "evalue": "'Results'",
     "output_type": "error",
     "traceback": [
      "\u001b[1;31m---------------------------------------------------------------------------\u001b[0m",
      "\u001b[1;31mKeyError\u001b[0m                                  Traceback (most recent call last)",
      "\u001b[1;32m<ipython-input-15-4c74875aea6c>\u001b[0m in \u001b[0;36m<module>\u001b[1;34m\u001b[0m\n\u001b[0;32m      5\u001b[0m                       \u001b[0mGeoFips\u001b[0m\u001b[1;33m=\u001b[0m\u001b[1;34m'COUNTY'\u001b[0m\u001b[1;33m,\u001b[0m\u001b[1;33m\u001b[0m\u001b[1;33m\u001b[0m\u001b[0m\n\u001b[0;32m      6\u001b[0m                       \u001b[0mYear\u001b[0m\u001b[1;33m=\u001b[0m\u001b[1;33m[\u001b[0m\u001b[1;34m'2012'\u001b[0m\u001b[1;33m,\u001b[0m \u001b[1;34m'2013'\u001b[0m\u001b[1;33m]\u001b[0m\u001b[1;33m,\u001b[0m\u001b[1;33m\u001b[0m\u001b[1;33m\u001b[0m\u001b[0m\n\u001b[1;32m----> 7\u001b[1;33m                       ResultFormat='JSON')\n\u001b[0m",
      "\u001b[1;32m~\\Miniconda3\\lib\\site-packages\\pybea\\pybea.py\u001b[0m in \u001b[0;36mget_data\u001b[1;34m(UserID, DataSetName, ResultFormat, **params)\u001b[0m\n\u001b[0;32m    199\u001b[0m     \u001b[1;32mif\u001b[0m \u001b[0mDataSetName\u001b[0m \u001b[1;32min\u001b[0m \u001b[0mvalid_dataset_names\u001b[0m\u001b[1;33m:\u001b[0m\u001b[1;33m\u001b[0m\u001b[1;33m\u001b[0m\u001b[0m\n\u001b[0;32m    200\u001b[0m         \u001b[0mtmp_request\u001b[0m \u001b[1;33m=\u001b[0m \u001b[0mapi\u001b[0m\u001b[1;33m.\u001b[0m\u001b[0mDataRequest\u001b[0m\u001b[1;33m(\u001b[0m\u001b[0mUserID\u001b[0m\u001b[1;33m,\u001b[0m \u001b[0mDataSetName\u001b[0m\u001b[1;33m,\u001b[0m \u001b[0mResultFormat\u001b[0m\u001b[1;33m,\u001b[0m \u001b[1;33m**\u001b[0m\u001b[0mparams\u001b[0m\u001b[1;33m)\u001b[0m\u001b[1;33m\u001b[0m\u001b[1;33m\u001b[0m\u001b[0m\n\u001b[1;32m--> 201\u001b[1;33m         \u001b[0mdf\u001b[0m \u001b[1;33m=\u001b[0m \u001b[0mtmp_request\u001b[0m\u001b[1;33m.\u001b[0m\u001b[0mdata\u001b[0m\u001b[1;33m\u001b[0m\u001b[1;33m\u001b[0m\u001b[0m\n\u001b[0m\u001b[0;32m    202\u001b[0m     \u001b[1;32melse\u001b[0m\u001b[1;33m:\u001b[0m\u001b[1;33m\u001b[0m\u001b[1;33m\u001b[0m\u001b[0m\n\u001b[0;32m    203\u001b[0m         \u001b[1;32mraise\u001b[0m \u001b[0mValueError\u001b[0m\u001b[1;33m(\u001b[0m\u001b[1;34m\"Invalid DataSetName requested.\"\u001b[0m\u001b[1;33m)\u001b[0m\u001b[1;33m\u001b[0m\u001b[1;33m\u001b[0m\u001b[0m\n",
      "\u001b[1;32m~\\Miniconda3\\lib\\site-packages\\pybea\\api.py\u001b[0m in \u001b[0;36mdata\u001b[1;34m(self)\u001b[0m\n\u001b[0;32m    367\u001b[0m     \u001b[1;32mdef\u001b[0m \u001b[0mdata\u001b[0m\u001b[1;33m(\u001b[0m\u001b[0mself\u001b[0m\u001b[1;33m)\u001b[0m\u001b[1;33m:\u001b[0m\u001b[1;33m\u001b[0m\u001b[1;33m\u001b[0m\u001b[0m\n\u001b[0;32m    368\u001b[0m         \u001b[1;32mif\u001b[0m \u001b[0mself\u001b[0m\u001b[1;33m[\u001b[0m\u001b[1;34m'ResultFormat'\u001b[0m\u001b[1;33m]\u001b[0m \u001b[1;33m==\u001b[0m \u001b[1;34m'JSON'\u001b[0m\u001b[1;33m:\u001b[0m\u001b[1;33m\u001b[0m\u001b[1;33m\u001b[0m\u001b[0m\n\u001b[1;32m--> 369\u001b[1;33m             \u001b[0mdtypes\u001b[0m \u001b[1;33m=\u001b[0m \u001b[0mself\u001b[0m\u001b[1;33m.\u001b[0m\u001b[0m_json_to_dtypes\u001b[0m\u001b[1;33m(\u001b[0m\u001b[0mself\u001b[0m\u001b[1;33m.\u001b[0m\u001b[0m_json_dimensions\u001b[0m\u001b[1;33m)\u001b[0m\u001b[1;33m\u001b[0m\u001b[1;33m\u001b[0m\u001b[0m\n\u001b[0m\u001b[0;32m    370\u001b[0m             \u001b[0mdf\u001b[0m \u001b[1;33m=\u001b[0m \u001b[0mpd\u001b[0m\u001b[1;33m.\u001b[0m\u001b[0mDataFrame\u001b[0m\u001b[1;33m(\u001b[0m\u001b[0mself\u001b[0m\u001b[1;33m.\u001b[0m\u001b[0m_json_data\u001b[0m\u001b[1;33m)\u001b[0m\u001b[1;33m\u001b[0m\u001b[1;33m\u001b[0m\u001b[0m\n\u001b[0;32m    371\u001b[0m         \u001b[1;32melse\u001b[0m\u001b[1;33m:\u001b[0m\u001b[1;33m\u001b[0m\u001b[1;33m\u001b[0m\u001b[0m\n",
      "\u001b[1;32m~\\Miniconda3\\lib\\site-packages\\pybea\\api.py\u001b[0m in \u001b[0;36m_json_dimensions\u001b[1;34m(self)\u001b[0m\n\u001b[0;32m    346\u001b[0m     \u001b[1;33m@\u001b[0m\u001b[0mproperty\u001b[0m\u001b[1;33m\u001b[0m\u001b[1;33m\u001b[0m\u001b[0m\n\u001b[0;32m    347\u001b[0m     \u001b[1;32mdef\u001b[0m \u001b[0m_json_dimensions\u001b[0m\u001b[1;33m(\u001b[0m\u001b[0mself\u001b[0m\u001b[1;33m)\u001b[0m\u001b[1;33m:\u001b[0m\u001b[1;33m\u001b[0m\u001b[1;33m\u001b[0m\u001b[0m\n\u001b[1;32m--> 348\u001b[1;33m         \u001b[1;32mreturn\u001b[0m \u001b[0mself\u001b[0m\u001b[1;33m.\u001b[0m\u001b[0mresults\u001b[0m\u001b[1;33m[\u001b[0m\u001b[1;34m'Dimensions'\u001b[0m\u001b[1;33m]\u001b[0m\u001b[1;33m\u001b[0m\u001b[1;33m\u001b[0m\u001b[0m\n\u001b[0m\u001b[0;32m    349\u001b[0m \u001b[1;33m\u001b[0m\u001b[0m\n\u001b[0;32m    350\u001b[0m     \u001b[1;33m@\u001b[0m\u001b[0mproperty\u001b[0m\u001b[1;33m\u001b[0m\u001b[1;33m\u001b[0m\u001b[0m\n",
      "\u001b[1;32m~\\Miniconda3\\lib\\site-packages\\pybea\\api.py\u001b[0m in \u001b[0;36mresults\u001b[1;34m(self)\u001b[0m\n\u001b[0;32m     88\u001b[0m     \u001b[1;32mdef\u001b[0m \u001b[0mresults\u001b[0m\u001b[1;33m(\u001b[0m\u001b[0mself\u001b[0m\u001b[1;33m)\u001b[0m\u001b[1;33m:\u001b[0m\u001b[1;33m\u001b[0m\u001b[1;33m\u001b[0m\u001b[0m\n\u001b[0;32m     89\u001b[0m         \u001b[1;32mif\u001b[0m \u001b[0mself\u001b[0m\u001b[1;33m[\u001b[0m\u001b[1;34m'ResultFormat'\u001b[0m\u001b[1;33m]\u001b[0m \u001b[1;33m==\u001b[0m \u001b[1;34m'JSON'\u001b[0m\u001b[1;33m:\u001b[0m\u001b[1;33m\u001b[0m\u001b[1;33m\u001b[0m\u001b[0m\n\u001b[1;32m---> 90\u001b[1;33m             \u001b[0mtmp_results\u001b[0m \u001b[1;33m=\u001b[0m \u001b[0mself\u001b[0m\u001b[1;33m.\u001b[0m\u001b[0m_json_results\u001b[0m\u001b[1;33m\u001b[0m\u001b[1;33m\u001b[0m\u001b[0m\n\u001b[0m\u001b[0;32m     91\u001b[0m         \u001b[1;32melse\u001b[0m\u001b[1;33m:\u001b[0m\u001b[1;33m\u001b[0m\u001b[1;33m\u001b[0m\u001b[0m\n\u001b[0;32m     92\u001b[0m             \u001b[0mtmp_results\u001b[0m \u001b[1;33m=\u001b[0m \u001b[0mself\u001b[0m\u001b[1;33m.\u001b[0m\u001b[0m_xml_results\u001b[0m\u001b[1;33m\u001b[0m\u001b[1;33m\u001b[0m\u001b[0m\n",
      "\u001b[1;32m~\\Miniconda3\\lib\\site-packages\\pybea\\api.py\u001b[0m in \u001b[0;36m_json_results\u001b[1;34m(self)\u001b[0m\n\u001b[0;32m     55\u001b[0m     \u001b[1;32mdef\u001b[0m \u001b[0m_json_results\u001b[0m\u001b[1;33m(\u001b[0m\u001b[0mself\u001b[0m\u001b[1;33m)\u001b[0m\u001b[1;33m:\u001b[0m\u001b[1;33m\u001b[0m\u001b[1;33m\u001b[0m\u001b[0m\n\u001b[0;32m     56\u001b[0m         \u001b[0mraw_json\u001b[0m \u001b[1;33m=\u001b[0m \u001b[0mself\u001b[0m\u001b[1;33m.\u001b[0m\u001b[0m_json_content\u001b[0m\u001b[1;33m\u001b[0m\u001b[1;33m\u001b[0m\u001b[0m\n\u001b[1;32m---> 57\u001b[1;33m         \u001b[1;32mreturn\u001b[0m \u001b[0mraw_json\u001b[0m\u001b[1;33m[\u001b[0m\u001b[1;34m'BEAAPI'\u001b[0m\u001b[1;33m]\u001b[0m\u001b[1;33m[\u001b[0m\u001b[1;34m'Results'\u001b[0m\u001b[1;33m]\u001b[0m\u001b[1;33m\u001b[0m\u001b[1;33m\u001b[0m\u001b[0m\n\u001b[0m\u001b[0;32m     58\u001b[0m \u001b[1;33m\u001b[0m\u001b[0m\n\u001b[0;32m     59\u001b[0m     \u001b[1;33m@\u001b[0m\u001b[0mproperty\u001b[0m\u001b[1;33m\u001b[0m\u001b[1;33m\u001b[0m\u001b[0m\n",
      "\u001b[1;31mKeyError\u001b[0m: 'Results'"
     ]
    }
   ],
   "source": [
    "data = pybea.get_data(USER_ID,\n",
    "                      DataSetName='RegionalIncome',\n",
    "                      TableName='CA1',\n",
    "                      LineCode=1,\n",
    "                      GeoFips='COUNTY',\n",
    "                      Year=['2012', '2013'],\n",
    "                      ResultFormat='JSON')"
   ]
  },
  {
   "cell_type": "code",
   "execution_count": null,
   "metadata": {},
   "outputs": [],
   "source": [
    "data.head()"
   ]
  },
  {
   "cell_type": "code",
   "execution_count": null,
   "metadata": {},
   "outputs": [],
   "source": [
    "data.tail()"
   ]
  },
  {
   "cell_type": "markdown",
   "metadata": {},
   "source": [
    "# [DEPRECATED] RegionalProduct\n",
    "\n",
    "## Example Usage\n",
    "\n",
    "Real GDP for all years for all MSAs, in JSON format"
   ]
  },
  {
   "cell_type": "code",
   "execution_count": 16,
   "metadata": {},
   "outputs": [
    {
     "ename": "AttributeError",
     "evalue": "'NoneType' object has no attribute 'findall'",
     "output_type": "error",
     "traceback": [
      "\u001b[1;31m---------------------------------------------------------------------------\u001b[0m",
      "\u001b[1;31mAttributeError\u001b[0m                            Traceback (most recent call last)",
      "\u001b[1;32m<ipython-input-16-000bf0285256>\u001b[0m in \u001b[0;36m<module>\u001b[1;34m\u001b[0m\n\u001b[0;32m      5\u001b[0m                       \u001b[0mGeoFips\u001b[0m\u001b[1;33m=\u001b[0m\u001b[1;34m\"MSA\"\u001b[0m\u001b[1;33m,\u001b[0m\u001b[1;33m\u001b[0m\u001b[1;33m\u001b[0m\u001b[0m\n\u001b[0;32m      6\u001b[0m                       \u001b[0mYear\u001b[0m\u001b[1;33m=\u001b[0m\u001b[1;34m\"ALL\"\u001b[0m\u001b[1;33m,\u001b[0m\u001b[1;33m\u001b[0m\u001b[1;33m\u001b[0m\u001b[0m\n\u001b[1;32m----> 7\u001b[1;33m                       ResultFormat='XML')\n\u001b[0m",
      "\u001b[1;32m~\\Miniconda3\\lib\\site-packages\\pybea\\pybea.py\u001b[0m in \u001b[0;36mget_data\u001b[1;34m(UserID, DataSetName, ResultFormat, **params)\u001b[0m\n\u001b[0;32m    199\u001b[0m     \u001b[1;32mif\u001b[0m \u001b[0mDataSetName\u001b[0m \u001b[1;32min\u001b[0m \u001b[0mvalid_dataset_names\u001b[0m\u001b[1;33m:\u001b[0m\u001b[1;33m\u001b[0m\u001b[1;33m\u001b[0m\u001b[0m\n\u001b[0;32m    200\u001b[0m         \u001b[0mtmp_request\u001b[0m \u001b[1;33m=\u001b[0m \u001b[0mapi\u001b[0m\u001b[1;33m.\u001b[0m\u001b[0mDataRequest\u001b[0m\u001b[1;33m(\u001b[0m\u001b[0mUserID\u001b[0m\u001b[1;33m,\u001b[0m \u001b[0mDataSetName\u001b[0m\u001b[1;33m,\u001b[0m \u001b[0mResultFormat\u001b[0m\u001b[1;33m,\u001b[0m \u001b[1;33m**\u001b[0m\u001b[0mparams\u001b[0m\u001b[1;33m)\u001b[0m\u001b[1;33m\u001b[0m\u001b[1;33m\u001b[0m\u001b[0m\n\u001b[1;32m--> 201\u001b[1;33m         \u001b[0mdf\u001b[0m \u001b[1;33m=\u001b[0m \u001b[0mtmp_request\u001b[0m\u001b[1;33m.\u001b[0m\u001b[0mdata\u001b[0m\u001b[1;33m\u001b[0m\u001b[1;33m\u001b[0m\u001b[0m\n\u001b[0m\u001b[0;32m    202\u001b[0m     \u001b[1;32melse\u001b[0m\u001b[1;33m:\u001b[0m\u001b[1;33m\u001b[0m\u001b[1;33m\u001b[0m\u001b[0m\n\u001b[0;32m    203\u001b[0m         \u001b[1;32mraise\u001b[0m \u001b[0mValueError\u001b[0m\u001b[1;33m(\u001b[0m\u001b[1;34m\"Invalid DataSetName requested.\"\u001b[0m\u001b[1;33m)\u001b[0m\u001b[1;33m\u001b[0m\u001b[1;33m\u001b[0m\u001b[0m\n",
      "\u001b[1;32m~\\Miniconda3\\lib\\site-packages\\pybea\\api.py\u001b[0m in \u001b[0;36mdata\u001b[1;34m(self)\u001b[0m\n\u001b[0;32m    370\u001b[0m             \u001b[0mdf\u001b[0m \u001b[1;33m=\u001b[0m \u001b[0mpd\u001b[0m\u001b[1;33m.\u001b[0m\u001b[0mDataFrame\u001b[0m\u001b[1;33m(\u001b[0m\u001b[0mself\u001b[0m\u001b[1;33m.\u001b[0m\u001b[0m_json_data\u001b[0m\u001b[1;33m)\u001b[0m\u001b[1;33m\u001b[0m\u001b[1;33m\u001b[0m\u001b[0m\n\u001b[0;32m    371\u001b[0m         \u001b[1;32melse\u001b[0m\u001b[1;33m:\u001b[0m\u001b[1;33m\u001b[0m\u001b[1;33m\u001b[0m\u001b[0m\n\u001b[1;32m--> 372\u001b[1;33m             \u001b[0mdtypes\u001b[0m \u001b[1;33m=\u001b[0m \u001b[0mself\u001b[0m\u001b[1;33m.\u001b[0m\u001b[0m_elements_to_dtypes\u001b[0m\u001b[1;33m(\u001b[0m\u001b[0mself\u001b[0m\u001b[1;33m.\u001b[0m\u001b[0m_xml_dimensions\u001b[0m\u001b[1;33m)\u001b[0m\u001b[1;33m\u001b[0m\u001b[1;33m\u001b[0m\u001b[0m\n\u001b[0m\u001b[0;32m    373\u001b[0m             \u001b[0mdf\u001b[0m \u001b[1;33m=\u001b[0m \u001b[0mself\u001b[0m\u001b[1;33m.\u001b[0m\u001b[0m_elements_to_dataframe\u001b[0m\u001b[1;33m(\u001b[0m\u001b[0mself\u001b[0m\u001b[1;33m.\u001b[0m\u001b[0m_xml_data\u001b[0m\u001b[1;33m,\u001b[0m \u001b[0mdtypes\u001b[0m\u001b[1;33m.\u001b[0m\u001b[0mkeys\u001b[0m\u001b[1;33m(\u001b[0m\u001b[1;33m)\u001b[0m\u001b[1;33m)\u001b[0m\u001b[1;33m\u001b[0m\u001b[1;33m\u001b[0m\u001b[0m\n\u001b[0;32m    374\u001b[0m \u001b[1;33m\u001b[0m\u001b[0m\n",
      "\u001b[1;32m~\\Miniconda3\\lib\\site-packages\\pybea\\api.py\u001b[0m in \u001b[0;36m_xml_dimensions\u001b[1;34m(self)\u001b[0m\n\u001b[0;32m    358\u001b[0m     \u001b[1;33m@\u001b[0m\u001b[0mproperty\u001b[0m\u001b[1;33m\u001b[0m\u001b[1;33m\u001b[0m\u001b[0m\n\u001b[0;32m    359\u001b[0m     \u001b[1;32mdef\u001b[0m \u001b[0m_xml_dimensions\u001b[0m\u001b[1;33m(\u001b[0m\u001b[0mself\u001b[0m\u001b[1;33m)\u001b[0m\u001b[1;33m:\u001b[0m\u001b[1;33m\u001b[0m\u001b[1;33m\u001b[0m\u001b[0m\n\u001b[1;32m--> 360\u001b[1;33m         \u001b[1;32mreturn\u001b[0m \u001b[0mself\u001b[0m\u001b[1;33m.\u001b[0m\u001b[0mresults\u001b[0m\u001b[1;33m.\u001b[0m\u001b[0mfindall\u001b[0m\u001b[1;33m(\u001b[0m\u001b[1;34m'Dimensions'\u001b[0m\u001b[1;33m)\u001b[0m\u001b[1;33m\u001b[0m\u001b[1;33m\u001b[0m\u001b[0m\n\u001b[0m\u001b[0;32m    361\u001b[0m \u001b[1;33m\u001b[0m\u001b[0m\n\u001b[0;32m    362\u001b[0m     \u001b[1;33m@\u001b[0m\u001b[0mproperty\u001b[0m\u001b[1;33m\u001b[0m\u001b[1;33m\u001b[0m\u001b[0m\n",
      "\u001b[1;31mAttributeError\u001b[0m: 'NoneType' object has no attribute 'findall'"
     ]
    }
   ],
   "source": [
    "data = pybea.get_data(USER_ID,\n",
    "                      DataSetName='RegionalProduct',\n",
    "                      Component=\"RGDP_MAN\",\n",
    "                      IndustryId=1,\n",
    "                      GeoFips=\"MSA\",\n",
    "                      Year=\"ALL\",\n",
    "                      ResultFormat='XML')"
   ]
  },
  {
   "cell_type": "code",
   "execution_count": null,
   "metadata": {},
   "outputs": [],
   "source": [
    "data.head()"
   ]
  },
  {
   "cell_type": "code",
   "execution_count": null,
   "metadata": {},
   "outputs": [],
   "source": [
    "data.tail()"
   ]
  },
  {
   "cell_type": "markdown",
   "metadata": {},
   "source": [
    "## Example Usage\n",
    "\n",
    "GDP for 2012 and 2013 for selected Southeast states, for the Retail Trade industry."
   ]
  },
  {
   "cell_type": "code",
   "execution_count": null,
   "metadata": {},
   "outputs": [],
   "source": [
    "southeast_states = [\"01000\", \"05000\", \"12000\", \"13000\", \"21000\", \"22000\", \n",
    "                    \"28000\", \"37000\", \"45000\", \"47000\", \"51000\", \"54000\"]\n",
    "data = pybea.get_data(USER_ID,\n",
    "                      DataSetName='RegionalProduct',\n",
    "                      Component=\"GDP_sAN\",\n",
    "                      IndustryId=35,\n",
    "                      GeoFips=southeast_states,\n",
    "                      Year=[\"2013\", \"2013\"],\n",
    "                      ResultFormat='XML')"
   ]
  },
  {
   "cell_type": "code",
   "execution_count": null,
   "metadata": {},
   "outputs": [],
   "source": [
    "data.head()"
   ]
  },
  {
   "cell_type": "code",
   "execution_count": null,
   "metadata": {},
   "outputs": [],
   "source": [
    "data.tail()"
   ]
  },
  {
   "cell_type": "markdown",
   "metadata": {},
   "source": [
    "# InputOutput\n",
    "\n",
    "The Input-Output Statistics are contained within a dataset called InputOutput. BEA's industry accounts are used extensively by policymakers and businesses to understand industry interactions, productivity trends, and the changing structure of the U.S. economy. The input-output accounts provide a detailed view of the interrelationships between U.S. producers and users. \n",
    "\n",
    "## Example Usage\n",
    "\n",
    "Data from The Use of Commodities by Industries, Before Redefinitions (Producer’s Prices) sector level table for years 2010, 2011, and 2012."
   ]
  },
  {
   "cell_type": "code",
   "execution_count": null,
   "metadata": {},
   "outputs": [],
   "source": [
    "data = pybea.get_data(USER_ID,\n",
    "                      DataSetName='InputOutput',\n",
    "                      TableID=2,\n",
    "                      Year=['2010', '2011', '2012', '2013'],\n",
    "                      ResultFormat='JSON')"
   ]
  },
  {
   "cell_type": "code",
   "execution_count": null,
   "metadata": {},
   "outputs": [],
   "source": [
    "data.head()"
   ]
  },
  {
   "cell_type": "code",
   "execution_count": null,
   "metadata": {},
   "outputs": [],
   "source": [
    "data.tail()"
   ]
  },
  {
   "cell_type": "markdown",
   "metadata": {},
   "source": [
    "## Example Usage\n",
    "\n",
    "Data for 2007 from The Make of Commodities by Industries, Before Redefinitions sector and summary level tables."
   ]
  },
  {
   "cell_type": "code",
   "execution_count": null,
   "metadata": {},
   "outputs": [],
   "source": [
    "data = pybea.get_data(USER_ID,\n",
    "                      DataSetName='InputOutput',\n",
    "                      TableID=[46, 47],\n",
    "                      Year='2007',\n",
    "                      ResultFormat='JSON')"
   ]
  },
  {
   "cell_type": "code",
   "execution_count": null,
   "metadata": {},
   "outputs": [],
   "source": [
    "data.head()"
   ]
  },
  {
   "cell_type": "code",
   "execution_count": null,
   "metadata": {},
   "outputs": [],
   "source": [
    "data.tail()"
   ]
  },
  {
   "cell_type": "code",
   "execution_count": null,
   "metadata": {},
   "outputs": [],
   "source": []
  }
 ],
 "metadata": {
  "kernelspec": {
   "display_name": "Python 3",
   "language": "python",
   "name": "python3"
  },
  "language_info": {
   "codemirror_mode": {
    "name": "ipython",
    "version": 3
   },
   "file_extension": ".py",
   "mimetype": "text/x-python",
   "name": "python",
   "nbconvert_exporter": "python",
   "pygments_lexer": "ipython3",
   "version": "3.7.4"
  }
 },
 "nbformat": 4,
 "nbformat_minor": 1
}
